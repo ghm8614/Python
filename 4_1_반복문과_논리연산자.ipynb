{
  "nbformat": 4,
  "nbformat_minor": 0,
  "metadata": {
    "colab": {
      "name": "4-1 반복문과 논리연산자.ipynb",
      "provenance": [],
      "collapsed_sections": [],
      "toc_visible": true,
      "authorship_tag": "ABX9TyMjBWKkwLKM0OlHoyuitbd4",
      "include_colab_link": true
    },
    "kernelspec": {
      "name": "python3",
      "display_name": "Python 3"
    }
  },
  "cells": [
    {
      "cell_type": "markdown",
      "metadata": {
        "id": "view-in-github",
        "colab_type": "text"
      },
      "source": [
        "<a href=\"https://colab.research.google.com/github/ghm8614/Python/blob/main/4_1_%EB%B0%98%EB%B3%B5%EB%AC%B8%EA%B3%BC_%EB%85%BC%EB%A6%AC%EC%97%B0%EC%82%B0%EC%9E%90.ipynb\" target=\"_parent\"><img src=\"https://colab.research.google.com/assets/colab-badge.svg\" alt=\"Open In Colab\"/></a>"
      ]
    },
    {
      "cell_type": "markdown",
      "metadata": {
        "id": "ZC03P3rlSAV5"
      },
      "source": [
        "# 4-1 반복문과 논리연산자"
      ]
    },
    {
      "cell_type": "code",
      "metadata": {
        "colab": {
          "base_uri": "https://localhost:8080/"
        },
        "id": "IvNloAUtShgk",
        "outputId": "88788182-f18a-48d6-b206-f546819dfeb2"
      },
      "source": [
        "count = 0\r\n",
        "\r\n",
        "while count < 5 :\r\n",
        "  print('재미있는 파이썬')\r\n",
        "  count = count + 1\r\n",
        "\r\n",
        "print('count=', count)"
      ],
      "execution_count": null,
      "outputs": [
        {
          "output_type": "stream",
          "text": [
            "재미있는 파이썬\n",
            "재미있는 파이썬\n",
            "재미있는 파이썬\n",
            "재미있는 파이썬\n",
            "재미있는 파이썬\n",
            "count= 5\n"
          ],
          "name": "stdout"
        }
      ]
    },
    {
      "cell_type": "markdown",
      "metadata": {
        "id": "SZ-JTvpKpJe-"
      },
      "source": [
        "## Guess the number game\r\n",
        "\r\n",
        "> while문\r\n",
        "\r\n"
      ]
    },
    {
      "cell_type": "code",
      "metadata": {
        "colab": {
          "base_uri": "https://localhost:8080/"
        },
        "id": "5zxPWftbShty",
        "outputId": "dfcc89a8-380c-4322-c645-91c63fe69947"
      },
      "source": [
        "import random\r\n",
        "print('Hello! What is your name?')\r\n",
        "myName = input()\r\n",
        "\r\n",
        "number = random.randint(1,20)\r\n",
        "print('Well, ' + myName + ', I am thinking of a number between 1 and 20.')\r\n",
        "\r\n",
        "guess = 0   # while문 실행 전에, 초기값을 줘야한다\r\n",
        "guessesTaken = 0\r\n",
        "while guess != number and guessesTaken < 6:\r\n",
        "  guessesTaken = guessesTaken + 1\r\n",
        "\r\n",
        "  print('Take a guess.')\r\n",
        "  guess = input()\r\n",
        "  guess = int(guess)\r\n",
        " \r\n",
        "  if guess < number:\r\n",
        "    print('Your guess in trial', guessesTaken, 'is too low.')\r\n",
        "  if guess > number:\r\n",
        "    print('Your guess in trial', guessesTaken, 'is too high')\r\n",
        "  if guess == number:\r\n",
        "    print('Good job, '+myName+'! You guessed my number in',guessesTaken,'guesses!')\r\n",
        "\r\n",
        "if guess != number:\r\n",
        "  print('Nope. The number I was thinking of was', number,'.')"
      ],
      "execution_count": null,
      "outputs": [
        {
          "output_type": "stream",
          "text": [
            "Hello! What is your name?\n",
            "천수병\n",
            "Well, 천수병, I am thinking of a number between 1 and 20.\n",
            "Take a guess.\n",
            "10\n",
            "Your guess in trial 1 is too high\n",
            "Take a guess.\n",
            "5\n",
            "Your guess in trial 2 is too low.\n",
            "Take a guess.\n",
            "8\n",
            "Your guess in trial 3 is too high\n",
            "Take a guess.\n",
            "7\n",
            "Your guess in trial 4 is too high\n",
            "Take a guess.\n",
            "6\n",
            "Good job, 천수병! You guessed my number in 5 guesses!\n"
          ],
          "name": "stdout"
        }
      ]
    },
    {
      "cell_type": "markdown",
      "metadata": {
        "id": "meedd8VqSceh"
      },
      "source": [
        "## 실습 1: 나무찍기"
      ]
    },
    {
      "cell_type": "code",
      "metadata": {
        "colab": {
          "base_uri": "https://localhost:8080/"
        },
        "id": "d_a2O4eUSbLX",
        "outputId": "55513b36-daf2-4cac-a8c8-70730e2ed2a0"
      },
      "source": [
        "count = 1\r\n",
        "print('열 번 찍어 안 넘어가는 나무 없다!!')\r\n",
        "print()\r\n",
        "\r\n",
        "while count <= 10:\r\n",
        "  print('나무를', count, '번 찍었습니다.')\r\n",
        "  count = count + 1\r\n",
        "\r\n",
        "print()\r\n",
        "print('간다~간다~넘어간다!!!')  "
      ],
      "execution_count": null,
      "outputs": [
        {
          "output_type": "stream",
          "text": [
            "열 번 찍어 안 넘어가는 나무 없다!!\n",
            "\n",
            "나무를 1 번 찍었습니다.\n",
            "나무를 2 번 찍었습니다.\n",
            "나무를 3 번 찍었습니다.\n",
            "나무를 4 번 찍었습니다.\n",
            "나무를 5 번 찍었습니다.\n",
            "나무를 6 번 찍었습니다.\n",
            "나무를 7 번 찍었습니다.\n",
            "나무를 8 번 찍었습니다.\n",
            "나무를 9 번 찍었습니다.\n",
            "나무를 10 번 찍었습니다.\n",
            "\n",
            "간다~간다~넘어간다!!!\n"
          ],
          "name": "stdout"
        }
      ]
    },
    {
      "cell_type": "markdown",
      "metadata": {
        "id": "zy-mxNVlDJ6-"
      },
      "source": [
        "## 실습 2 : 티끌 모아 태산"
      ]
    },
    {
      "cell_type": "code",
      "metadata": {
        "id": "z3N7IS4oDKJv"
      },
      "source": [
        "money = 100\r\n",
        "count = 1\r\n",
        "print('티끌 모아 태산!!!')\r\n",
        "print()\r\n",
        "\r\n",
        "while money <= 1000:\r\n",
        "  print(('땡그랑, ' * count) +'동전 ' + str(money) + '원을 모았습니다.')\r\n",
        "  money = money + 100\r\n",
        "  count = count + 1\r\n",
        "\r\n",
        "print()\r\n",
        "print('산다.산다. 집 산다!!!')"
      ],
      "execution_count": null,
      "outputs": []
    },
    {
      "cell_type": "code",
      "metadata": {
        "colab": {
          "base_uri": "https://localhost:8080/"
        },
        "id": "crEvwfyCosak",
        "outputId": "3e7b60b7-089e-4e54-9a00-c8f40faf3d18"
      },
      "source": [
        "# 복잡하게 money 변수를 추가하지 않아도됨\r\n",
        "print('티끌 모아 태산!!!')\r\n",
        "print()\r\n",
        "\r\n",
        "count = 1\r\n",
        "while count <= 10:\r\n",
        "  print(('땡그랑, ' * count) +'동전 ' + str(100 * count) + '원을 모았습니다.')\r\n",
        "  count = count + 1\r\n",
        "\r\n",
        "print()\r\n",
        "print('산다.산다. 집 산다!!!')"
      ],
      "execution_count": null,
      "outputs": [
        {
          "output_type": "stream",
          "text": [
            "티끌 모아 태산!!!\n",
            "\n",
            "땡그랑, 동전 100원을 모았습니다.\n",
            "땡그랑, 땡그랑, 동전 200원을 모았습니다.\n",
            "땡그랑, 땡그랑, 땡그랑, 동전 300원을 모았습니다.\n",
            "땡그랑, 땡그랑, 땡그랑, 땡그랑, 동전 400원을 모았습니다.\n",
            "땡그랑, 땡그랑, 땡그랑, 땡그랑, 땡그랑, 동전 500원을 모았습니다.\n",
            "땡그랑, 땡그랑, 땡그랑, 땡그랑, 땡그랑, 땡그랑, 동전 600원을 모았습니다.\n",
            "땡그랑, 땡그랑, 땡그랑, 땡그랑, 땡그랑, 땡그랑, 땡그랑, 동전 700원을 모았습니다.\n",
            "땡그랑, 땡그랑, 땡그랑, 땡그랑, 땡그랑, 땡그랑, 땡그랑, 땡그랑, 동전 800원을 모았습니다.\n",
            "땡그랑, 땡그랑, 땡그랑, 땡그랑, 땡그랑, 땡그랑, 땡그랑, 땡그랑, 땡그랑, 동전 900원을 모았습니다.\n",
            "땡그랑, 땡그랑, 땡그랑, 땡그랑, 땡그랑, 땡그랑, 땡그랑, 땡그랑, 땡그랑, 땡그랑, 동전 1000원을 모았습니다.\n",
            "\n",
            "산다.산다. 집 산다!!!\n"
          ],
          "name": "stdout"
        }
      ]
    },
    {
      "cell_type": "markdown",
      "metadata": {
        "id": "_b4rnS32DKZJ"
      },
      "source": [
        "## 실습 3 : 로또번호 생성 프로그램"
      ]
    },
    {
      "cell_type": "code",
      "metadata": {
        "colab": {
          "base_uri": "https://localhost:8080/"
        },
        "id": "krbRpHrVDKnJ",
        "outputId": "3c669e77-282d-490e-e6a3-cf7e75bace53"
      },
      "source": [
        "import random\r\n",
        "print('로또번호 생성기 프로그램')\r\n",
        "\r\n",
        "count = 1  # count = 0, \r\n",
        "while count <= 6:  # while count < 6: 이렇게 해도됨\r\n",
        "  lotto_num = random.randint(1,45)    # while문 밖에 쓰지않게 주의\r\n",
        "  print(str(count) + '번째 번호는', str(lotto_num) + '입니다.')\r\n",
        "  count = count + 1\r\n",
        "  \r\n",
        "print()\r\n",
        "print()\r\n",
        "print('산다.산다.집 산다!!!')"
      ],
      "execution_count": null,
      "outputs": [
        {
          "output_type": "stream",
          "text": [
            "로또번호 생성기 프로그램\n",
            "1번째 번호는 25입니다.\n",
            "2번째 번호는 3입니다.\n",
            "3번째 번호는 26입니다.\n",
            "4번째 번호는 25입니다.\n",
            "5번째 번호는 33입니다.\n",
            "6번째 번호는 31입니다.\n",
            "\n",
            "\n",
            "산다.산다.집 산다!!!\n"
          ],
          "name": "stdout"
        }
      ]
    },
    {
      "cell_type": "markdown",
      "metadata": {
        "id": "OqigVoC_DKz5"
      },
      "source": [
        "## 실습 4-1 : 로그인 프로그램1"
      ]
    },
    {
      "cell_type": "code",
      "metadata": {
        "id": "TQPZjhnpxn4r"
      },
      "source": [
        "password = ''  \r\n",
        "\r\n",
        "while password != 'pythonisfun':\r\n",
        "  print('암호를 입력하세요.')\r\n",
        "  password = input()\r\n",
        "\r\n",
        "print('로그인 성공') "
      ],
      "execution_count": null,
      "outputs": []
    },
    {
      "cell_type": "markdown",
      "metadata": {
        "id": "aG46W3PzDLNs"
      },
      "source": [
        "## 실습 4-2 : 로그인 프로그램2"
      ]
    },
    {
      "cell_type": "code",
      "metadata": {
        "id": "xGxzsngW1ps1"
      },
      "source": [
        "trial_count = 0\r\n",
        "\r\n",
        "# while true로 계속 반복시켜 놓고, 원하는 답이 나왔을 경우에 break!\r\n",
        "while True :\r\n",
        "  print('암호를 입력하세요.')\r\n",
        "  trial_count = trial_count + 1\r\n",
        "  password = input()\r\n",
        "  if password == 'pythonisfun' :\r\n",
        "    print('로그인 성공')\r\n",
        "    break\r\n",
        "  if trial_count >= 5:\r\n",
        "    print('5회 틀렸습니다. 로그인에 실패하셨습니다.')\r\n",
        "    break  "
      ],
      "execution_count": null,
      "outputs": []
    },
    {
      "cell_type": "markdown",
      "metadata": {
        "id": "jNax22XJLJFe"
      },
      "source": [
        "## 실습 5-1 : 구구단 출력1"
      ]
    },
    {
      "cell_type": "code",
      "metadata": {
        "colab": {
          "base_uri": "https://localhost:8080/"
        },
        "id": "kYjtaE5m4ECI",
        "outputId": "1982ca52-4024-44b2-ae22-4c048d1f384e"
      },
      "source": [
        "dan = input('원하는 단은:')\r\n",
        "dan = int(dan)\r\n",
        "\r\n",
        "count = 1\r\n",
        "while count <= 9:\r\n",
        "  print(str(dan) + '*' + str(count) + '=' + str(dan * count))\r\n",
        "  count = count + 1"
      ],
      "execution_count": null,
      "outputs": [
        {
          "output_type": "stream",
          "text": [
            "원하는 단은:9\n",
            "9*1=9\n",
            "9*2=18\n",
            "9*3=27\n",
            "9*4=36\n",
            "9*5=45\n",
            "9*6=54\n",
            "9*7=63\n",
            "9*8=72\n",
            "9*9=81\n"
          ],
          "name": "stdout"
        }
      ]
    },
    {
      "cell_type": "markdown",
      "metadata": {
        "id": "--0iUaKNPYvE"
      },
      "source": [
        "## 실습 5-2 : 구구단 출력하기2"
      ]
    },
    {
      "cell_type": "code",
      "metadata": {
        "id": "_QD_B3DfPY8k"
      },
      "source": [
        "dan = 2\r\n",
        "\r\n",
        "while dan <= 9:\r\n",
        "\r\n",
        "  count = 1   # 하나의 단을 시작하면, count를 1로 초기화\r\n",
        "  print(str(dan) + '단')\r\n",
        "\r\n",
        "  while count <= 9:   # dan은 고정상태에서, count를 1~9까지 증가시키면서 구구단출력\r\n",
        "    print(str(dan) + '*' + str(count) + '=' + str(dan * count))\r\n",
        "    count = count + 1\r\n",
        "  \r\n",
        "  dan = dan + 1   # 다음 단으로\r\n",
        "  print()"
      ],
      "execution_count": null,
      "outputs": []
    },
    {
      "cell_type": "markdown",
      "metadata": {
        "id": "F4ZPWhAQPZOv"
      },
      "source": [
        "## 실습 6 : 입력 받은 수까지 합 구하기"
      ]
    },
    {
      "cell_type": "code",
      "metadata": {
        "colab": {
          "base_uri": "https://localhost:8080/"
        },
        "id": "YslWR0G78hHY",
        "outputId": "2a089609-f291-467a-ba41-eab19747e053"
      },
      "source": [
        "number = input('숫자를 입력하세요 : ')\r\n",
        "number = int(number)\r\n",
        "\r\n",
        "sum = 0\r\n",
        "\r\n",
        "# 100부터 1까지 거꾸로 더하기\r\n",
        "while (number > 0) :\r\n",
        "  sum = sum + number\r\n",
        "  number = number - 1\r\n",
        "\r\n",
        "print('합 :', sum)"
      ],
      "execution_count": null,
      "outputs": [
        {
          "output_type": "stream",
          "text": [
            "숫자를 입력하세요 : 100\n",
            "합 : 5050\n"
          ],
          "name": "stdout"
        }
      ]
    }
  ]
}