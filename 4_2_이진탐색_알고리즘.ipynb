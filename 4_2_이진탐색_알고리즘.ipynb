{
  "nbformat": 4,
  "nbformat_minor": 0,
  "metadata": {
    "colab": {
      "name": "4-2 이진탐색 알고리즘.ipynb",
      "provenance": [],
      "collapsed_sections": [],
      "authorship_tag": "ABX9TyPMHqO7UqMVewQv9bJaOL8/",
      "include_colab_link": true
    },
    "kernelspec": {
      "name": "python3",
      "display_name": "Python 3"
    }
  },
  "cells": [
    {
      "cell_type": "markdown",
      "metadata": {
        "id": "view-in-github",
        "colab_type": "text"
      },
      "source": [
        "<a href=\"https://colab.research.google.com/github/ghm8614/Python/blob/main/4_2_%EC%9D%B4%EC%A7%84%ED%83%90%EC%83%89_%EC%95%8C%EA%B3%A0%EB%A6%AC%EC%A6%98.ipynb\" target=\"_parent\"><img src=\"https://colab.research.google.com/assets/colab-badge.svg\" alt=\"Open In Colab\"/></a>"
      ]
    },
    {
      "cell_type": "markdown",
      "metadata": {
        "id": "0g9-va26SlMN"
      },
      "source": [
        "# 4-2 이진탐색 알고리즘"
      ]
    },
    {
      "cell_type": "code",
      "metadata": {
        "id": "cF1Rg3ZpSqi8"
      },
      "source": [
        "# 데이터 값이 변하는 값은 항상 변수를 활용해야한다!!"
      ],
      "execution_count": null,
      "outputs": []
    },
    {
      "cell_type": "markdown",
      "metadata": {
        "id": "yw933_-dNvae"
      },
      "source": [
        "## Guess the number game\r\n",
        "\r\n",
        "> 이진탐색 알고리즘\r\n",
        "\r\n"
      ]
    },
    {
      "cell_type": "code",
      "metadata": {
        "id": "ipWgTlSQSqmV",
        "colab": {
          "base_uri": "https://localhost:8080/"
        },
        "outputId": "58d22f6e-d328-411a-f6fd-730edba938d6"
      },
      "source": [
        "print('당신이 생각하는 숫자를 맞히겠습니다.')\r\n",
        "print()\r\n",
        "print('1부터 1000가운데 숫자 하나를 생각하세요.')\r\n",
        "print('10 번 안에 당신이 생각하고 있는 숫자를 맞힐 수 있습니다.')\r\n",
        "print('숫자를 생각하셨으면 비밀리에 메모해 두고 enter를 누르세요.')\r\n",
        "print()\r\n",
        "myNum = input()\r\n",
        "myNum = int(myNum)\r\n",
        "\r\n",
        "Start_value = 1\r\n",
        "End_value = 1000\r\n",
        "count = 0\r\n",
        "guess = 0\r\n",
        "\r\n",
        "while guess != myNum and count < 10:\r\n",
        "  guess = int((Start_value + End_value)/2)\r\n",
        "  count = count + 1\r\n",
        " \r\n",
        "  yn_answer = input('Trial '+ str(count) + '. 당신이 생각하고 있는 숫자는 ' + str(guess) + ' 입니다.Yes or no?')\r\n",
        "  \r\n",
        "  if yn_answer == 'no' or yn_answer == 'No':\r\n",
        "    hl_answer = input('Oops! 내가 예측한 숫자가 크나요 작나요(High or low?')\r\n",
        "    print()\r\n",
        "\r\n",
        "    if hl_answer == 'high' or hl_answer == 'High':  \r\n",
        "      End_value = guess + 1\r\n",
        "    if hl_answer == 'low' or hl_answer == 'Low':\r\n",
        "      Start_value = guess + 1\r\n",
        "             \r\n",
        "  if myNum == guess and yn_answer == 'yes' or yn_answer == 'Yes':\r\n",
        "    print()\r\n",
        "    print(count, '번 만에 찾았습니다. 내 실력 대단하죠? 게임을 종료합니다.')"
      ],
      "execution_count": 2,
      "outputs": [
        {
          "output_type": "stream",
          "text": [
            "당신이 생각하는 숫자를 맞히겠습니다.\n",
            "\n",
            "1부터 1000가운데 숫자 하나를 생각하세요.\n",
            "10 번 안에 당신이 생각하고 있는 숫자를 맞힐 수 있습니다.\n",
            "숫자를 생각하셨으면 비밀리에 메모해 두고 enter를 누르세요.\n",
            "\n",
            "140\n",
            "Trial 1. 당신이 생각하고 있는 숫자는 500 입니다.Yes or no?no\n",
            "Oops! 내가 예측한 숫자가 크나요 작나요(High or low?high\n",
            "\n",
            "Trial 2. 당신이 생각하고 있는 숫자는 251 입니다.Yes or no?no\n",
            "Oops! 내가 예측한 숫자가 크나요 작나요(High or low?high\n",
            "\n",
            "Trial 3. 당신이 생각하고 있는 숫자는 126 입니다.Yes or no?no\n",
            "Oops! 내가 예측한 숫자가 크나요 작나요(High or low?low\n",
            "\n",
            "Trial 4. 당신이 생각하고 있는 숫자는 189 입니다.Yes or no?no\n",
            "Oops! 내가 예측한 숫자가 크나요 작나요(High or low?high\n",
            "\n",
            "Trial 5. 당신이 생각하고 있는 숫자는 158 입니다.Yes or no?no\n",
            "Oops! 내가 예측한 숫자가 크나요 작나요(High or low?high\n",
            "\n",
            "Trial 6. 당신이 생각하고 있는 숫자는 143 입니다.Yes or no?no\n",
            "Oops! 내가 예측한 숫자가 크나요 작나요(High or low?high\n",
            "\n",
            "Trial 7. 당신이 생각하고 있는 숫자는 135 입니다.Yes or no?no\n",
            "Oops! 내가 예측한 숫자가 크나요 작나요(High or low?low\n",
            "\n",
            "Trial 8. 당신이 생각하고 있는 숫자는 140 입니다.Yes or no?yes\n",
            "\n",
            "8 번 만에 찾았습니다. 내 실력 대단하죠? 게임을 종료합니다.\n"
          ],
          "name": "stdout"
        }
      ]
    },
    {
      "cell_type": "markdown",
      "metadata": {
        "id": "YpOpWtK8BLbg"
      },
      "source": [
        "## 실습1 : Dragon realm"
      ]
    },
    {
      "cell_type": "code",
      "metadata": {
        "id": "vV8apAGUDb6F",
        "colab": {
          "base_uri": "https://localhost:8080/"
        },
        "outputId": "70c0978e-9d8b-4e6b-cace-93de9decb4a5"
      },
      "source": [
        "import time\r\n",
        "import random\r\n",
        "\r\n",
        "playing_check = 'yes'\r\n",
        "\r\n",
        "while (playing_check == 'yes') or (playing_check == 'y'):\r\n",
        "\r\n",
        "  print('You are in a land full of dragons.')\r\n",
        "  time.sleep(1)\r\n",
        "  print('In front of you, you see two caves.')\r\n",
        "  time.sleep(1)\r\n",
        "  print('In one cave, the dragon is friendly,')\r\n",
        "  time.sleep(1)\r\n",
        "  print('and will share his treasure with you.')\r\n",
        "  time.sleep(1)\r\n",
        "  print('The other dragon is greedy and hungry,')\r\n",
        "  time.sleep(1)\r\n",
        "  print('and will eat you on sight.')\r\n",
        "  time.sleep(1)\r\n",
        "\r\n",
        "  # and/or 확실히\r\n",
        "  while True:\r\n",
        "    cave_choice = input('Which cave will you go into? (1 or 2)')\r\n",
        "    if (cave_choice == '1') or (cave_choice == '2') :\r\n",
        "      cave_choice = int(cave_choice)\r\n",
        "      break\r\n",
        "\r\n",
        "  print('You approach the cave...')\r\n",
        "  time.sleep(1)\r\n",
        "  print('It is dark and spooky...')\r\n",
        "  time.sleep(1)\r\n",
        "  print('A large dragon jumps out in front of you!')\r\n",
        "  time.sleep(1)\r\n",
        "  print('He opens his jaws and...')\r\n",
        "  time.sleep(1)\r\n",
        "\r\n",
        "  destiny = random.randint(1, 2)\r\n",
        "  if cave_choice == destiny:\r\n",
        "    print('Gives you his treasure!')\r\n",
        "  else :\r\n",
        "    print('Gobbles you down in one bite!')\r\n",
        "\r\n",
        "  playing_check = input('Do you want to play again?(yes or no)')\r\n",
        "\r\n",
        "print('Thank you!')  "
      ],
      "execution_count": 6,
      "outputs": [
        {
          "output_type": "stream",
          "text": [
            "You are in a land full of dragons.\n",
            "In front of you, you see two caves.\n",
            "In one cave, the dragon is friendly,\n",
            "and will share his treasure with you.\n",
            "The other dragon is greedy and hungry,\n",
            "and will eat you on sight.\n",
            "Which cave will you go into? (1 or 2)2\n",
            "You approach the cave...\n",
            "It is dark and spooky...\n",
            "A large dragon jumps out in front of you!\n",
            "He opens his jaws and...\n",
            "Gobbles you down in one bite!\n",
            "Do you want to play again?(yes or no)yes\n",
            "You are in a land full of dragons.\n",
            "In front of you, you see two caves.\n",
            "In one cave, the dragon is friendly,\n",
            "and will share his treasure with you.\n",
            "The other dragon is greedy and hungry,\n",
            "and will eat you on sight.\n",
            "Which cave will you go into? (1 or 2)1\n",
            "You approach the cave...\n",
            "It is dark and spooky...\n",
            "A large dragon jumps out in front of you!\n",
            "He opens his jaws and...\n",
            "Gobbles you down in one bite!\n",
            "Do you want to play again?(yes or no)y\n",
            "You are in a land full of dragons.\n",
            "In front of you, you see two caves.\n",
            "In one cave, the dragon is friendly,\n",
            "and will share his treasure with you.\n",
            "The other dragon is greedy and hungry,\n",
            "and will eat you on sight.\n",
            "Which cave will you go into? (1 or 2)1\n",
            "You approach the cave...\n",
            "It is dark and spooky...\n",
            "A large dragon jumps out in front of you!\n",
            "He opens his jaws and...\n",
            "Gives you his treasure!\n",
            "Do you want to play again?(yes or no)n\n",
            "Thank you!\n"
          ],
          "name": "stdout"
        }
      ]
    }
  ]
}