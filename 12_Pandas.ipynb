{
  "nbformat": 4,
  "nbformat_minor": 0,
  "metadata": {
    "colab": {
      "name": "12 Pandas.ipynb",
      "provenance": [],
      "collapsed_sections": [],
      "toc_visible": true,
      "authorship_tag": "ABX9TyNwudWx1QEwp1ti29EjZhx2",
      "include_colab_link": true
    },
    "kernelspec": {
      "name": "python3",
      "display_name": "Python 3"
    }
  },
  "cells": [
    {
      "cell_type": "markdown",
      "metadata": {
        "id": "view-in-github",
        "colab_type": "text"
      },
      "source": [
        "<a href=\"https://colab.research.google.com/github/ghm8614/Python/blob/main/12_Pandas.ipynb\" target=\"_parent\"><img src=\"https://colab.research.google.com/assets/colab-badge.svg\" alt=\"Open In Colab\"/></a>"
      ]
    },
    {
      "cell_type": "markdown",
      "metadata": {
        "id": "TLdjK2Wc-M_J"
      },
      "source": [
        "# 12 Pandas"
      ]
    },
    {
      "cell_type": "markdown",
      "metadata": {
        "id": "1uFwIbRCSJz2"
      },
      "source": [
        "## 1) Series"
      ]
    },
    {
      "cell_type": "code",
      "metadata": {
        "id": "U1uCF1RT-NMR"
      },
      "source": [
        "# 1.값 직접입력\r\n",
        "import pandas as pd\r\n",
        "score = [23,123,4,534,12,122]\r\n",
        "s = pd.Series(score)\r\n",
        "print(s) # index가 자동 생성되고. series를 구성하는 데이터 형태와 값도 출력됨"
      ],
      "execution_count": null,
      "outputs": []
    },
    {
      "cell_type": "code",
      "metadata": {
        "id": "zhQn0MYpAA1U"
      },
      "source": [
        "# 2.자동출력되는 인덱스에 값을 넣는 법\r\n",
        "import pandas as pd \r\n",
        "score = [23,123,4,534,12,122]\r\n",
        "name = ['철수','일형','수창','원정','진동','균재']\r\n",
        "s = pd.Series(score, index = name) #index안써도됨\r\n",
        "print(s) #dictionary에서 key-value와 비슷"
      ],
      "execution_count": null,
      "outputs": []
    },
    {
      "cell_type": "code",
      "metadata": {
        "id": "iye49DDPCVHZ"
      },
      "source": [
        "# 3.dictionary 이용하는 법\r\n",
        "dic = {'철수':23,'일형':123,'수창':4,'원정':534,'진동':12,'균재':122}\r\n",
        "d = pd.Series(dic)\r\n",
        "print(d)"
      ],
      "execution_count": null,
      "outputs": []
    },
    {
      "cell_type": "code",
      "metadata": {
        "colab": {
          "base_uri": "https://localhost:8080/"
        },
        "id": "61ma2ICECVKS",
        "outputId": "e2b4a4a2-ec4c-42ed-cad0-5567b123e26f"
      },
      "source": [
        "# series를 이용한 산술연산\r\n",
        "# 같은 index명끼리 연산이 이루어짐. index는 그대로, value값만 연산됨\r\n",
        "\r\n",
        "import numpy as np\r\n",
        "name1 = np.array(['철수','일형','수창','원정','진동','균재'])\r\n",
        "score1 = np.array([20,2,4,50,10,1])\r\n",
        "name2 = np.array(['균재','원정','수창','일형','진동','철수'])\r\n",
        "score2 = np.array([4,100,3,5,10,2])\r\n",
        "\r\n",
        "s1 = pd.Series(score1, index=name1)\r\n",
        "#print(s1)\r\n",
        "s2 = pd.Series(score2, index=name2)\r\n",
        "#print(s2)\r\n",
        "\r\n",
        "#print(s1+s2) #index위치는 다르지만, 같은 index끼리 연산이 이루어짐\r\n",
        "(s1+s2)//2 "
      ],
      "execution_count": null,
      "outputs": [
        {
          "output_type": "execute_result",
          "data": {
            "text/plain": [
              "균재     2\n",
              "수창     3\n",
              "원정    75\n",
              "일형     3\n",
              "진동    10\n",
              "철수    11\n",
              "dtype: int64"
            ]
          },
          "metadata": {
            "tags": []
          },
          "execution_count": 66
        }
      ]
    },
    {
      "cell_type": "code",
      "metadata": {
        "id": "roFEMseMCVNv"
      },
      "source": [
        "# value값에 접근 ->  index명 or index번호 모두로 접근가능\r\n",
        "print(s2['균재'])\r\n",
        "print(s2[0])\r\n",
        "\r\n",
        "# list의 기능인 슬라이싱도 사용가능\r\n",
        "print(s2[3:5]) # 3~(5-1)\r\n",
        "print(s2['일형':'철수']) # 이때는 철수까지 포함. index번호와다름"
      ],
      "execution_count": null,
      "outputs": []
    },
    {
      "cell_type": "code",
      "metadata": {
        "id": "smMzjlwmCVQn"
      },
      "source": [
        "# 값 추가 -> index명으로 추가 , index번호는 제한이있음\r\n",
        "s2['진균']=1\r\n",
        "# index가 내가명시한어떤값으로 저장되있을경우, 대괄호안에 꼭같은형태를 입력후 추가해야함.\r\n",
        "# 이럴경우에, index번호로 값을 추가할수없음\r\n",
        "# 하지만 index번호로 되있을경우, index로 추가가능"
      ],
      "execution_count": null,
      "outputs": []
    },
    {
      "cell_type": "code",
      "metadata": {
        "id": "3lkvr2fhCVT8"
      },
      "source": [
        "# 값 수정 -> index명과 index번호 모두로 수정가능\r\n",
        "s2['진균']= 44\r\n",
        "s2\r\n",
        "s2[6] = 33\r\n",
        "s2"
      ],
      "execution_count": null,
      "outputs": []
    },
    {
      "cell_type": "code",
      "metadata": {
        "id": "41vcs6TON38s"
      },
      "source": [
        "# 값 삭제 -> index명으로 삭제, index번호는 제한이있음\r\n",
        "# 값 추가와 마찬가지임.\r\n",
        "del s2['진균']\r\n",
        "s2"
      ],
      "execution_count": null,
      "outputs": []
    },
    {
      "cell_type": "code",
      "metadata": {
        "colab": {
          "base_uri": "https://localhost:8080/"
        },
        "id": "NhgZRKEIPFQr",
        "outputId": "68d85807-af0e-466b-a481-5603fea6e747"
      },
      "source": [
        "# 논리연산과 filtering -> 변수에 식을 넣고 filtering!\r\n",
        "x = s2 > 30\r\n",
        "x\r\n",
        "\r\n",
        "s2[x] # 값이 true인것만 출력됨"
      ],
      "execution_count": null,
      "outputs": [
        {
          "output_type": "execute_result",
          "data": {
            "text/plain": [
              "원정    100\n",
              "dtype: int64"
            ]
          },
          "metadata": {
            "tags": []
          },
          "execution_count": 39
        }
      ]
    },
    {
      "cell_type": "markdown",
      "metadata": {
        "id": "7H7zG1aQwvA6"
      },
      "source": [
        "### 실습 1 : 성적데이터를 Series로 만들기"
      ]
    },
    {
      "cell_type": "code",
      "metadata": {
        "colab": {
          "base_uri": "https://localhost:8080/"
        },
        "id": "Nb0lmN3Fw6tC",
        "outputId": "6f45f3eb-2da4-46d5-903a-d14271850a78"
      },
      "source": [
        "# input으로 입력받은 ilst의 item들을 어떻게 int로 변환할 것인가\r\n",
        "# 어떻게 합을 구현해 낼 것인가\r\n",
        "# pd.Series() 생성시, 괄호안에 colums값을 왜 못주는가, 왜 value와 index값만 넣을수있는가\r\n",
        "# 출력결과에서 datatype만 있으면 Series, name과datatype 같이 있으면 DataFrame\r\n",
        "\r\n",
        "import pandas as pd\r\n",
        "\r\n",
        "names = input('학생들의 이름 입력(,로 구분):').split(',')\r\n",
        "score_kor = input('학생들의 국어성적 입력(,로 구분):').split(',')\r\n",
        "score_eng = input('학생들의 영어성적 입력(,로 구분):').split(',')\r\n",
        "score_math = input('학생들의 수학성적 입력(,로 구분):').split(',')\r\n",
        "\r\n",
        "# 하나하나 int로 타입변환하는 과정\r\n",
        "# score_kor = list(map(int,score_kor))  -> for문대신 map함수도 가능\r\n",
        "score_kor = [int(i) for i in score_kor] \r\n",
        "score_eng = [int(i) for i in score_eng] \r\n",
        "score_math = [int(i) for i in score_math] \r\n",
        "\r\n",
        "series_kor = pd.Series(score_kor,names)\r\n",
        "series_eng= pd.Series(score_eng,names)\r\n",
        "series_math= pd.Series(score_math,names)\r\n",
        "series_sum=series_kor+series_eng+series_math\r\n",
        "\r\n",
        "print()\r\n",
        "print('국어성적')\r\n",
        "print(series_kor)\r\n",
        "print('영어성적')\r\n",
        "print(series_eng)\r\n",
        "print('수학성적')\r\n",
        "print(series_math)\r\n",
        "print('합계')\r\n",
        "print(series_sum)"
      ],
      "execution_count": null,
      "outputs": [
        {
          "output_type": "stream",
          "text": [
            "학생들의 이름 입력(,로 구분):영희,철수,미나\n",
            "학생들의 국어성적 입력(,로 구분):20,20,40\n",
            "학생들의 영어성적 입력(,로 구분):40,20,80\n",
            "학생들의 수학성적 입력(,로 구분):15,65,95\n",
            "\n",
            "국어성적\n",
            "영희    20\n",
            "철수    20\n",
            "미나    40\n",
            "dtype: int64\n",
            "영어성적\n",
            "영희    40\n",
            "철수    20\n",
            "미나    80\n",
            "dtype: int64\n",
            "수학성적\n",
            "영희    15\n",
            "철수    65\n",
            "미나    95\n",
            "dtype: int64\n",
            "합계\n",
            "영희     75\n",
            "철수    105\n",
            "미나    215\n",
            "dtype: int64\n"
          ],
          "name": "stdout"
        }
      ]
    },
    {
      "cell_type": "markdown",
      "metadata": {
        "id": "puKh-QG0SoAS"
      },
      "source": [
        "## 2) DataFrame 1"
      ]
    },
    {
      "cell_type": "code",
      "metadata": {
        "id": "l5KR-WiWS7Og",
        "colab": {
          "base_uri": "https://localhost:8080/",
          "height": 137
        },
        "outputId": "5b6e6d76-e91a-4ed6-fdd1-7734018a5441"
      },
      "source": [
        "# DataFrame생성 -> 1. Series를 이용하여 합치기\r\n",
        "import pandas as pd\r\n",
        "name1 = np.array(['철수','일형','수창'])\r\n",
        "score1 = np.array([70,80,99])\r\n",
        "name2 = np.array(['수창','일형','철수'])\r\n",
        "score2 = np.array([88,86,59])\r\n",
        "\r\n",
        "s1 = pd.Series(score1, index=name1) #Series 생성\r\n",
        "s2 = pd.Series(score2, index=name2)\r\n",
        "\r\n",
        "d = pd.DataFrame() # 빈 dataframe생성\r\n",
        "d['국어'] = s1\r\n",
        "d['수학'] = s2\r\n",
        "d['합'] = d.국어 + d.수학 # = d['국어]+d['수학]\r\n",
        "d"
      ],
      "execution_count": null,
      "outputs": [
        {
          "output_type": "execute_result",
          "data": {
            "text/html": [
              "<div>\n",
              "<style scoped>\n",
              "    .dataframe tbody tr th:only-of-type {\n",
              "        vertical-align: middle;\n",
              "    }\n",
              "\n",
              "    .dataframe tbody tr th {\n",
              "        vertical-align: top;\n",
              "    }\n",
              "\n",
              "    .dataframe thead th {\n",
              "        text-align: right;\n",
              "    }\n",
              "</style>\n",
              "<table border=\"1\" class=\"dataframe\">\n",
              "  <thead>\n",
              "    <tr style=\"text-align: right;\">\n",
              "      <th></th>\n",
              "      <th>국어</th>\n",
              "      <th>수학</th>\n",
              "      <th>합</th>\n",
              "    </tr>\n",
              "  </thead>\n",
              "  <tbody>\n",
              "    <tr>\n",
              "      <th>철수</th>\n",
              "      <td>70</td>\n",
              "      <td>59</td>\n",
              "      <td>129</td>\n",
              "    </tr>\n",
              "    <tr>\n",
              "      <th>일형</th>\n",
              "      <td>80</td>\n",
              "      <td>86</td>\n",
              "      <td>166</td>\n",
              "    </tr>\n",
              "    <tr>\n",
              "      <th>수창</th>\n",
              "      <td>99</td>\n",
              "      <td>88</td>\n",
              "      <td>187</td>\n",
              "    </tr>\n",
              "  </tbody>\n",
              "</table>\n",
              "</div>"
            ],
            "text/plain": [
              "    국어  수학    합\n",
              "철수  70  59  129\n",
              "일형  80  86  166\n",
              "수창  99  88  187"
            ]
          },
          "metadata": {
            "tags": []
          },
          "execution_count": 73
        }
      ]
    },
    {
      "cell_type": "code",
      "metadata": {
        "id": "14Aezjs-dMkN",
        "colab": {
          "base_uri": "https://localhost:8080/",
          "height": 137
        },
        "outputId": "75ed6255-a762-43c1-8875-75bfd6dab301"
      },
      "source": [
        "# DataFrame생성 -> 2. 데이터를 직접 넣음(index와 columns 없을때)\r\n",
        "import pandas as pd\r\n",
        "\r\n",
        "score = [[70,59,129],[80,86,166],[99,88,187]]\r\n",
        "d1 = pd.DataFrame(score)\r\n",
        "d1"
      ],
      "execution_count": null,
      "outputs": [
        {
          "output_type": "execute_result",
          "data": {
            "text/html": [
              "<div>\n",
              "<style scoped>\n",
              "    .dataframe tbody tr th:only-of-type {\n",
              "        vertical-align: middle;\n",
              "    }\n",
              "\n",
              "    .dataframe tbody tr th {\n",
              "        vertical-align: top;\n",
              "    }\n",
              "\n",
              "    .dataframe thead th {\n",
              "        text-align: right;\n",
              "    }\n",
              "</style>\n",
              "<table border=\"1\" class=\"dataframe\">\n",
              "  <thead>\n",
              "    <tr style=\"text-align: right;\">\n",
              "      <th></th>\n",
              "      <th>0</th>\n",
              "      <th>1</th>\n",
              "      <th>2</th>\n",
              "    </tr>\n",
              "  </thead>\n",
              "  <tbody>\n",
              "    <tr>\n",
              "      <th>0</th>\n",
              "      <td>70</td>\n",
              "      <td>59</td>\n",
              "      <td>129</td>\n",
              "    </tr>\n",
              "    <tr>\n",
              "      <th>1</th>\n",
              "      <td>80</td>\n",
              "      <td>86</td>\n",
              "      <td>166</td>\n",
              "    </tr>\n",
              "    <tr>\n",
              "      <th>2</th>\n",
              "      <td>99</td>\n",
              "      <td>88</td>\n",
              "      <td>187</td>\n",
              "    </tr>\n",
              "  </tbody>\n",
              "</table>\n",
              "</div>"
            ],
            "text/plain": [
              "    0   1    2\n",
              "0  70  59  129\n",
              "1  80  86  166\n",
              "2  99  88  187"
            ]
          },
          "metadata": {
            "tags": []
          },
          "execution_count": 54
        }
      ]
    },
    {
      "cell_type": "code",
      "metadata": {
        "id": "VtpNfo5-S7V8",
        "colab": {
          "base_uri": "https://localhost:8080/"
        },
        "outputId": "3e8e5428-5dc6-4a44-a6f6-d1f1b9edb9d6"
      },
      "source": [
        "# DataFrame생성 -> 3. 데이터를 직접 넣음(index와 columns 있을때)\r\n",
        "score = [[70,59,129],[80,86,166],[99,88,187]]\r\n",
        "name = ['철수','일형','수창']\r\n",
        "lecture = ['국어', '수학','합']\r\n",
        "d2 = pd.DataFrame(score,index=name,columns=lecture)#index,columns 빼도 같은값\r\n",
        "print(d2)"
      ],
      "execution_count": null,
      "outputs": [
        {
          "output_type": "stream",
          "text": [
            "    국어  수학    합\n",
            "철수  70  59  129\n",
            "일형  80  86  166\n",
            "수창  99  88  187\n"
          ],
          "name": "stdout"
        }
      ]
    },
    {
      "cell_type": "code",
      "metadata": {
        "id": "P15nJJqmS7ei",
        "colab": {
          "base_uri": "https://localhost:8080/",
          "height": 206
        },
        "outputId": "eca9eeff-61e6-43d0-ab6e-015d2a42d333"
      },
      "source": [
        "# DataFrame의 index 변경 -> dataframe의객체.index = ['~~']\r\n",
        "score = [[70,59,129],[80,86,166],[99,88,187]]\r\n",
        "d1 = pd.DataFrame(score)\r\n",
        "print(d1)\r\n",
        "\r\n",
        "d1.index = ['학생1','학생2','학생3']\r\n",
        "d1"
      ],
      "execution_count": null,
      "outputs": [
        {
          "output_type": "stream",
          "text": [
            "    0   1    2\n",
            "0  70  59  129\n",
            "1  80  86  166\n",
            "2  99  88  187\n"
          ],
          "name": "stdout"
        },
        {
          "output_type": "execute_result",
          "data": {
            "text/html": [
              "<div>\n",
              "<style scoped>\n",
              "    .dataframe tbody tr th:only-of-type {\n",
              "        vertical-align: middle;\n",
              "    }\n",
              "\n",
              "    .dataframe tbody tr th {\n",
              "        vertical-align: top;\n",
              "    }\n",
              "\n",
              "    .dataframe thead th {\n",
              "        text-align: right;\n",
              "    }\n",
              "</style>\n",
              "<table border=\"1\" class=\"dataframe\">\n",
              "  <thead>\n",
              "    <tr style=\"text-align: right;\">\n",
              "      <th></th>\n",
              "      <th>0</th>\n",
              "      <th>1</th>\n",
              "      <th>2</th>\n",
              "    </tr>\n",
              "  </thead>\n",
              "  <tbody>\n",
              "    <tr>\n",
              "      <th>학생1</th>\n",
              "      <td>70</td>\n",
              "      <td>59</td>\n",
              "      <td>129</td>\n",
              "    </tr>\n",
              "    <tr>\n",
              "      <th>학생2</th>\n",
              "      <td>80</td>\n",
              "      <td>86</td>\n",
              "      <td>166</td>\n",
              "    </tr>\n",
              "    <tr>\n",
              "      <th>학생3</th>\n",
              "      <td>99</td>\n",
              "      <td>88</td>\n",
              "      <td>187</td>\n",
              "    </tr>\n",
              "  </tbody>\n",
              "</table>\n",
              "</div>"
            ],
            "text/plain": [
              "      0   1    2\n",
              "학생1  70  59  129\n",
              "학생2  80  86  166\n",
              "학생3  99  88  187"
            ]
          },
          "metadata": {
            "tags": []
          },
          "execution_count": 85
        }
      ]
    },
    {
      "cell_type": "code",
      "metadata": {
        "id": "dVTDMMzhS7h8"
      },
      "source": [
        "# DataFrame의 index 변경 -> rename 함수사용(원본객체 유지시켜줌)\r\n",
        "# d1.rename(index={'학생1':'철수'}) #이대로 출력시, 철수로 반환됨\r\n",
        "# d1 #을 다시출력시 원래대로 돌아가있음. rename함수는 원본객체는 그대로 유지시켜줌\r\n",
        "print(d1)\r\n",
        "d1.rename(index={'학생1':'파이썬','학생2':'너무','학생3':'어렵다'},inplace=True)\r\n",
        "d1"
      ],
      "execution_count": null,
      "outputs": []
    },
    {
      "cell_type": "code",
      "metadata": {
        "id": "Np57DQYIS7k-",
        "colab": {
          "base_uri": "https://localhost:8080/",
          "height": 137
        },
        "outputId": "ef4c63b4-20a4-41ff-f9fc-b051c8158bd5"
      },
      "source": [
        "# DataFrame의 column 변경 -> DataFrame객체.columns = list\r\n",
        "d1.columns = ['파이썬','쉽지','않다']\r\n",
        "d1"
      ],
      "execution_count": null,
      "outputs": [
        {
          "output_type": "execute_result",
          "data": {
            "text/html": [
              "<div>\n",
              "<style scoped>\n",
              "    .dataframe tbody tr th:only-of-type {\n",
              "        vertical-align: middle;\n",
              "    }\n",
              "\n",
              "    .dataframe tbody tr th {\n",
              "        vertical-align: top;\n",
              "    }\n",
              "\n",
              "    .dataframe thead th {\n",
              "        text-align: right;\n",
              "    }\n",
              "</style>\n",
              "<table border=\"1\" class=\"dataframe\">\n",
              "  <thead>\n",
              "    <tr style=\"text-align: right;\">\n",
              "      <th></th>\n",
              "      <th>파이썬</th>\n",
              "      <th>쉽지</th>\n",
              "      <th>않다</th>\n",
              "    </tr>\n",
              "  </thead>\n",
              "  <tbody>\n",
              "    <tr>\n",
              "      <th>파이썬</th>\n",
              "      <td>70</td>\n",
              "      <td>59</td>\n",
              "      <td>129</td>\n",
              "    </tr>\n",
              "    <tr>\n",
              "      <th>너무</th>\n",
              "      <td>80</td>\n",
              "      <td>86</td>\n",
              "      <td>166</td>\n",
              "    </tr>\n",
              "    <tr>\n",
              "      <th>어렵다</th>\n",
              "      <td>99</td>\n",
              "      <td>88</td>\n",
              "      <td>187</td>\n",
              "    </tr>\n",
              "  </tbody>\n",
              "</table>\n",
              "</div>"
            ],
            "text/plain": [
              "     파이썬  쉽지   않다\n",
              "파이썬   70  59  129\n",
              "너무    80  86  166\n",
              "어렵다   99  88  187"
            ]
          },
          "metadata": {
            "tags": []
          },
          "execution_count": 109
        }
      ]
    },
    {
      "cell_type": "code",
      "metadata": {
        "id": "acyaLVVXS7nd",
        "colab": {
          "base_uri": "https://localhost:8080/",
          "height": 137
        },
        "outputId": "d2b6e11f-f429-4f15-915d-8b6949119ed8"
      },
      "source": [
        "# DataFrame의 column 변경 -> rename 함수사용(원본객체 유지시켜줌)\r\n",
        "d1.rename(columns={'파이썬':'python','쉽지':'할만','않다':'하다'})"
      ],
      "execution_count": null,
      "outputs": [
        {
          "output_type": "execute_result",
          "data": {
            "text/html": [
              "<div>\n",
              "<style scoped>\n",
              "    .dataframe tbody tr th:only-of-type {\n",
              "        vertical-align: middle;\n",
              "    }\n",
              "\n",
              "    .dataframe tbody tr th {\n",
              "        vertical-align: top;\n",
              "    }\n",
              "\n",
              "    .dataframe thead th {\n",
              "        text-align: right;\n",
              "    }\n",
              "</style>\n",
              "<table border=\"1\" class=\"dataframe\">\n",
              "  <thead>\n",
              "    <tr style=\"text-align: right;\">\n",
              "      <th></th>\n",
              "      <th>python</th>\n",
              "      <th>할만</th>\n",
              "      <th>하다</th>\n",
              "    </tr>\n",
              "  </thead>\n",
              "  <tbody>\n",
              "    <tr>\n",
              "      <th>파이썬</th>\n",
              "      <td>70</td>\n",
              "      <td>59</td>\n",
              "      <td>129</td>\n",
              "    </tr>\n",
              "    <tr>\n",
              "      <th>너무</th>\n",
              "      <td>80</td>\n",
              "      <td>86</td>\n",
              "      <td>166</td>\n",
              "    </tr>\n",
              "    <tr>\n",
              "      <th>어렵다</th>\n",
              "      <td>99</td>\n",
              "      <td>88</td>\n",
              "      <td>187</td>\n",
              "    </tr>\n",
              "  </tbody>\n",
              "</table>\n",
              "</div>"
            ],
            "text/plain": [
              "     python  할만   하다\n",
              "파이썬      70  59  129\n",
              "너무       80  86  166\n",
              "어렵다      99  88  187"
            ]
          },
          "metadata": {
            "tags": []
          },
          "execution_count": 112
        }
      ]
    },
    {
      "cell_type": "code",
      "metadata": {
        "id": "K2GybD6nlqQH"
      },
      "source": [
        "# DataFrame의 column(열) 변경\r\n",
        "d1.rename(columns={'과목1':'국어','과목2':'수학','과목3':'영어'},inplace = True)\r\n",
        "print(d1)\r\n",
        "a = ['수학','영어','국어']\r\n",
        "d1[a] "
      ],
      "execution_count": null,
      "outputs": []
    },
    {
      "cell_type": "code",
      "metadata": {
        "id": "vtF4L19SlqVI"
      },
      "source": [
        "# DataFrame의 행, 열 삭제 ->drop함수\r\n",
        "d1\r\n",
        "d1.drop('학생3',axis=0) #학생3 행 삭제됨"
      ],
      "execution_count": null,
      "outputs": []
    },
    {
      "cell_type": "code",
      "metadata": {
        "id": "bNdGx_iDlqYF"
      },
      "source": [
        "# DataFrame의 행값 수정 ->index명과 번호 모두가능\r\n",
        "d1.loc['학생2'] = ['23','23','23']\r\n",
        "d1.iloc[1] = ['11','11','11']\r\n",
        "d1"
      ],
      "execution_count": null,
      "outputs": []
    },
    {
      "cell_type": "markdown",
      "metadata": {
        "id": "H4mQmtVzq3jY"
      },
      "source": [
        "### 실습"
      ]
    },
    {
      "cell_type": "code",
      "metadata": {
        "id": "kePRsj2lqAdS",
        "colab": {
          "base_uri": "https://localhost:8080/",
          "height": 206
        },
        "outputId": "994d382f-d182-4237-858a-e5f5b34bc7bf"
      },
      "source": [
        "#답안1 -  map함수 사용\r\n",
        "#배열안의 각각의 숫자문자열을 어떻게 int로 전부 변환할것인가\r\n",
        "import pandas as pd\r\n",
        "\r\n",
        "names = input('학생들의 이름 입력(,로 구분):').split(',')\r\n",
        "\r\n",
        "score_kor = input('학생들의 국어성적 입력(,로 구분):').split(',')\r\n",
        "score_eng = input('학생들의 영어성적 입력(,로 구분):').split(',')\r\n",
        "score_math = input('학생들의 수학성적 입력(,로 구분):').split(',')\r\n",
        "\r\n",
        "score_kor = list(map(int,score_kor))\r\n",
        "score_eng = list(map(int,score_eng))\r\n",
        "score_math = list(map(int,score_math))\r\n",
        "\r\n",
        "series_kor = pd.Series(score_kor,index=names)\r\n",
        "series_eng = pd.Series(score_eng,index=names)\r\n",
        "series_math = pd.Series(score_math,index = names)\r\n",
        "\r\n",
        "d = pd.DataFrame()\r\n",
        "d['국어'] = series_kor\r\n",
        "d['영어'] = series_eng\r\n",
        "d['수학'] = series_math\r\n",
        "d['합계']= d.sum(axis=1) \r\n",
        "d"
      ],
      "execution_count": null,
      "outputs": [
        {
          "output_type": "stream",
          "text": [
            "학생들의 이름 입력(,로 구분):철수,영희,미영\n",
            "학생들의 국어성적 입력(,로 구분):90,80,80\n",
            "학생들의 영어성적 입력(,로 구분):80,80,90\n",
            "학생들의 수학성적 입력(,로 구분):70,89,88\n"
          ],
          "name": "stdout"
        },
        {
          "output_type": "execute_result",
          "data": {
            "text/html": [
              "<div>\n",
              "<style scoped>\n",
              "    .dataframe tbody tr th:only-of-type {\n",
              "        vertical-align: middle;\n",
              "    }\n",
              "\n",
              "    .dataframe tbody tr th {\n",
              "        vertical-align: top;\n",
              "    }\n",
              "\n",
              "    .dataframe thead th {\n",
              "        text-align: right;\n",
              "    }\n",
              "</style>\n",
              "<table border=\"1\" class=\"dataframe\">\n",
              "  <thead>\n",
              "    <tr style=\"text-align: right;\">\n",
              "      <th></th>\n",
              "      <th>국어</th>\n",
              "      <th>영어</th>\n",
              "      <th>수학</th>\n",
              "      <th>합계</th>\n",
              "    </tr>\n",
              "  </thead>\n",
              "  <tbody>\n",
              "    <tr>\n",
              "      <th>철수</th>\n",
              "      <td>90</td>\n",
              "      <td>80</td>\n",
              "      <td>70</td>\n",
              "      <td>240</td>\n",
              "    </tr>\n",
              "    <tr>\n",
              "      <th>영희</th>\n",
              "      <td>80</td>\n",
              "      <td>80</td>\n",
              "      <td>89</td>\n",
              "      <td>249</td>\n",
              "    </tr>\n",
              "    <tr>\n",
              "      <th>미영</th>\n",
              "      <td>80</td>\n",
              "      <td>90</td>\n",
              "      <td>88</td>\n",
              "      <td>258</td>\n",
              "    </tr>\n",
              "  </tbody>\n",
              "</table>\n",
              "</div>"
            ],
            "text/plain": [
              "    국어  영어  수학   합계\n",
              "철수  90  80  70  240\n",
              "영희  80  80  89  249\n",
              "미영  80  90  88  258"
            ]
          },
          "metadata": {
            "tags": []
          },
          "execution_count": 154
        }
      ]
    },
    {
      "cell_type": "code",
      "metadata": {
        "colab": {
          "base_uri": "https://localhost:8080/",
          "height": 206
        },
        "id": "t5DWo-kz65i1",
        "outputId": "0e258346-88a6-49c9-89de-beaffbfc54fc"
      },
      "source": [
        "#답안2 - for문 사용\r\n",
        "#배열안의 각각의 숫자문자열을 어떻게 int로 전부 변환할것인가\r\n",
        "import pandas as pd\r\n",
        "\r\n",
        "names = input('학생들의 이름 입력(,로 구분):').split(',')\r\n",
        "\r\n",
        "score_kor = input('학생들의 국어성적 입력(,로 구분):').split(',')\r\n",
        "score_eng = input('학생들의 영어성적 입력(,로 구분):').split(',')\r\n",
        "score_math = input('학생들의 수학성적 입력(,로 구분):').split(',')\r\n",
        "\r\n",
        "#배열안의 모든 문자열을 하나씩 숫자로 타입변환\r\n",
        "score_kor = [int(i) for i in score_kor] \r\n",
        "score_eng = [int(i) for i in score_eng] \r\n",
        "score_math = [int(i) for i in score_math] \r\n",
        "\r\n",
        "d = pd.DataFrame(index=names)\r\n",
        "d['국어'] = score_kor\r\n",
        "d['영어'] = score_eng\r\n",
        "d['수학'] = score_math\r\n",
        "d['합계']= d.sum(axis=1) #세로축은 열을 추가하므로 axis=1\r\n",
        "d"
      ],
      "execution_count": null,
      "outputs": [
        {
          "output_type": "stream",
          "text": [
            "학생들의 이름 입력(,로 구분):철수,영희,영미\n",
            "학생들의 국어성적 입력(,로 구분):80,78,89\n",
            "학생들의 영어성적 입력(,로 구분):80,80,70\n",
            "학생들의 수학성적 입력(,로 구분):79,68,57\n"
          ],
          "name": "stdout"
        },
        {
          "output_type": "execute_result",
          "data": {
            "text/html": [
              "<div>\n",
              "<style scoped>\n",
              "    .dataframe tbody tr th:only-of-type {\n",
              "        vertical-align: middle;\n",
              "    }\n",
              "\n",
              "    .dataframe tbody tr th {\n",
              "        vertical-align: top;\n",
              "    }\n",
              "\n",
              "    .dataframe thead th {\n",
              "        text-align: right;\n",
              "    }\n",
              "</style>\n",
              "<table border=\"1\" class=\"dataframe\">\n",
              "  <thead>\n",
              "    <tr style=\"text-align: right;\">\n",
              "      <th></th>\n",
              "      <th>국어</th>\n",
              "      <th>영어</th>\n",
              "      <th>수학</th>\n",
              "      <th>합계</th>\n",
              "    </tr>\n",
              "  </thead>\n",
              "  <tbody>\n",
              "    <tr>\n",
              "      <th>철수</th>\n",
              "      <td>80</td>\n",
              "      <td>80</td>\n",
              "      <td>79</td>\n",
              "      <td>239</td>\n",
              "    </tr>\n",
              "    <tr>\n",
              "      <th>영희</th>\n",
              "      <td>78</td>\n",
              "      <td>80</td>\n",
              "      <td>68</td>\n",
              "      <td>226</td>\n",
              "    </tr>\n",
              "    <tr>\n",
              "      <th>영미</th>\n",
              "      <td>89</td>\n",
              "      <td>70</td>\n",
              "      <td>57</td>\n",
              "      <td>216</td>\n",
              "    </tr>\n",
              "  </tbody>\n",
              "</table>\n",
              "</div>"
            ],
            "text/plain": [
              "    국어  영어  수학   합계\n",
              "철수  80  80  79  239\n",
              "영희  78  80  68  226\n",
              "영미  89  70  57  216"
            ]
          },
          "metadata": {
            "tags": []
          },
          "execution_count": 37
        }
      ]
    },
    {
      "cell_type": "markdown",
      "metadata": {
        "id": "DgZve0kGStDU"
      },
      "source": [
        "## 3) DataFrame 2"
      ]
    },
    {
      "cell_type": "code",
      "metadata": {
        "colab": {
          "base_uri": "https://localhost:8080/"
        },
        "id": "PQ_H0ZMSrkWI",
        "outputId": "82df6067-0bf6-4cb9-85bf-fde639f2b89e"
      },
      "source": [
        "# DataFrame의 부분정보 선택(index,columns,value만확인이필요할때) \r\n",
        "import pandas as pd\r\n",
        "\r\n",
        "score = [[70,59,129],[80,86,166],[99,88,187]]\r\n",
        "name = ['철수','일형','수창']\r\n",
        "lecture = ['국어','영어','수학']\r\n",
        "d = pd.DataFrame(score,index=name,columns=lecture)\r\n",
        "print(d)\r\n",
        "\r\n",
        "print()\r\n",
        "print(d.index)\r\n",
        "print()\r\n",
        "print(d.columns)\r\n",
        "print()\r\n",
        "d.values  "
      ],
      "execution_count": null,
      "outputs": [
        {
          "output_type": "stream",
          "text": [
            "    국어  영어   수학\n",
            "철수  70  59  129\n",
            "일형  80  86  166\n",
            "수창  99  88  187\n",
            "\n",
            "Index(['철수', '일형', '수창'], dtype='object')\n",
            "\n",
            "Index(['국어', '영어', '수학'], dtype='object')\n",
            "\n"
          ],
          "name": "stdout"
        },
        {
          "output_type": "execute_result",
          "data": {
            "text/plain": [
              "array([[ 70,  59, 129],\n",
              "       [ 80,  86, 166],\n",
              "       [ 99,  88, 187]])"
            ]
          },
          "metadata": {
            "tags": []
          },
          "execution_count": 4
        }
      ]
    },
    {
      "cell_type": "code",
      "metadata": {
        "colab": {
          "base_uri": "https://localhost:8080/",
          "height": 294
        },
        "id": "v25e4p6IrkaK",
        "outputId": "f25a4879-3587-4bc0-da50-f18912ced729"
      },
      "source": [
        "# DataFrame의 특정 열 선택 -> 세개 모두가능\r\n",
        "print(d)\r\n",
        "print()\r\n",
        "print(d['국어'])\r\n",
        "d[['국어','영어']] #대괄호 필수.."
      ],
      "execution_count": null,
      "outputs": [
        {
          "output_type": "stream",
          "text": [
            "    국어  영어   수학\n",
            "철수  70  59  129\n",
            "일형  80  86  166\n",
            "수창  99  88  187\n",
            "\n",
            "철수    70\n",
            "일형    80\n",
            "수창    99\n",
            "Name: 국어, dtype: int64\n"
          ],
          "name": "stdout"
        },
        {
          "output_type": "execute_result",
          "data": {
            "text/html": [
              "<div>\n",
              "<style scoped>\n",
              "    .dataframe tbody tr th:only-of-type {\n",
              "        vertical-align: middle;\n",
              "    }\n",
              "\n",
              "    .dataframe tbody tr th {\n",
              "        vertical-align: top;\n",
              "    }\n",
              "\n",
              "    .dataframe thead th {\n",
              "        text-align: right;\n",
              "    }\n",
              "</style>\n",
              "<table border=\"1\" class=\"dataframe\">\n",
              "  <thead>\n",
              "    <tr style=\"text-align: right;\">\n",
              "      <th></th>\n",
              "      <th>국어</th>\n",
              "      <th>영어</th>\n",
              "    </tr>\n",
              "  </thead>\n",
              "  <tbody>\n",
              "    <tr>\n",
              "      <th>철수</th>\n",
              "      <td>70</td>\n",
              "      <td>59</td>\n",
              "    </tr>\n",
              "    <tr>\n",
              "      <th>일형</th>\n",
              "      <td>80</td>\n",
              "      <td>86</td>\n",
              "    </tr>\n",
              "    <tr>\n",
              "      <th>수창</th>\n",
              "      <td>99</td>\n",
              "      <td>88</td>\n",
              "    </tr>\n",
              "  </tbody>\n",
              "</table>\n",
              "</div>"
            ],
            "text/plain": [
              "    국어  영어\n",
              "철수  70  59\n",
              "일형  80  86\n",
              "수창  99  88"
            ]
          },
          "metadata": {
            "tags": []
          },
          "execution_count": 121
        }
      ]
    },
    {
      "cell_type": "code",
      "metadata": {
        "colab": {
          "base_uri": "https://localhost:8080/"
        },
        "id": "OS-4Xh2NrkdJ",
        "outputId": "ccb7511d-f899-4fc5-e1ac-4f6f662ae97d"
      },
      "source": [
        "# DataFrame의 특정 행 선택 ->index명과 번호\r\n",
        "print(d)\r\n",
        "print()\r\n",
        "d[1:]\r\n",
        "d.iloc[0:1]\r\n",
        "d.iloc[0,0]\r\n",
        "#d['철수':]"
      ],
      "execution_count": null,
      "outputs": [
        {
          "output_type": "stream",
          "text": [
            "    국어  영어   수학\n",
            "철수  70  59  129\n",
            "일형  80  86  166\n",
            "수창  99  88  187\n",
            "\n"
          ],
          "name": "stdout"
        },
        {
          "output_type": "execute_result",
          "data": {
            "text/plain": [
              "70"
            ]
          },
          "metadata": {
            "tags": []
          },
          "execution_count": 134
        }
      ]
    },
    {
      "cell_type": "code",
      "metadata": {
        "colab": {
          "base_uri": "https://localhost:8080/"
        },
        "id": "55bBuNJYrkgp",
        "outputId": "8f410bbe-76d2-4a5d-ef26-fc13faa9b75e"
      },
      "source": [
        "# DataFrame의 특정 열과행 동시에 선택\r\n",
        "d['국어']['철수':'수창']\r\n",
        "d['국어'][0:2]"
      ],
      "execution_count": null,
      "outputs": [
        {
          "output_type": "execute_result",
          "data": {
            "text/plain": [
              "철수    70\n",
              "일형    80\n",
              "Name: 국어, dtype: int64"
            ]
          },
          "metadata": {
            "tags": []
          },
          "execution_count": 113
        }
      ]
    },
    {
      "cell_type": "markdown",
      "metadata": {
        "id": "q23hjWPi-Nae"
      },
      "source": [
        ""
      ]
    },
    {
      "cell_type": "code",
      "metadata": {
        "id": "fsvXlldT-NoR",
        "colab": {
          "base_uri": "https://localhost:8080/"
        },
        "outputId": "6f45f3eb-2da4-46d5-903a-d14271850a78"
      },
      "source": [
        "# input으로 입력받은 ilst의 item들을 어떻게 int로 변환할 것인가\r\n",
        "# 어떻게 합을 구현해 낼 것인가\r\n",
        "# pd.Series() 생성시, 괄호안에 colums값을 왜못주는가, 왜 value와 index값만 넣을수있는가\r\n",
        "# 출력결과에서 datatype만 있으면 Series, name과datatype 같이 있으면 DataFrame\r\n",
        "\r\n",
        "import pandas as pd\r\n",
        "\r\n",
        "names = input('학생들의 이름 입력(,로 구분):').split(',')\r\n",
        "score_kor = input('학생들의 국어성적 입력(,로 구분):').split(',')\r\n",
        "score_eng = input('학생들의 영어성적 입력(,로 구분):').split(',')\r\n",
        "score_math = input('학생들의 수학성적 입력(,로 구분):').split(',')\r\n",
        "\r\n",
        "# 하나하나 int로 타입변환하는 과정\r\n",
        "# score_kor = list(map(int,score_kor))  -> for문대신 map함수도 가능\r\n",
        "score_kor = [int(i) for i in score_kor] \r\n",
        "score_eng = [int(i) for i in score_eng] \r\n",
        "score_math = [int(i) for i in score_math] \r\n",
        "\r\n",
        "series_kor = pd.Series(score_kor,names)\r\n",
        "series_eng= pd.Series(score_eng,names)\r\n",
        "series_math= pd.Series(score_math,names)\r\n",
        "series_sum=series_kor+series_eng+series_math\r\n",
        "\r\n",
        "print()\r\n",
        "print('국어성적')\r\n",
        "print(series_kor)\r\n",
        "print('영어성적')\r\n",
        "print(series_eng)\r\n",
        "print('수학성적')\r\n",
        "print(series_math)\r\n",
        "print('합계')\r\n",
        "print(series_sum)"
      ],
      "execution_count": null,
      "outputs": [
        {
          "output_type": "stream",
          "text": [
            "학생들의 이름 입력(,로 구분):영희,철수,미나\n",
            "학생들의 국어성적 입력(,로 구분):20,20,40\n",
            "학생들의 영어성적 입력(,로 구분):40,20,80\n",
            "학생들의 수학성적 입력(,로 구분):15,65,95\n",
            "\n",
            "국어성적\n",
            "영희    20\n",
            "철수    20\n",
            "미나    40\n",
            "dtype: int64\n",
            "영어성적\n",
            "영희    40\n",
            "철수    20\n",
            "미나    80\n",
            "dtype: int64\n",
            "수학성적\n",
            "영희    15\n",
            "철수    65\n",
            "미나    95\n",
            "dtype: int64\n",
            "합계\n",
            "영희     75\n",
            "철수    105\n",
            "미나    215\n",
            "dtype: int64\n"
          ],
          "name": "stdout"
        }
      ]
    },
    {
      "cell_type": "markdown",
      "metadata": {
        "id": "9ifRpNR2-dkG"
      },
      "source": [
        "## 실습 2 : Dataframe 부분 정보 선택"
      ]
    },
    {
      "cell_type": "code",
      "metadata": {
        "colab": {
          "resources": {
            "http://localhost:8080/nbextensions/google.colab/files.js": {
              "data": "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",
              "ok": true,
              "headers": [
                [
                  "content-type",
                  "application/javascript"
                ]
              ],
              "status": 200,
              "status_text": ""
            }
          },
          "base_uri": "https://localhost:8080/",
          "height": 76
        },
        "id": "dfqZxFL7JphY",
        "outputId": "0e9bc048-0b6d-4a9c-977a-0ec04a2477ac"
      },
      "source": [
        "from google.colab import files\r\n",
        "myfile = files.upload()\r\n"
      ],
      "execution_count": null,
      "outputs": [
        {
          "output_type": "display_data",
          "data": {
            "text/html": [
              "\n",
              "     <input type=\"file\" id=\"files-26bab5f0-6477-43e6-96db-31fcac0fee28\" name=\"files[]\" multiple disabled\n",
              "        style=\"border:none\" />\n",
              "     <output id=\"result-26bab5f0-6477-43e6-96db-31fcac0fee28\">\n",
              "      Upload widget is only available when the cell has been executed in the\n",
              "      current browser session. Please rerun this cell to enable.\n",
              "      </output>\n",
              "      <script src=\"/nbextensions/google.colab/files.js\"></script> "
            ],
            "text/plain": [
              "<IPython.core.display.HTML object>"
            ]
          },
          "metadata": {
            "tags": []
          }
        },
        {
          "output_type": "stream",
          "text": [
            "Saving gapminder.tsv to gapminder (5).tsv\n"
          ],
          "name": "stdout"
        }
      ]
    },
    {
      "cell_type": "code",
      "metadata": {
        "colab": {
          "base_uri": "https://localhost:8080/",
          "height": 137
        },
        "id": "qdLmV4odD1My",
        "outputId": "81f5b2c0-08c1-4aff-ce40-19c1d792fda9"
      },
      "source": [
        "# 행과 행/열 출력은 무조건 iloc사용해라! -> df.iloc[행들, 열들]\r\n",
        "import pandas as pd\r\n",
        "df=pd.read_csv('gapminder.tsv',sep='\\t')\r\n",
        "df['country']\r\n",
        "df[['country','continent','year']] #여러개행을 출력하려면 대괄호한번더\r\n",
        "df.iloc[0] \r\n",
        "df.iloc[[2,4,6]]    # = df.iloc[2:7:2]\r\n",
        "df.iloc[[3,4,5]]    # = df.iloc[3:6]\r\n",
        "df.iloc[[7,8,9,10],[0,3,5]]  # = df.iloc[7:11,[0,3,5]]\r\n",
        "df.iloc[[1,3,5],[0,1,4]]   # = df.iloc[1:6:2,[0,1,4]]"
      ],
      "execution_count": null,
      "outputs": [
        {
          "output_type": "execute_result",
          "data": {
            "text/html": [
              "<div>\n",
              "<style scoped>\n",
              "    .dataframe tbody tr th:only-of-type {\n",
              "        vertical-align: middle;\n",
              "    }\n",
              "\n",
              "    .dataframe tbody tr th {\n",
              "        vertical-align: top;\n",
              "    }\n",
              "\n",
              "    .dataframe thead th {\n",
              "        text-align: right;\n",
              "    }\n",
              "</style>\n",
              "<table border=\"1\" class=\"dataframe\">\n",
              "  <thead>\n",
              "    <tr style=\"text-align: right;\">\n",
              "      <th></th>\n",
              "      <th>country</th>\n",
              "      <th>continent</th>\n",
              "      <th>pop</th>\n",
              "    </tr>\n",
              "  </thead>\n",
              "  <tbody>\n",
              "    <tr>\n",
              "      <th>1</th>\n",
              "      <td>Afghanistan</td>\n",
              "      <td>Asia</td>\n",
              "      <td>9240934</td>\n",
              "    </tr>\n",
              "    <tr>\n",
              "      <th>3</th>\n",
              "      <td>Afghanistan</td>\n",
              "      <td>Asia</td>\n",
              "      <td>11537966</td>\n",
              "    </tr>\n",
              "    <tr>\n",
              "      <th>5</th>\n",
              "      <td>Afghanistan</td>\n",
              "      <td>Asia</td>\n",
              "      <td>14880372</td>\n",
              "    </tr>\n",
              "  </tbody>\n",
              "</table>\n",
              "</div>"
            ],
            "text/plain": [
              "       country continent       pop\n",
              "1  Afghanistan      Asia   9240934\n",
              "3  Afghanistan      Asia  11537966\n",
              "5  Afghanistan      Asia  14880372"
            ]
          },
          "metadata": {
            "tags": []
          },
          "execution_count": 140
        }
      ]
    },
    {
      "cell_type": "markdown",
      "metadata": {
        "id": "IxY9p237-fH1"
      },
      "source": [
        "## 실습 3 : 성적데이터를 DataFrame으로 만들기"
      ]
    },
    {
      "cell_type": "code",
      "metadata": {
        "id": "Ldvb0WhF-gR0",
        "colab": {
          "base_uri": "https://localhost:8080/"
        },
        "outputId": "8c72223e-ff65-424a-878b-b83712c36c66"
      },
      "source": [
        "# 합계와 평균을 어떻게 구현할 것인가 \r\n",
        "# 1. (열과 행 추가를 어떻게 할 것인가. 특히 행!!)  2. (평균값을 어떻게 오류나지않게 출력할것인가)\r\n",
        "# 검색한 학생의 성적정보를 어떻게 출력할것인가\r\n",
        "\r\n",
        "#iloc = 숫자인덱싱 ,  loc = 이름인덱싱\r\n",
        "import pandas as pd\r\n",
        "\r\n",
        "names = input('학생들의 이름 입력(,로 구분):').split(',')\r\n",
        "score_kor = input('학생들의 국어성적 입력(,로 구분):').split(',')\r\n",
        "score_eng = input('학생들의 영어성적 입력(,로 구분):').split(',')\r\n",
        "score_math = input('학생들의 수학성적 입력(,로 구분):').split(',')\r\n",
        "\r\n",
        "score_kor = [int(i) for i in score_kor]\r\n",
        "score_eng = [int(i) for i in score_eng] \r\n",
        "score_math = [int(i) for i in score_math] \r\n",
        "\r\n",
        "series_kor = pd.Series(score_kor,index=names)\r\n",
        "series_eng = pd.Series(score_eng,index=names)\r\n",
        "series_math = pd.Series(score_math,index = names)\r\n",
        "\r\n",
        "d= pd.DataFrame(index = names)\r\n",
        "d['국어'] = series_kor\r\n",
        "d['영어'] = series_eng\r\n",
        "d['수학'] = series_math\r\n",
        "d['합계'] = d.sum(axis = 1)    #  d[' '] -> (axis=1)\r\n",
        "d.loc['평균'] = (d.sum(axis = 0))//len(names)   #  d.loc[' '] -> (axis=0)\r\n",
        "print(d)\r\n",
        "\r\n",
        "search_student = input('검색할 학생 이름은? ')\r\n",
        "print(d.loc[search_student]) "
      ],
      "execution_count": null,
      "outputs": [
        {
          "output_type": "stream",
          "text": [
            "학생들의 이름 입력(,로 구분):영희,철수,미미\n",
            "학생들의 국어성적 입력(,로 구분):40,60,80\n",
            "학생들의 영어성적 입력(,로 구분):30,70,90\n",
            "학생들의 수학성적 입력(,로 구분):70,80,98\n",
            "    국어  영어  수학   합계\n",
            "영희  40  30  70  140\n",
            "철수  60  70  80  210\n",
            "미미  80  90  98  268\n",
            "평균  60  63  82  206\n",
            "검색할 학생 이름은? 미미\n",
            "국어     80\n",
            "영어     90\n",
            "수학     98\n",
            "합계    268\n",
            "Name: 미미, dtype: int64\n"
          ],
          "name": "stdout"
        }
      ]
    },
    {
      "cell_type": "markdown",
      "metadata": {
        "id": "JPKkfE3oEStE"
      },
      "source": [
        "## 실습 4 : DataFrame으로 만들어 정렬하기"
      ]
    },
    {
      "cell_type": "code",
      "metadata": {
        "id": "F6CWtTyNEYZB",
        "colab": {
          "base_uri": "https://localhost:8080/",
          "height": 312
        },
        "outputId": "590f71cb-b39a-48f3-d71e-f2227b8edb7c"
      },
      "source": [
        "# 정렬식을 if문에 적용할 수 있는가\r\n",
        "import pandas as pd\r\n",
        "\r\n",
        "names = input('학생들의 이름 입력(,로 구분):').split(',')\r\n",
        "score_kor = input('학생들의 국어성적 입력(,로 구분):').split(',')\r\n",
        "score_eng = input('학생들의 영어성적 입력(,로 구분):').split(',')\r\n",
        "score_math = input('학생들의 수학성적 입력(,로 구분):').split(',')\r\n",
        "\r\n",
        "score_kor = [int(i) for i in score_kor]\r\n",
        "score_eng = [int(i) for i in score_eng] \r\n",
        "score_math = [int(i) for i in score_math] \r\n",
        "\r\n",
        "series_kor = pd.Series(score_kor,index=names)\r\n",
        "series_eng = pd.Series(score_eng,index=names)\r\n",
        "series_math = pd.Series(score_math,index = names)\r\n",
        "\r\n",
        "d1= pd.DataFrame(index = names)\r\n",
        "d1['국어'] = series_kor\r\n",
        "d1['영어'] = series_eng\r\n",
        "d1['수학'] = series_math\r\n",
        "d1['합계'] = d1.sum(axis = 1)\r\n",
        "print(d1)\r\n",
        "\r\n",
        "criteria = input('정렬 기준 선택(1:국어, 2;영어, 3:수학, 4:합계):')\r\n",
        "type = input('정렬 방법 선택(1:오름차순,2:내림차순')\r\n",
        "\r\n",
        "if criteria == '1':\r\n",
        "  criteria = '국어'\r\n",
        "elif criteria == '2':\r\n",
        "  criteria = '영어'\r\n",
        "elif criteria == '3':\r\n",
        "  criteria = '수학'\r\n",
        "else :\r\n",
        "  criteria = '합계'\r\n",
        "\r\n",
        "if type == '1':\r\n",
        "  type = True\r\n",
        "else:\r\n",
        "  type = False\r\n",
        "\r\n",
        "d1.sort_values(by = criteria,ascending = type)"
      ],
      "execution_count": null,
      "outputs": [
        {
          "output_type": "stream",
          "text": [
            "학생들의 이름 입력(,로 구분):영희,철수,미미\n",
            "학생들의 국어성적 입력(,로 구분):40,50,70\n",
            "학생들의 영어성적 입력(,로 구분):30,70,90\n",
            "학생들의 수학성적 입력(,로 구분):40,70,89\n",
            "    국어  영어  수학   합계\n",
            "영희  40  30  40  110\n",
            "철수  50  70  70  190\n",
            "미미  70  90  89  249\n",
            "정렬 기준 선택(1:국어, 2;영어, 3:수학, 4:합계):4\n",
            "정렬 방법 선택(1:오름차순,2:내림차순1\n"
          ],
          "name": "stdout"
        },
        {
          "output_type": "execute_result",
          "data": {
            "text/html": [
              "<div>\n",
              "<style scoped>\n",
              "    .dataframe tbody tr th:only-of-type {\n",
              "        vertical-align: middle;\n",
              "    }\n",
              "\n",
              "    .dataframe tbody tr th {\n",
              "        vertical-align: top;\n",
              "    }\n",
              "\n",
              "    .dataframe thead th {\n",
              "        text-align: right;\n",
              "    }\n",
              "</style>\n",
              "<table border=\"1\" class=\"dataframe\">\n",
              "  <thead>\n",
              "    <tr style=\"text-align: right;\">\n",
              "      <th></th>\n",
              "      <th>국어</th>\n",
              "      <th>영어</th>\n",
              "      <th>수학</th>\n",
              "      <th>합계</th>\n",
              "    </tr>\n",
              "  </thead>\n",
              "  <tbody>\n",
              "    <tr>\n",
              "      <th>영희</th>\n",
              "      <td>40</td>\n",
              "      <td>30</td>\n",
              "      <td>40</td>\n",
              "      <td>110</td>\n",
              "    </tr>\n",
              "    <tr>\n",
              "      <th>철수</th>\n",
              "      <td>50</td>\n",
              "      <td>70</td>\n",
              "      <td>70</td>\n",
              "      <td>190</td>\n",
              "    </tr>\n",
              "    <tr>\n",
              "      <th>미미</th>\n",
              "      <td>70</td>\n",
              "      <td>90</td>\n",
              "      <td>89</td>\n",
              "      <td>249</td>\n",
              "    </tr>\n",
              "  </tbody>\n",
              "</table>\n",
              "</div>"
            ],
            "text/plain": [
              "    국어  영어  수학   합계\n",
              "영희  40  30  40  110\n",
              "철수  50  70  70  190\n",
              "미미  70  90  89  249"
            ]
          },
          "metadata": {
            "tags": []
          },
          "execution_count": 1
        }
      ]
    },
    {
      "cell_type": "markdown",
      "metadata": {
        "id": "NJUaeHmPEYnU"
      },
      "source": [
        "## 실습 5 : DataFrame으로 고객 추출하기"
      ]
    },
    {
      "cell_type": "code",
      "metadata": {
        "id": "rt3oLx5ZEgSQ",
        "colab": {
          "base_uri": "https://localhost:8080/"
        },
        "outputId": "1cc8fbe2-74dc-4f06-8229-6a387f1aabf7"
      },
      "source": [
        "# 어떤 반복문을 어떻게 사용할것인가\r\n",
        "# 빈list를 생성하고, 그 list에 입력받은 값들을 어떻게 차곡차곡 넣을것인가\r\n",
        "# 어떻게 filtering해서 원하는 값만 골라 출력할것인가\r\n",
        "import pandas as pd\r\n",
        "\r\n",
        "names=[]\r\n",
        "infos=[]\r\n",
        "\r\n",
        "while True:\r\n",
        "  customer_name = input('고객의 이름: ')\r\n",
        "  if customer_name == ' ':\r\n",
        "    break\r\n",
        "  customer_gender = input('고객의 성별(남/여): ')\r\n",
        "  customer_age = int(input('고객의 나이: '))\r\n",
        "  customer_ocupation = input('고객의 직업(학생/직장인/자영업/전문직/기타): ')\r\n",
        "  info = [customer_gender,customer_age,customer_ocupation]\r\n",
        "  names.append(customer_name)\r\n",
        "  infos.append(info)\r\n",
        "\r\n",
        "a = ['성별', '나이', '직업']\r\n",
        "d = pd.DataFrame(infos,names,a)\r\n",
        "\r\n",
        "x = (d.성별 =='여')\r\n",
        "d1 = d[x]\r\n",
        "x = (d.나이 >= 60)\r\n",
        "d2 = d1[x]\r\n",
        "\r\n",
        "x = (d.직업=='학생')\r\n",
        "d3 = d[x]\r\n",
        "\r\n",
        "x = (d.나이>=30)\r\n",
        "d4 = d[x]\r\n",
        "x = (d.나이<50)\r\n",
        "d5 = d4[x]\r\n",
        "\r\n",
        "\r\n",
        "print('-------------------------------')\r\n",
        "print('고객명단')\r\n",
        "print(d)\r\n",
        "print('-------------------------------')\r\n",
        "print('나이가 60 이상이 여성 고객 명단: ')\r\n",
        "print(d2)\r\n",
        "print('-------------------------------')\r\n",
        "print('직업이 학생인 고객 명단: ')\r\n",
        "print(d3)\r\n",
        "print('-------------------------------')\r\n",
        "print('30,40대 고객 명단: ')\r\n",
        "print(d5)"
      ],
      "execution_count": null,
      "outputs": [
        {
          "output_type": "stream",
          "text": [
            "고객의 이름: 김철수\n",
            "고객의 성별(남/여): 남\n",
            "고객의 나이: 60\n",
            "고객의 직업(학생/직장인/자영업/전문직/기타): 전문직\n",
            "고객의 이름: 김미영\n",
            "고객의 성별(남/여): 여\n",
            "고객의 나이: 62\n",
            "고객의 직업(학생/직장인/자영업/전문직/기타): 기타\n",
            "고객의 이름: 이수지\n",
            "고객의 성별(남/여): 여\n",
            "고객의 나이: 20\n",
            "고객의 직업(학생/직장인/자영업/전문직/기타): 학생\n",
            "고객의 이름: 홍길동\n",
            "고객의 성별(남/여): 남\n",
            "고객의 나이: 32\n",
            "고객의 직업(학생/직장인/자영업/전문직/기타): 직장인\n",
            "고객의 이름: 이철\n",
            "고객의 성별(남/여): 남\n",
            "고객의 나이: 45\n",
            "고객의 직업(학생/직장인/자영업/전문직/기타): 자영업\n",
            "고객의 이름:  \n",
            "-------------------------------\n",
            "고객명단\n",
            "    성별  나이   직업\n",
            "김철수  남  60  전문직\n",
            "김미영  여  62   기타\n",
            "이수지  여  20   학생\n",
            "홍길동  남  32  직장인\n",
            "이철   남  45  자영업\n",
            "-------------------------------\n",
            "나이가 60 이상이 여성 고객 명단: \n",
            "    성별  나이  직업\n",
            "김미영  여  62  기타\n",
            "-------------------------------\n",
            "직업이 학생인 고객 명단: \n",
            "    성별  나이  직업\n",
            "이수지  여  20  학생\n",
            "-------------------------------\n",
            "30,40대 고객 명단: \n",
            "    성별  나이   직업\n",
            "홍길동  남  32  직장인\n",
            "이철   남  45  자영업\n"
          ],
          "name": "stdout"
        },
        {
          "output_type": "stream",
          "text": [
            "/usr/local/lib/python3.6/dist-packages/ipykernel_launcher.py:26: UserWarning: Boolean Series key will be reindexed to match DataFrame index.\n",
            "/usr/local/lib/python3.6/dist-packages/ipykernel_launcher.py:34: UserWarning: Boolean Series key will be reindexed to match DataFrame index.\n"
          ],
          "name": "stderr"
        }
      ]
    }
  ]
}