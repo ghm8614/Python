{
  "nbformat": 4,
  "nbformat_minor": 0,
  "metadata": {
    "colab": {
      "name": "8 Container data type2.ipynb",
      "provenance": [],
      "collapsed_sections": [],
      "authorship_tag": "ABX9TyNs+D2XkLsjX9ICkMr5lXb1",
      "include_colab_link": true
    },
    "kernelspec": {
      "name": "python3",
      "display_name": "Python 3"
    }
  },
  "cells": [
    {
      "cell_type": "markdown",
      "metadata": {
        "id": "view-in-github",
        "colab_type": "text"
      },
      "source": [
        "<a href=\"https://colab.research.google.com/github/ghm8614/Python/blob/main/8_Container_data_type2.ipynb\" target=\"_parent\"><img src=\"https://colab.research.google.com/assets/colab-badge.svg\" alt=\"Open In Colab\"/></a>"
      ]
    },
    {
      "cell_type": "markdown",
      "metadata": {
        "id": "wKcCr3gu3Kve"
      },
      "source": [
        "# 8 Container data type 2"
      ]
    },
    {
      "cell_type": "markdown",
      "metadata": {
        "id": "8kP0mKSw3aEJ"
      },
      "source": [
        "## 실습 1 : tuple의 활용"
      ]
    },
    {
      "cell_type": "code",
      "metadata": {
        "id": "cBj9Vrsn3aSV",
        "colab": {
          "base_uri": "https://localhost:8080/"
        },
        "outputId": "a5627e31-6db9-4df1-a738-b70a17ed4093"
      },
      "source": [
        "tuple1 = ('초록', '빨강', '파랑')\r\n",
        "tuple2 = tuple([7,1,2,23,4,5])\r\n",
        "\r\n",
        "print('튜플의 길이는', len(tuple2), '입니다.')\r\n",
        "print('튜플의 최대값은', max(tuple2), '입니다.')\r\n",
        "print('튜플의 최고값은', min(tuple2), '입니다.')\r\n",
        "print('튜플의 합계는', sum(tuple2), '입니다.')\r\n",
        "\r\n",
        "print()\r\n",
        "for v in tuple1:\r\n",
        "  print(v, end = '')\r\n",
        "\r\n",
        "print()\r\n",
        "list1 = list(tuple2)\r\n",
        "print(list1)\r\n",
        "list1.sort()\r\n",
        "print(list1.sort())\r\n",
        "print(list1)"
      ],
      "execution_count": null,
      "outputs": [
        {
          "output_type": "stream",
          "text": [
            "튜플의 길이는 6 입니다.\n",
            "튜플의 최대값은 23 입니다.\n",
            "튜플의 최고값은 1 입니다.\n",
            "튜플의 합계는 42 입니다.\n",
            "\n",
            "초록빨강파랑\n",
            "[7, 1, 2, 23, 4, 5]\n",
            "None\n",
            "[1, 2, 4, 5, 7, 23]\n"
          ],
          "name": "stdout"
        }
      ]
    },
    {
      "cell_type": "markdown",
      "metadata": {
        "id": "GrvsAkHR3aif"
      },
      "source": [
        "## 실습 2 : set의 활용\r\n"
      ]
    },
    {
      "cell_type": "code",
      "metadata": {
        "id": "XZeb5XX33axF"
      },
      "source": [
        "import os\r\n",
        "import sys\r\n",
        "keyWords = {'and', 'as', 'if', 'default', 'default', 'as', 'like'}\r\n",
        "filename = input('소스코드파일명을 입력하세요').strip()\r\n",
        "if not os.path.isfile(filename):\r\n",
        "  print('파일', filename, '이  존재하지 않습니다.')\r\n",
        "  sys.exit()\r\n",
        "\r\n",
        "infile = open(filename, 'r')\r\n",
        "\r\n",
        "text = infile.read().split()\r\n",
        "count = 0\r\n",
        "for word in text:\r\n",
        "  if word in keyWords:\r\n",
        "    count += 1\r\n",
        "\r\n",
        "print(filename, '에', count, '개의 키워드가 포함되어 있습니다.')"
      ],
      "execution_count": null,
      "outputs": []
    },
    {
      "cell_type": "markdown",
      "metadata": {
        "id": "DfMfUnZy3tgb"
      },
      "source": [
        "## 실습 3 : 편의점 재고관리 프로그램(dict 실습)"
      ]
    },
    {
      "cell_type": "code",
      "metadata": {
        "id": "QXyo-VzT3tu9",
        "colab": {
          "base_uri": "https://localhost:8080/"
        },
        "outputId": "52ed198e-cc35-4b78-b982-36fa1a533841"
      },
      "source": [
        "store = {'커피':7, '펜':3, '종이컵':2, '우유':1, '콜라':5, '책':5}\r\n",
        "\r\n",
        "while True:\r\n",
        "  print('==========메뉴==========')\r\n",
        "  print('1.재고확인 2.판매 3.종료')\r\n",
        "  print('========================')\r\n",
        "  select = input('메뉴를 선택하세요: ')\r\n",
        "\r\n",
        "  if (select == '1'):\r\n",
        "    product = input('물건명 입력: ')\r\n",
        "    amount = store[product]\r\n",
        "    print(product + '는' + str(amount)+'개 남았습니다.')\r\n",
        "\r\n",
        "  elif (select == '2'):\r\n",
        "    product = input('물건명 입력: ')\r\n",
        "    amount_sell = input(product + '의 판매 개수: ')\r\n",
        "    amount_sell = int(amount_sell)\r\n",
        "    store[product] = store[product] - amount_sell\r\n",
        "    amount_left = store[product]\r\n",
        "    print(product + '는 ' + str(amount_left) + '개 남았습니다.')\r\n",
        "\r\n",
        "  else :\r\n",
        "    break\r\n",
        "\r\n",
        "  print()"
      ],
      "execution_count": null,
      "outputs": [
        {
          "output_type": "stream",
          "text": [
            "==========메뉴==========\n",
            "1.재고확인 2.판매 3.종료\n",
            "========================\n",
            "메뉴를 선택하세요: 1\n",
            "물건명 입력: 콜라\n",
            "콜라는5개 남았습니다.\n",
            "\n",
            "==========메뉴==========\n",
            "1.재고확인 2.판매 3.종료\n",
            "========================\n",
            "메뉴를 선택하세요: 2\n",
            "물건명 입력: 콜라\n",
            "콜라의 판매 개수: 3\n",
            "콜라는 2개 남았습니다.\n",
            "\n",
            "==========메뉴==========\n",
            "1.재고확인 2.판매 3.종료\n",
            "========================\n",
            "메뉴를 선택하세요: 3\n"
          ],
          "name": "stdout"
        }
      ]
    },
    {
      "cell_type": "markdown",
      "metadata": {
        "id": "69Hr4Io13t52"
      },
      "source": [
        "## 실습 4 : 한영사전 단어등록 및 검색 프로그램(dict 실습)"
      ]
    },
    {
      "cell_type": "code",
      "metadata": {
        "id": "x2u90eOB3uG8",
        "colab": {
          "base_uri": "https://localhost:8080/"
        },
        "outputId": "baeb93ee-9507-4508-be86-f07cbf9917d5"
      },
      "source": [
        "words = {}\r\n",
        "\r\n",
        "print('=========================메뉴==========================')\r\n",
        "print('1. 단어 등록  2. 한국어->영어  3. 영어->한국어  4. 종료')\r\n",
        "print('=========================메뉴==========================')\r\n",
        "\r\n",
        "while True:\r\n",
        "  menu = input('메뉴를 선택하세요: ')\r\n",
        "\r\n",
        "  if(menu == '1'):\r\n",
        "    kor = input('등록할 한국어 단어 입력: ')\r\n",
        "    eng = input('등록할 영어 단어 입력: ')\r\n",
        "    words[kor] = eng\r\n",
        "\r\n",
        "  elif (menu == '2'):\r\n",
        "    find = input('검색할 단어: ')\r\n",
        "    print('영어 : ' + words[find])\r\n",
        "\r\n",
        "  elif (menu == '3'):\r\n",
        "    find = input('검색할 단어: ')\r\n",
        "    for i in words.keys():\r\n",
        "      if (words[i] == find):\r\n",
        "        print('한국어 : ' + i)\r\n",
        "\r\n",
        "  else :\r\n",
        "    print('프로그램을 종료합니다.')\r\n",
        "    break\r\n",
        "\r\n",
        "  print()"
      ],
      "execution_count": null,
      "outputs": [
        {
          "output_type": "stream",
          "text": [
            "=========================메뉴==========================\n",
            "1. 단어 등록  2. 한국어->영어  3. 영어->한국어  4. 종료\n",
            "=========================메뉴==========================\n",
            "메뉴를 선택하세요: 1\n",
            "등록할 한국어 단어 입력: 기차\n",
            "등록할 영어 단어 입력: train\n",
            "\n",
            "메뉴를 선택하세요: 3\n",
            "검색할 단어: train\n",
            "한국어 : 기차\n",
            "\n",
            "메뉴를 선택하세요: 4\n",
            "프로그램을 종료합니다.\n"
          ],
          "name": "stdout"
        }
      ]
    }
  ]
}