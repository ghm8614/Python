{
  "nbformat": 4,
  "nbformat_minor": 0,
  "metadata": {
    "colab": {
      "name": "2-2 입출력.ipynb",
      "provenance": [],
      "collapsed_sections": [],
      "authorship_tag": "ABX9TyMBtdn8mCSbAYE79vJZPKuZ",
      "include_colab_link": true
    },
    "kernelspec": {
      "name": "python3",
      "display_name": "Python 3"
    }
  },
  "cells": [
    {
      "cell_type": "markdown",
      "metadata": {
        "id": "view-in-github",
        "colab_type": "text"
      },
      "source": [
        "<a href=\"https://colab.research.google.com/github/ghm8614/Python/blob/main/2_2_%EC%9E%85%EC%B6%9C%EB%A0%A5.ipynb\" target=\"_parent\"><img src=\"https://colab.research.google.com/assets/colab-badge.svg\" alt=\"Open In Colab\"/></a>"
      ]
    },
    {
      "cell_type": "markdown",
      "metadata": {
        "id": "vPuDuydKs2Gd"
      },
      "source": [
        "\r\n",
        "\r\n",
        " # 2-2 입출력"
      ]
    },
    {
      "cell_type": "code",
      "metadata": {
        "colab": {
          "base_uri": "https://localhost:8080/"
        },
        "id": "ANloss4lQ6tl",
        "outputId": "35e10ae7-0b60-4929-b25d-f26f30b2c2a8"
      },
      "source": [
        "age = input('How old are you?')"
      ],
      "execution_count": 3,
      "outputs": [
        {
          "output_type": "stream",
          "text": [
            "How old are you?15\n"
          ],
          "name": "stdout"
        }
      ]
    },
    {
      "cell_type": "code",
      "metadata": {
        "colab": {
          "base_uri": "https://localhost:8080/"
        },
        "id": "55pvPyVmQ6wO",
        "outputId": "67098512-0fdd-4e81-ff7b-d7848ba24146"
      },
      "source": [
        "print('How old are you?')\r\n",
        "age = input()"
      ],
      "execution_count": 2,
      "outputs": [
        {
          "output_type": "stream",
          "text": [
            "How old are you?\n",
            "15\n"
          ],
          "name": "stdout"
        }
      ]
    },
    {
      "cell_type": "markdown",
      "metadata": {
        "id": "Nuxc8g49V3LL"
      },
      "source": [
        "전자의 age는 정수이고, 후자의 age는 문자열이다.\r\n"
      ]
    },
    {
      "cell_type": "code",
      "metadata": {
        "colab": {
          "base_uri": "https://localhost:8080/"
        },
        "id": "K-vpJoAvQ62o",
        "outputId": "5630a4f6-453e-4a4a-fb64-6d486884acde"
      },
      "source": [
        "name = 'Alice'\r\n",
        "age = input(name+':')"
      ],
      "execution_count": 4,
      "outputs": [
        {
          "output_type": "stream",
          "text": [
            "Alice:15\n"
          ],
          "name": "stdout"
        }
      ]
    },
    {
      "cell_type": "markdown",
      "metadata": {
        "id": "L35jwgJqYHeO"
      },
      "source": [
        "\r\n",
        "##   퀴즈\r\n",
        "\r\n",
        "\r\n",
        "\r\n",
        "\r\n",
        "\r\n"
      ]
    },
    {
      "cell_type": "code",
      "metadata": {
        "colab": {
          "base_uri": "https://localhost:8080/"
        },
        "id": "PQF75k9mYVq9",
        "outputId": "8067369f-dfdc-4e73-e6a4-546f4afde460"
      },
      "source": [
        "# 문자와 숫자의 덧셈은 불가. 곱셈은 가능(몇 번 반복 출력하라는 의미)\r\n",
        "print('파이썬은 즐거워 '* 5)"
      ],
      "execution_count": null,
      "outputs": [
        {
          "output_type": "stream",
          "text": [
            "파이썬은 즐거워 파이썬은 즐거워 파이썬은 즐거워 파이썬은 즐거워 파이썬은 즐거워 \n"
          ],
          "name": "stdout"
        }
      ]
    },
    {
      "cell_type": "markdown",
      "metadata": {
        "id": "EwOA-0CGYsoq"
      },
      "source": [
        "\r\n",
        "##   실습 1 : 콩 나무 찍기\r\n",
        "\r\n",
        "\r\n"
      ]
    },
    {
      "cell_type": "code",
      "metadata": {
        "colab": {
          "base_uri": "https://localhost:8080/"
        },
        "id": "cVeOgdp6Yv0R",
        "outputId": "4a35faed-3681-49de-acbb-405985b7255f"
      },
      "source": [
        "num = 10\r\n",
        "print('콩 '* num, '나무를 10 번 찍었습니다.')"
      ],
      "execution_count": null,
      "outputs": [
        {
          "output_type": "stream",
          "text": [
            "콩 콩 콩 콩 콩 콩 콩 콩 콩 콩 나무를 10 번 찍었습니다.\n"
          ],
          "name": "stdout"
        }
      ]
    },
    {
      "cell_type": "code",
      "metadata": {
        "colab": {
          "base_uri": "https://localhost:8080/"
        },
        "id": "thjPFbk101Nb",
        "outputId": "c5554ef4-5682-484c-eb4e-0cbc5c33c5bf"
      },
      "source": [
        "# 답안\r\n",
        "num = 10\r\n",
        "print('콩 '* num, '나무를', num, '번 찍었습니다.')"
      ],
      "execution_count": null,
      "outputs": [
        {
          "output_type": "stream",
          "text": [
            "콩 콩 콩 콩 콩 콩 콩 콩 콩 콩  나무를 10 번 찍었습니다.\n"
          ],
          "name": "stdout"
        }
      ]
    },
    {
      "cell_type": "markdown",
      "metadata": {
        "id": "NOVKT3FpZXwI"
      },
      "source": [
        "\r\n",
        "\r\n",
        "##   실습 2 : favorite stuff\r\n",
        "\r\n",
        "\r\n",
        "\r\n"
      ]
    },
    {
      "cell_type": "code",
      "metadata": {
        "colab": {
          "base_uri": "https://localhost:8080/"
        },
        "id": "KSl5BKuKZbl4",
        "outputId": "d337a8c7-07a6-49c5-b34b-d4e04b81f88f"
      },
      "source": [
        "# input('') : 입력받을 것이다. 그 질문 내용은 ' '이다.\r\n",
        "print('Tell me your favorite stuff.')\r\n",
        "fruit = input('Your favorite fruit is ')\r\n",
        "flower = input('Your favorite flower is ')\r\n",
        "drink = input('Your favorite drink is ')\r\n",
        "print('Your entered: ', fruit, flower, drink)"
      ],
      "execution_count": null,
      "outputs": [
        {
          "output_type": "stream",
          "text": [
            "Tell me your favorite stuff.\n",
            "Your favorite fruit is mango\n",
            "Your favorite flower is rose\n",
            "Your favorite drink is water\n",
            "Your entered:  mango rose water\n"
          ],
          "name": "stdout"
        }
      ]
    },
    {
      "cell_type": "markdown",
      "metadata": {
        "id": "ayvBuDuPaeGV"
      },
      "source": [
        "\r\n",
        "\r\n",
        "##   실습 3 : 개인정보 입출력\r\n",
        "\r\n",
        "\r\n",
        "\r\n"
      ]
    },
    {
      "cell_type": "code",
      "metadata": {
        "colab": {
          "base_uri": "https://localhost:8080/"
        },
        "id": "vyFT189Vag1j",
        "outputId": "2b9e920e-cd4a-4d01-e513-261b48614976"
      },
      "source": [
        "# print() : 한 줄 띄기 \r\n",
        "name = input('이름 : ')\r\n",
        "age = input('나이 : ')\r\n",
        "university = input('학교 : ')\r\n",
        "major = input('학부 : ')\r\n",
        "print()\r\n",
        "wish = input('수업에 바라는 점 : ')\r\n",
        "print()\r\n",
        "print(university, major, age + '세', name + '님') \r\n",
        "print(wish, ' 의견 감사합니다.')"
      ],
      "execution_count": null,
      "outputs": [
        {
          "output_type": "stream",
          "text": [
            "이름 : 홍길동\n",
            "나이 : 20\n",
            "학교 : 서울대학교\n",
            "학부 : 중어중문학과\n",
            "\n",
            "수업에 바라는 점 : ~~\n",
            "\n",
            "서울대학교 중어중문학과 20세 홍길동님\n",
            "~~ 의견 감사합니다.\n"
          ],
          "name": "stdout"
        }
      ]
    },
    {
      "cell_type": "markdown",
      "metadata": {
        "id": "CmeISe5hciwu"
      },
      "source": [
        "\r\n",
        "##   실습 4-1 : 앵무새 프로그램1\r\n",
        "\r\n",
        "\r\n",
        "\r\n",
        "\r\n"
      ]
    },
    {
      "cell_type": "code",
      "metadata": {
        "colab": {
          "base_uri": "https://localhost:8080/"
        },
        "id": "WuzE9PLCcmUV",
        "outputId": "cccfdfd6-e7de-4a48-93c8-e1c7f89d1c4e"
      },
      "source": [
        "print('대화를 시작합니다.')\r\n",
        "print()\r\n",
        "question = input()\r\n",
        "print(question)"
      ],
      "execution_count": null,
      "outputs": [
        {
          "output_type": "stream",
          "text": [
            "대화를 시작합니다.\n",
            "\n",
            "너 이름이 뭐야?\n",
            "너 이름이 뭐야?\n"
          ],
          "name": "stdout"
        }
      ]
    },
    {
      "cell_type": "markdown",
      "metadata": {
        "id": "o72jGPVyfxZP"
      },
      "source": [
        "\r\n",
        "##   실습 4-2 : 앵무새 프로그램2\r\n",
        "\r\n",
        "\r\n",
        "\r\n"
      ]
    },
    {
      "cell_type": "code",
      "metadata": {
        "id": "rfEYM8gvfzt3",
        "colab": {
          "base_uri": "https://localhost:8080/"
        },
        "outputId": "2e7f7ddc-390c-479a-ecea-3a01cab765dd"
      },
      "source": [
        "person = '조련사: '\r\n",
        "bird = '앵무새:'\r\n",
        "\r\n",
        "print('대화를 시작합니다.')\r\n",
        "print()\r\n",
        "answer1=input(person)\r\n",
        "print(bird,answer1)\r\n",
        "print()\r\n",
        "\r\n",
        "answer2=input(person)\r\n",
        "print(bird,answer2)\r\n",
        "print()\r\n",
        "\r\n",
        "answer3=input(person)\r\n",
        "print(bird,answer3)"
      ],
      "execution_count": 5,
      "outputs": [
        {
          "output_type": "stream",
          "text": [
            "대화를 시작합니다.\n",
            "\n",
            "조련사: 아아아아\n",
            "앵무새: 아아아아\n",
            "\n",
            "조련사: 가가가가\n",
            "앵무새: 가가가가\n",
            "\n",
            "조련사: 나나나나\n",
            "앵무새: 나나나나\n"
          ],
          "name": "stdout"
        }
      ]
    }
  ]
}