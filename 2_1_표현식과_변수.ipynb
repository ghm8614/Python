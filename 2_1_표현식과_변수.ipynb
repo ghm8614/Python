{
  "nbformat": 4,
  "nbformat_minor": 0,
  "metadata": {
    "colab": {
      "name": "2-1 표현식과 변수.ipynb",
      "provenance": [],
      "authorship_tag": "ABX9TyPYq+IOn0Yqjd92xeEVFJwk",
      "include_colab_link": true
    },
    "kernelspec": {
      "name": "python3",
      "display_name": "Python 3"
    }
  },
  "cells": [
    {
      "cell_type": "markdown",
      "metadata": {
        "id": "view-in-github",
        "colab_type": "text"
      },
      "source": [
        "<a href=\"https://colab.research.google.com/github/ghm8614/Python/blob/main/2_1_%ED%91%9C%ED%98%84%EC%8B%9D%EA%B3%BC_%EB%B3%80%EC%88%98.ipynb\" target=\"_parent\"><img src=\"https://colab.research.google.com/assets/colab-badge.svg\" alt=\"Open In Colab\"/></a>"
      ]
    },
    {
      "cell_type": "markdown",
      "metadata": {
        "id": "srIr9KqsssWP"
      },
      "source": [
        "# 2-1 표현식과 변수\r\n"
      ]
    },
    {
      "cell_type": "markdown",
      "metadata": {
        "id": "SEXulWdjDDNx"
      },
      "source": [
        "\r\n",
        "\r\n",
        "##   실습 1 : 연산\r\n",
        "\r\n",
        "\r\n",
        "\r\n"
      ]
    },
    {
      "cell_type": "code",
      "metadata": {
        "colab": {
          "base_uri": "https://localhost:8080/"
        },
        "id": "i_DJM5F2_d8I",
        "outputId": "5e9e3b01-b7aa-4227-aa38-5bc09d2438b1"
      },
      "source": [
        "print(10+20)\r\n",
        "30-5\r\n",
        "15*7.0\r\n",
        "2/4\r\n",
        "print(2.0/4.0)\r\n",
        "2.0/4\r\n",
        "print(50%4)\r\n",
        "10**3"
      ],
      "execution_count": null,
      "outputs": [
        {
          "output_type": "stream",
          "text": [
            "30\n",
            "0.5\n",
            "2\n"
          ],
          "name": "stdout"
        },
        {
          "output_type": "execute_result",
          "data": {
            "text/plain": [
              "1000"
            ]
          },
          "metadata": {
            "tags": []
          },
          "execution_count": 4
        }
      ]
    },
    {
      "cell_type": "markdown",
      "metadata": {
        "id": "_H5eYKiF9EpM"
      },
      "source": [
        "\r\n",
        "##   실습 2 : 할인 가격\r\n",
        "\r\n",
        "\r\n"
      ]
    },
    {
      "cell_type": "code",
      "metadata": {
        "colab": {
          "base_uri": "https://localhost:8080/"
        },
        "id": "A80LdsOIETyB",
        "outputId": "67fc96fa-a5a9-4ca1-e283-f705f9d103db"
      },
      "source": [
        "eggs_price = 4000\r\n",
        "milk_price = 1850\r\n",
        "total_price = (eggs_price + milk_price* 2) * (1-0.05)\r\n",
        "print(total_price)"
      ],
      "execution_count": null,
      "outputs": [
        {
          "output_type": "stream",
          "text": [
            "7315.0\n"
          ],
          "name": "stdout"
        }
      ]
    },
    {
      "cell_type": "markdown",
      "metadata": {
        "id": "Y4EM5Tgj9Us1"
      },
      "source": [
        "\r\n",
        "\r\n",
        "##   실습 3 : 화씨, 섭씨온도"
      ]
    },
    {
      "cell_type": "code",
      "metadata": {
        "colab": {
          "base_uri": "https://localhost:8080/"
        },
        "id": "gkLNcgxKEbpi",
        "outputId": "57df9d8c-4293-4c16-bd7c-01f8e8cea5b8"
      },
      "source": [
        "f = 100\r\n",
        "c = (5.0 / 9.0) * (f-32.0)\r\n",
        "print(c)\r\n",
        "\r\n",
        "c = 50\r\n",
        "f = (9.0/5.0) * c + 32.0\r\n",
        "print(f)"
      ],
      "execution_count": null,
      "outputs": [
        {
          "output_type": "stream",
          "text": [
            "37.77777777777778\n",
            "122.0\n"
          ],
          "name": "stdout"
        }
      ]
    }
  ]
}