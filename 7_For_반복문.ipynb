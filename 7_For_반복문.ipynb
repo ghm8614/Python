{
  "nbformat": 4,
  "nbformat_minor": 0,
  "metadata": {
    "colab": {
      "name": "7 For 반복문.ipynb",
      "provenance": [],
      "collapsed_sections": [],
      "toc_visible": true,
      "authorship_tag": "ABX9TyP3Im3aH0BLRZMmuVhxtosZ",
      "include_colab_link": true
    },
    "kernelspec": {
      "name": "python3",
      "display_name": "Python 3"
    }
  },
  "cells": [
    {
      "cell_type": "markdown",
      "metadata": {
        "id": "view-in-github",
        "colab_type": "text"
      },
      "source": [
        "<a href=\"https://colab.research.google.com/github/ghm8614/Python/blob/main/7_For_%EB%B0%98%EB%B3%B5%EB%AC%B8.ipynb\" target=\"_parent\"><img src=\"https://colab.research.google.com/assets/colab-badge.svg\" alt=\"Open In Colab\"/></a>"
      ]
    },
    {
      "cell_type": "markdown",
      "metadata": {
        "id": "WBIafyiREwFJ"
      },
      "source": [
        "# 7 For 반복문"
      ]
    },
    {
      "cell_type": "markdown",
      "metadata": {
        "id": "go3yKpNfWwIt"
      },
      "source": [
        "## 강의내용 정리"
      ]
    },
    {
      "cell_type": "code",
      "metadata": {
        "id": "PLVsqi4CFCru"
      },
      "source": [
        "# for반복문의 형태 : for 변수 in 범위:\r\n",
        "\r\n",
        "# 범위에 리스트\r\n",
        "for count in [1,2,3]:\r\n",
        "  print('나무를', count, '번 찍었습니다.', '딱!' * count)\r\n",
        "print('넘어가즈아~~~')\r\n",
        "\r\n",
        "# 범위에 range\r\n",
        "for count in range(1,4):\r\n",
        "  print('나무를', count, '번 찍었습니다.', '딱!' * count)\r\n",
        "print('넘어가즈아~~~')\r\n",
        "\r\n",
        "# 범위에 tuple(튜플) - 범위가 아니며, 리스트와 유사하다. \r\n",
        "for count in (1,9):\r\n",
        "  print('나무를', count, '번 찍었습니다.', '딱!' * count)\r\n",
        "print('넘어가즈아~~~')\r\n",
        "\r\n",
        "# 범위에 문자열리스트\r\n",
        "for food in ['noodle','pasta','spam']:\r\n",
        "  print('I really like ' + food + '.')\r\n",
        "\r\n",
        "# 문자열리스트가 긴 경우에 변수에 저장  \r\n",
        "a = ['noodle','pasta','spam']\r\n",
        "for food in a:\r\n",
        "  print('I really like ' + food + '.')\r\n",
        "\r\n",
        "a = 'noodle, pasta, spam'.split(', ')\r\n",
        "for food in a:\r\n",
        "  print('I really like ' + food + '.')\r\n",
        "\r\n",
        "# 범위에 문자열\r\n",
        "for word in 'Hello World':\r\n",
        "  print(word)\r\n",
        "\r\n",
        "for word in 'Hello World':\r\n",
        "  print(word, end='')  # end = ''는 줄바꿈을 하지 마라는 의미."
      ],
      "execution_count": null,
      "outputs": []
    },
    {
      "cell_type": "markdown",
      "metadata": {
        "id": "DM7TOiYtXhyY"
      },
      "source": [
        "## 예제 1 : 이중 for문으로 구구단"
      ]
    },
    {
      "cell_type": "code",
      "metadata": {
        "id": "ia1vbbhMFCvf"
      },
      "source": [
        "for dan in range(2,10):\r\n",
        "  for count in range(1,10):\r\n",
        "    print(dan, '*', count, '=', dan*count)"
      ],
      "execution_count": null,
      "outputs": []
    },
    {
      "cell_type": "markdown",
      "metadata": {
        "id": "R93vpzI5XyLB"
      },
      "source": [
        "## 예제 2 : for문으로 list 생성"
      ]
    },
    {
      "cell_type": "code",
      "metadata": {
        "id": "GgPDA6ulFDi6"
      },
      "source": [
        "# 1제곱,2제곱~~10제곱. 리스트 만들기\r\n",
        "a = []\r\n",
        "for num in range(1,11):\r\n",
        "  a.append(num**2)\r\n",
        "\r\n",
        "# 0.1,0.2 ~~ 0.9. 리스트 만들기\r\n",
        "x = []\r\n",
        "for num in range(1,10):\r\n",
        "  x.append(num/10)"
      ],
      "execution_count": null,
      "outputs": []
    },
    {
      "cell_type": "code",
      "metadata": {
        "colab": {
          "base_uri": "https://localhost:8080/"
        },
        "id": "YYVRBBSZESWP",
        "outputId": "b123a00f-683c-4d0d-9f0f-1e811ac84aa0"
      },
      "source": [
        "# list 내의 item 랜덤 출력\r\n",
        "import random\r\n",
        "\r\n",
        "animals = '고양이, 사자, 강아지'.split(', ')\r\n",
        "print(animals[0])\r\n",
        "print(animals[1])\r\n",
        "print(animals[2])\r\n",
        "print()\r\n",
        "\r\n",
        "animal1 = animals[random.randint(0,len(animals)-1)]\r\n",
        "animal2 = animals[random.randint(0,len(animals)-1)]\r\n",
        "print(animal1)\r\n",
        "print(animal2)"
      ],
      "execution_count": null,
      "outputs": [
        {
          "output_type": "stream",
          "text": [
            "고양이\n",
            "사자\n",
            "강아지\n",
            "\n",
            "고양이\n",
            "사자\n"
          ],
          "name": "stdout"
        }
      ]
    },
    {
      "cell_type": "markdown",
      "metadata": {
        "id": "OWGaYNyofrfQ"
      },
      "source": [
        "## 실습 1 : 패션 추천 조합"
      ]
    },
    {
      "cell_type": "code",
      "metadata": {
        "colab": {
          "base_uri": "https://localhost:8080/"
        },
        "id": "64H0De7W7lpl",
        "outputId": "18b12ef2-1968-480b-bab8-6a2264d659dc"
      },
      "source": [
        "import random\r\n",
        "\r\n",
        "color = 'black, grey, white, pink, orange'.split(', ')\r\n",
        "topwears = 'sweater shirts blouse jacket'.split(' ')\r\n",
        "bottomwears = ['sweater', 'shirts', 'blouse', 'jacket']\r\n",
        "accessory = ['hat', 'tie', 'scarf', 'shoes']\r\n",
        "\r\n",
        "for i in range(1,4):\r\n",
        "  print('오늘의 패션 ' + str(i) + '번 추천 조합입니다.')\r\n",
        "  # list 내의 item을 무작위로 출력하려면, \r\n",
        "  # item에 접근해야하므로, index를 사용해야함. list명[index]\r\n",
        "  # 변수를 몇개 만들것인지, 코드작성 전에 생각하기\r\n",
        "  col1 = color[random.randint(0,len(color)-1)]\r\n",
        "  col2 = color[random.randint(0,len(color)-1)]\r\n",
        "  col3 = color[random.randint(0,len(color)-1)]\r\n",
        "  top = topwears[random.randint(0,len(topwears)-1)]\r\n",
        "  bot = bottomwears[random.randint(0,len(bottomwears)-1)]\r\n",
        "  acc = accessory[random.randint(0,len(accessory)-1)]\r\n",
        "\r\n",
        "  print(col1, top)\r\n",
        "  print(col2, bot)\r\n",
        "  print(col3, acc)\r\n",
        "  print()"
      ],
      "execution_count": null,
      "outputs": [
        {
          "output_type": "stream",
          "text": [
            "오늘의 패션 1번 추천 조합입니다.\n",
            "black shirts\n",
            "pink sweater\n",
            "grey hat\n",
            "\n",
            "오늘의 패션 2번 추천 조합입니다.\n",
            "pink blouse\n",
            "black blouse\n",
            "pink scarf\n",
            "\n",
            "오늘의 패션 3번 추천 조합입니다.\n",
            "white sweater\n",
            "black jacket\n",
            "black tie\n",
            "\n"
          ],
          "name": "stdout"
        }
      ]
    },
    {
      "cell_type": "markdown",
      "metadata": {
        "id": "pWhmwAoEfwQH"
      },
      "source": [
        "## 실습 2 : 소수 찾기"
      ]
    },
    {
      "cell_type": "code",
      "metadata": {
        "id": "_5Ria2C2Elk6"
      },
      "source": [
        "# 답안1 (중첩for문)\r\n",
        "# 어디서 반복할지, 어떻게 반복할지 생각하기\r\n",
        "for i in range(3,100,2): # 이 부분을 생각해내는 게 중요\r\n",
        "  for divisor in range(3, i+1, 2):  \r\n",
        "    if ( i % divisor) == 0 :\r\n",
        "      break\r\n",
        "  if divisor >= (i - 2):\r\n",
        "   print(i, 'is a prime number.')    "
      ],
      "execution_count": null,
      "outputs": []
    },
    {
      "cell_type": "code",
      "metadata": {
        "id": "bnYFA1Mf8Zba"
      },
      "source": [
        "# 답안2 (for - else)\r\n",
        "for i in range(3,100,2): \r\n",
        "  for divisor in range(3, i+1, 2):  \r\n",
        "    if ( i % divisor) == 0 :\r\n",
        "      break\r\n",
        "  else: \r\n",
        "   print(i, 'is a prime number.')    "
      ],
      "execution_count": null,
      "outputs": []
    },
    {
      "cell_type": "markdown",
      "metadata": {
        "id": "Q5CKtk0Pf3gU"
      },
      "source": [
        "## 실습 3 : 숫자야구게임 만들기(bonus)"
      ]
    },
    {
      "cell_type": "code",
      "metadata": {
        "id": "epnWwkL7f3yD",
        "colab": {
          "base_uri": "https://localhost:8080/"
        },
        "outputId": "387eeed5-5344-47f3-c13e-19285712d6c8"
      },
      "source": [
        "# 문자열로 입력받아서 split해야함\r\n",
        "# 비밀숫자 3개를 한번에 만드는 방법 : random.sample(범위, 난수개수)\r\n",
        "import random\r\n",
        "\r\n",
        "target_num = random.sample(range(0,10),3)\r\n",
        "\r\n",
        "print('숫자야구게임을 시작합니다.')\r\n",
        "print()\r\n",
        "trial_count = 0\r\n",
        "\r\n",
        "while True:\r\n",
        "  input_num = input('숫자 3개를 입력하세요(예 3,5,8)').split()\r\n",
        "  trial_count = trial_count + 1\r\n",
        "\r\n",
        "  strike_count = 0\r\n",
        "  ball_count = 0\r\n",
        "\r\n",
        "  for i in range(0,3) :\r\n",
        "    for j in range(0,3):\r\n",
        "      if (int(input_num[i])) == (target_num[j]) :\r\n",
        "        if (i == j) :\r\n",
        "          strike_count = strike_count + 1\r\n",
        "        else :\r\n",
        "          ball_count = ball_count + 1\r\n",
        "\r\n",
        "  if (strike_count == 3):\r\n",
        "    print('Home run')\r\n",
        "    print('게임을 종료합니다.')\r\n",
        "    break\r\n",
        "  else :\r\n",
        "    print(strike_count, 'strike', ball_count, 'ball')\r\n",
        "\r\n",
        "  if (trial_count == 10):\r\n",
        "    print('기회를 모두 소진하였습니다. 비밀숫자는 ' + str(target_num)+'입니다.')\r\n",
        "    break"
      ],
      "execution_count": null,
      "outputs": [
        {
          "output_type": "stream",
          "text": [
            "숫자야구게임을 시작합니다.\n",
            "\n",
            "숫자 3개를 입력하세요(예 3,5,8)4 2 1\n",
            "1 strike 1 ball\n",
            "숫자 3개를 입력하세요(예 3,5,8)4 2 8\n",
            "1 strike 1 ball\n",
            "숫자 3개를 입력하세요(예 3,5,8)4 3 2\n",
            "2 strike 0 ball\n",
            "숫자 3개를 입력하세요(예 3,5,8)4 5 2\n",
            "Home run\n",
            "게임을 종료합니다.\n"
          ],
          "name": "stdout"
        }
      ]
    }
  ]
}