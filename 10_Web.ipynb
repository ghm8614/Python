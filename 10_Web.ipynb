{
  "nbformat": 4,
  "nbformat_minor": 0,
  "metadata": {
    "colab": {
      "name": "10 Web.ipynb",
      "provenance": [],
      "authorship_tag": "ABX9TyM1muSCjvkKpxZgetOfFmR0",
      "include_colab_link": true
    },
    "kernelspec": {
      "name": "python3",
      "display_name": "Python 3"
    }
  },
  "cells": [
    {
      "cell_type": "markdown",
      "metadata": {
        "id": "view-in-github",
        "colab_type": "text"
      },
      "source": [
        "<a href=\"https://colab.research.google.com/github/ghm8614/Python/blob/main/10_Web.ipynb\" target=\"_parent\"><img src=\"https://colab.research.google.com/assets/colab-badge.svg\" alt=\"Open In Colab\"/></a>"
      ]
    },
    {
      "cell_type": "markdown",
      "metadata": {
        "id": "JVrIGpCeYJ3h"
      },
      "source": [
        "# 10 Web (HTML)"
      ]
    },
    {
      "cell_type": "code",
      "metadata": {
        "id": "0WXCEtHH2A_u"
      },
      "source": [
        "html_text=\"\"\"\r\n",
        "<!DOCTYPE html>\r\n",
        "<html>\r\n",
        "  <head>\r\n",
        "    <meta charset = \"uft-8\">\r\n",
        "    <title>My test page</title>\r\n",
        "  </head>\r\n",
        "\r\n",
        "  <body>\r\n",
        "    <p>This is my page</p>\r\n",
        "    <h1>This is a Heading</hi> \r\n",
        "    <p>This is a paragraph.</p>\r\n",
        "    <h1>Some music</h1>\r\n",
        "    <p>I really enjoy<strong>playing the drums</strong>.\r\n",
        "      One of my favorite drummers is Neal Peart,who plays in the band\r\n",
        "      <a href=\"https://en.wikipedia.org/wiki/Rush_%28band%29\" title  = \"Rush Wikipedia article\">Rush</a>.\r\n",
        "      My favorite Rush album is currently Moving Pictures.</p>\r\n",
        "    <img src=\"https://upload.wikimedia.org/wikipedia/commons/4/46/Rush-in-concert.jpg\">\r\n",
        "  </body>\r\n",
        "</html>\r\n",
        "\"\"\"\r\n",
        "html_file = open('html_file.html','w')\r\n",
        "html_file.write(html_text)\r\n",
        "html_file.close()"
      ],
      "execution_count": null,
      "outputs": []
    }
  ]
}