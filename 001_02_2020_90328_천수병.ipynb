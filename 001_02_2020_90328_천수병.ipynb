{
  "nbformat": 4,
  "nbformat_minor": 0,
  "metadata": {
    "colab": {
      "name": "001_02_2020-90328_천수병.ipynb",
      "provenance": [],
      "collapsed_sections": [],
      "toc_visible": true,
      "authorship_tag": "ABX9TyP36XULM0IyMsPZI6IAhB0C",
      "include_colab_link": true
    },
    "kernelspec": {
      "name": "python3",
      "display_name": "Python 3"
    }
  },
  "cells": [
    {
      "cell_type": "markdown",
      "metadata": {
        "id": "view-in-github",
        "colab_type": "text"
      },
      "source": [
        "<a href=\"https://colab.research.google.com/github/ghm8614/Python/blob/main/001_02_2020_90328_%EC%B2%9C%EC%88%98%EB%B3%91.ipynb\" target=\"_parent\"><img src=\"https://colab.research.google.com/assets/colab-badge.svg\" alt=\"Open In Colab\"/></a>"
      ]
    },
    {
      "cell_type": "markdown",
      "metadata": {
        "id": "V65sc_Wu9Co0"
      },
      "source": [
        "# **파이썬**"
      ]
    },
    {
      "cell_type": "markdown",
      "metadata": {
        "id": "srIr9KqsssWP"
      },
      "source": [
        "\r\n",
        "\r\n",
        "> # 2-1 표현식과 변수\r\n",
        "\r\n",
        "\r\n"
      ]
    },
    {
      "cell_type": "markdown",
      "metadata": {
        "id": "SEXulWdjDDNx"
      },
      "source": [
        "\r\n",
        "\r\n",
        "##   실습 1 : 연산\r\n",
        "\r\n",
        "\r\n",
        "\r\n"
      ]
    },
    {
      "cell_type": "code",
      "metadata": {
        "colab": {
          "base_uri": "https://localhost:8080/"
        },
        "id": "i_DJM5F2_d8I",
        "outputId": "5e9e3b01-b7aa-4227-aa38-5bc09d2438b1"
      },
      "source": [
        "print(10+20)\r\n",
        "30-5\r\n",
        "15*7.0\r\n",
        "2/4\r\n",
        "print(2.0/4.0)\r\n",
        "2.0/4\r\n",
        "print(50%4)\r\n",
        "10**3"
      ],
      "execution_count": null,
      "outputs": [
        {
          "output_type": "stream",
          "text": [
            "30\n",
            "0.5\n",
            "2\n"
          ],
          "name": "stdout"
        },
        {
          "output_type": "execute_result",
          "data": {
            "text/plain": [
              "1000"
            ]
          },
          "metadata": {
            "tags": []
          },
          "execution_count": 4
        }
      ]
    },
    {
      "cell_type": "markdown",
      "metadata": {
        "id": "_H5eYKiF9EpM"
      },
      "source": [
        "\r\n",
        "##   실습 2 : 할인 가격\r\n",
        "\r\n",
        "\r\n"
      ]
    },
    {
      "cell_type": "code",
      "metadata": {
        "colab": {
          "base_uri": "https://localhost:8080/"
        },
        "id": "A80LdsOIETyB",
        "outputId": "67fc96fa-a5a9-4ca1-e283-f705f9d103db"
      },
      "source": [
        "eggs_price = 4000\r\n",
        "milk_price = 1850\r\n",
        "total_price = (eggs_price + milk_price* 2) * (1-0.05)\r\n",
        "print(total_price)"
      ],
      "execution_count": null,
      "outputs": [
        {
          "output_type": "stream",
          "text": [
            "7315.0\n"
          ],
          "name": "stdout"
        }
      ]
    },
    {
      "cell_type": "markdown",
      "metadata": {
        "id": "Y4EM5Tgj9Us1"
      },
      "source": [
        "\r\n",
        "\r\n",
        "##   실습 3 : 화씨, 섭씨온도"
      ]
    },
    {
      "cell_type": "code",
      "metadata": {
        "colab": {
          "base_uri": "https://localhost:8080/"
        },
        "id": "gkLNcgxKEbpi",
        "outputId": "57df9d8c-4293-4c16-bd7c-01f8e8cea5b8"
      },
      "source": [
        "f = 100\r\n",
        "c = (5.0 / 9.0) * (f-32.0)\r\n",
        "print(c)\r\n",
        "\r\n",
        "c = 50\r\n",
        "f = (9.0/5.0) * c + 32.0\r\n",
        "print(f)"
      ],
      "execution_count": null,
      "outputs": [
        {
          "output_type": "stream",
          "text": [
            "37.77777777777778\n",
            "122.0\n"
          ],
          "name": "stdout"
        }
      ]
    },
    {
      "cell_type": "markdown",
      "metadata": {
        "id": "vPuDuydKs2Gd"
      },
      "source": [
        "\r\n",
        "> # 2-2 입출력\r\n"
      ]
    },
    {
      "cell_type": "code",
      "metadata": {
        "colab": {
          "base_uri": "https://localhost:8080/"
        },
        "id": "ANloss4lQ6tl",
        "outputId": "271527ff-1b9a-4037-bc5b-f20c4d60d029"
      },
      "source": [
        "age = input('How old are you?')"
      ],
      "execution_count": null,
      "outputs": [
        {
          "output_type": "stream",
          "text": [
            "How old are you?15\n"
          ],
          "name": "stdout"
        }
      ]
    },
    {
      "cell_type": "code",
      "metadata": {
        "colab": {
          "base_uri": "https://localhost:8080/"
        },
        "id": "55pvPyVmQ6wO",
        "outputId": "1c019927-6738-4fd9-c1e9-b94772224b3e"
      },
      "source": [
        "print('How old are you?')\r\n",
        "age = input()"
      ],
      "execution_count": null,
      "outputs": [
        {
          "output_type": "stream",
          "text": [
            "How old are you?\n",
            "15\n"
          ],
          "name": "stdout"
        }
      ]
    },
    {
      "cell_type": "markdown",
      "metadata": {
        "id": "Nuxc8g49V3LL"
      },
      "source": [
        "전자의 age는 정수이고, 후자의 age는 문자열이다.\r\n"
      ]
    },
    {
      "cell_type": "code",
      "metadata": {
        "colab": {
          "base_uri": "https://localhost:8080/"
        },
        "id": "K-vpJoAvQ62o",
        "outputId": "1cd7c3fd-20b4-4085-8445-163b3589d1ff"
      },
      "source": [
        "name = 'Alice'\r\n",
        "age = input(name+':')"
      ],
      "execution_count": null,
      "outputs": [
        {
          "output_type": "stream",
          "text": [
            "Alice:15\n"
          ],
          "name": "stdout"
        }
      ]
    },
    {
      "cell_type": "markdown",
      "metadata": {
        "id": "L35jwgJqYHeO"
      },
      "source": [
        "\r\n",
        "##   퀴즈\r\n",
        "\r\n",
        "\r\n",
        "\r\n",
        "\r\n",
        "\r\n"
      ]
    },
    {
      "cell_type": "code",
      "metadata": {
        "colab": {
          "base_uri": "https://localhost:8080/"
        },
        "id": "PQF75k9mYVq9",
        "outputId": "8067369f-dfdc-4e73-e6a4-546f4afde460"
      },
      "source": [
        "# 문자와 숫자의 덧셈은 불가. 곱셈은 가능(몇 번 반복 출력하라는 의미)\r\n",
        "print('파이썬은 즐거워 '* 5)"
      ],
      "execution_count": null,
      "outputs": [
        {
          "output_type": "stream",
          "text": [
            "파이썬은 즐거워 파이썬은 즐거워 파이썬은 즐거워 파이썬은 즐거워 파이썬은 즐거워 \n"
          ],
          "name": "stdout"
        }
      ]
    },
    {
      "cell_type": "markdown",
      "metadata": {
        "id": "EwOA-0CGYsoq"
      },
      "source": [
        "\r\n",
        "##   실습 1 : 콩 나무 찍기\r\n",
        "\r\n",
        "\r\n"
      ]
    },
    {
      "cell_type": "code",
      "metadata": {
        "colab": {
          "base_uri": "https://localhost:8080/"
        },
        "id": "cVeOgdp6Yv0R",
        "outputId": "4a35faed-3681-49de-acbb-405985b7255f"
      },
      "source": [
        "num = 10\r\n",
        "print('콩 '* num, '나무를 10 번 찍었습니다.')"
      ],
      "execution_count": null,
      "outputs": [
        {
          "output_type": "stream",
          "text": [
            "콩 콩 콩 콩 콩 콩 콩 콩 콩 콩 나무를 10 번 찍었습니다.\n"
          ],
          "name": "stdout"
        }
      ]
    },
    {
      "cell_type": "code",
      "metadata": {
        "colab": {
          "base_uri": "https://localhost:8080/"
        },
        "id": "thjPFbk101Nb",
        "outputId": "c5554ef4-5682-484c-eb4e-0cbc5c33c5bf"
      },
      "source": [
        "# 답안\r\n",
        "num = 10\r\n",
        "print('콩 '* num, '나무를', num, '번 찍었습니다.')"
      ],
      "execution_count": null,
      "outputs": [
        {
          "output_type": "stream",
          "text": [
            "콩 콩 콩 콩 콩 콩 콩 콩 콩 콩  나무를 10 번 찍었습니다.\n"
          ],
          "name": "stdout"
        }
      ]
    },
    {
      "cell_type": "markdown",
      "metadata": {
        "id": "NOVKT3FpZXwI"
      },
      "source": [
        "\r\n",
        "\r\n",
        "##   실습 2 : favorite stuff\r\n",
        "\r\n",
        "\r\n",
        "\r\n"
      ]
    },
    {
      "cell_type": "code",
      "metadata": {
        "colab": {
          "base_uri": "https://localhost:8080/"
        },
        "id": "KSl5BKuKZbl4",
        "outputId": "d337a8c7-07a6-49c5-b34b-d4e04b81f88f"
      },
      "source": [
        "# input('') : 입력받을 것이다. 그 질문 내용은 ''이다.\r\n",
        "print('Tell me your favorite stuff.')\r\n",
        "fruit = input('Your favorite fruit is ')\r\n",
        "flower = input('Your favorite flower is ')\r\n",
        "drink = input('Your favorite drink is ')\r\n",
        "print('Your entered: ', fruit, flower, drink)"
      ],
      "execution_count": null,
      "outputs": [
        {
          "output_type": "stream",
          "text": [
            "Tell me your favorite stuff.\n",
            "Your favorite fruit is mango\n",
            "Your favorite flower is rose\n",
            "Your favorite drink is water\n",
            "Your entered:  mango rose water\n"
          ],
          "name": "stdout"
        }
      ]
    },
    {
      "cell_type": "markdown",
      "metadata": {
        "id": "ayvBuDuPaeGV"
      },
      "source": [
        "\r\n",
        "\r\n",
        "##   실습 3 : 개인정보 입출력\r\n",
        "\r\n",
        "\r\n",
        "\r\n"
      ]
    },
    {
      "cell_type": "code",
      "metadata": {
        "colab": {
          "base_uri": "https://localhost:8080/"
        },
        "id": "vyFT189Vag1j",
        "outputId": "2b9e920e-cd4a-4d01-e513-261b48614976"
      },
      "source": [
        "# print() : 한 줄 띄기 \r\n",
        "name = input('이름 : ')\r\n",
        "age = input('나이 : ')\r\n",
        "university = input('학교 : ')\r\n",
        "major = input('학부 : ')\r\n",
        "print()\r\n",
        "wish = input('수업에 바라는 점 : ')\r\n",
        "print()\r\n",
        "print(university, major, age + '세', name + '님') \r\n",
        "print(wish, ' 의견 감사합니다.')"
      ],
      "execution_count": null,
      "outputs": [
        {
          "output_type": "stream",
          "text": [
            "이름 : 홍길동\n",
            "나이 : 20\n",
            "학교 : 서울대학교\n",
            "학부 : 중어중문학과\n",
            "\n",
            "수업에 바라는 점 : ~~\n",
            "\n",
            "서울대학교 중어중문학과 20세 홍길동님\n",
            "~~ 의견 감사합니다.\n"
          ],
          "name": "stdout"
        }
      ]
    },
    {
      "cell_type": "markdown",
      "metadata": {
        "id": "CmeISe5hciwu"
      },
      "source": [
        "\r\n",
        "##   실습 4-1 : 앵무새 프로그램1\r\n",
        "\r\n",
        "\r\n",
        "\r\n",
        "\r\n"
      ]
    },
    {
      "cell_type": "code",
      "metadata": {
        "colab": {
          "base_uri": "https://localhost:8080/"
        },
        "id": "WuzE9PLCcmUV",
        "outputId": "cccfdfd6-e7de-4a48-93c8-e1c7f89d1c4e"
      },
      "source": [
        "print('대화를 시작합니다.')\r\n",
        "print()\r\n",
        "question = input()\r\n",
        "print(question)"
      ],
      "execution_count": null,
      "outputs": [
        {
          "output_type": "stream",
          "text": [
            "대화를 시작합니다.\n",
            "\n",
            "너 이름이 뭐야?\n",
            "너 이름이 뭐야?\n"
          ],
          "name": "stdout"
        }
      ]
    },
    {
      "cell_type": "markdown",
      "metadata": {
        "id": "o72jGPVyfxZP"
      },
      "source": [
        "\r\n",
        "##   실습 4-2 : 앵무새 프로그램2\r\n",
        "\r\n",
        "\r\n",
        "\r\n"
      ]
    },
    {
      "cell_type": "code",
      "metadata": {
        "id": "rfEYM8gvfzt3"
      },
      "source": [
        "person = '조련사: '\r\n",
        "bird = '앵무새:'\r\n",
        "\r\n",
        "print('대화를 시작합니다.')\r\n",
        "print()\r\n",
        "answer1=input(person)\r\n",
        "print(bird,answer1)\r\n",
        "print()\r\n",
        "\r\n",
        "answer2=input(person)\r\n",
        "print(bird,answer2)\r\n",
        "print()\r\n",
        "\r\n",
        "answer3=input(person)\r\n",
        "print(bird,answer3)"
      ],
      "execution_count": null,
      "outputs": []
    },
    {
      "cell_type": "markdown",
      "metadata": {
        "id": "WHZQh5nJran4"
      },
      "source": [
        "\r\n",
        "\r\n",
        "> # 3-1 Datatype변환\r\n",
        "\r\n",
        "\r\n",
        "\r\n"
      ]
    },
    {
      "cell_type": "code",
      "metadata": {
        "colab": {
          "base_uri": "https://localhost:8080/"
        },
        "id": "IjtZICgEvWzl",
        "outputId": "11289ac2-1b28-4777-bf02-7f153550a2df"
      },
      "source": [
        "# This is a guess the number game.\r\n",
        "import random\r\n",
        "print('Hello! What is your name?')\r\n",
        "myName = input()\r\n",
        "\r\n",
        "number = random.randint(1,20)\r\n",
        "print('Well,' + myName + ', I am thinking of a number between 1 and 20')\r\n",
        "print('Take a guess.')\r\n",
        "guess = input()\r\n",
        "guess = int(guess)\r\n",
        "\r\n",
        "if guess != number:\r\n",
        "  print('Your guess is wrong.')\r\n",
        "if guess == number:\r\n",
        "  print('Good job, ' + myName + '! You guessed my number!')    "
      ],
      "execution_count": null,
      "outputs": [
        {
          "output_type": "stream",
          "text": [
            "Hello! What is your name?\n",
            "천수병\n",
            "Well,천수병, I am thinking of a number between 1 and 20\n",
            "Take a guess.\n",
            "20\n",
            "Your guess is wrong.\n"
          ],
          "name": "stdout"
        }
      ]
    },
    {
      "cell_type": "code",
      "metadata": {
        "id": "Ps-GuTZKvpaN"
      },
      "source": [
        "# 출력 결과가 두개로 나올 것 같습니다. :  C입니다, D입니다"
      ],
      "execution_count": null,
      "outputs": []
    },
    {
      "cell_type": "code",
      "metadata": {
        "id": "BJYlyl11vplb"
      },
      "source": [
        "# 11 = 11  : error\r\n",
        "# 값을 대입하는 부호이기 때문에, 변수가 없어서 오류가 났을 것으로 예상합니다."
      ],
      "execution_count": null,
      "outputs": []
    },
    {
      "cell_type": "markdown",
      "metadata": {
        "id": "7IaiasZarp1n"
      },
      "source": [
        "\r\n",
        "##   실습 1 : 온도 변환 프로그램\r\n",
        "\r\n",
        "\r\n",
        "\r\n"
      ]
    },
    {
      "cell_type": "code",
      "metadata": {
        "id": "CrwaaW8prsuf",
        "colab": {
          "base_uri": "https://localhost:8080/"
        },
        "outputId": "fb7d5e4f-e500-4405-9157-2c0d0fba8062"
      },
      "source": [
        "print('학과: 중어중문학과, 학번: 2020-90328, 이름: 천수병')\r\n",
        "print()\r\n",
        "print('온도 변환 프로그램')\r\n",
        "\r\n",
        "f = input('화씨 온도를 입력하세요:')\r\n",
        "f = int(f)\r\n",
        "c = (5.0 / 9.0) * (f - 32.0)\r\n",
        "print('섭씨 온도는', c, '입니다.')\r\n",
        "print()\r\n",
        "\r\n",
        "c = input('섭씨 온도를 입력하세요:')\r\n",
        "c = int(c)\r\n",
        "f = (9.0 / 5.0) * c + 32.0\r\n",
        "print('화씨 온도는', str(f), '입니다.') "
      ],
      "execution_count": null,
      "outputs": [
        {
          "output_type": "stream",
          "text": [
            "학과: 중어중문학과, 학번: 2020-90328, 이름: 천수병\n",
            "\n",
            "온도 변환 프로그램\n",
            "화씨 온도를 입력하세요:50\n",
            "섭씨 온도는 10.0 입니다.\n",
            "\n",
            "섭씨 온도를 입력하세요:50\n",
            "화씨 온도는 122.0 입니다.\n"
          ],
          "name": "stdout"
        }
      ]
    },
    {
      "cell_type": "code",
      "metadata": {
        "colab": {
          "base_uri": "https://localhost:8080/"
        },
        "id": "pCITWcpa4sfO",
        "outputId": "e5169ad1-a6c3-4f53-9474-b8381c100eb1"
      },
      "source": [
        "# 답안\r\n",
        "# 화씨 온도는 122.0 입니다.\r\n",
        "print('화씨 온도는', f, '입니다.')\r\n",
        "# str(f)를 사용할 필요가 없음."
      ],
      "execution_count": null,
      "outputs": [
        {
          "output_type": "stream",
          "text": [
            "화씨 온도는 122.0 입니다.\n"
          ],
          "name": "stdout"
        }
      ]
    },
    {
      "cell_type": "markdown",
      "metadata": {
        "id": "S1ehSyNzubHZ"
      },
      "source": [
        "\r\n",
        "\r\n",
        "##   실습 2 : 환율 계산기"
      ]
    },
    {
      "cell_type": "code",
      "metadata": {
        "id": "nekYRSwtuboh"
      },
      "source": [
        "print('환율계산 프로그램')\r\n",
        "print()\r\n",
        "money = input('금액을 입력하세요: ')\r\n",
        "won = 0.00084 * int(money)\r\n",
        "print('대한민국', money + '원은', str(won) + '달러입니다.')\r\n",
        "yuan = 0.15 * int(money)\r\n",
        "print('중국', money + '위안은', str(yuan) + '달러입니다.')\r\n",
        "yen = 0.0094 * int(money)\r\n",
        "print('일본', money + '엔은', str(yen) + '달러입니다.')\r\n",
        "peso = 0.021 * int(money)\r\n",
        "print('필리핀', money + '페소은', str(peso) + '달러입니다.')"
      ],
      "execution_count": null,
      "outputs": []
    },
    {
      "cell_type": "code",
      "metadata": {
        "colab": {
          "base_uri": "https://localhost:8080/"
        },
        "id": "LaiF8Jj_6XIm",
        "outputId": "673c82b6-86ce-43a6-9d29-5b7b78af6d5e"
      },
      "source": [
        "#답안 - 가독성있게 정리하면서 코드작성하기.\r\n",
        "print('환율계산 프로그램')\r\n",
        "print()\r\n",
        "money = input('금액을 입력하세요: ')\r\n",
        "money = int(money)\r\n",
        "\r\n",
        "won = 0.00084 * money\r\n",
        "yuan = 0.15 * money\r\n",
        "yen = 0.0094 * money\r\n",
        "peso = 0.021 * money\r\n",
        "\r\n",
        "money = str(money)\r\n",
        "won = str(won)\r\n",
        "yuan = str(yuan)\r\n",
        "yen = str(yen)\r\n",
        "peso = str(peso)\r\n",
        "\r\n",
        "print('대한민국 ' + money + '원은 ' + won + '달러입니다.')\r\n",
        "print('중국 ' + money + '위안은 ' + yuan + '달러입니다.')\r\n",
        "print('일본 ' + money + '엔은 ' + yen + '달러입니다.')\r\n",
        "print('필리핀 ' + money + '페소은 ' + peso + '달러입니다.')"
      ],
      "execution_count": null,
      "outputs": [
        {
          "output_type": "stream",
          "text": [
            "환율계산 프로그램\n",
            "\n",
            "금액을 입력하세요: 5000\n",
            "대한민국 5000원은 4.2달러입니다.\n",
            "중국 5000위안은 750.0달러입니다.\n",
            "일본 5000엔은 47.0달러입니다.\n",
            "필리핀 5000페소은 105.0달러입니다.\n"
          ],
          "name": "stdout"
        }
      ]
    },
    {
      "cell_type": "markdown",
      "metadata": {
        "id": "DWdS0wvZub0Z"
      },
      "source": [
        "## 실습 3 : 부가세 계산 프로그램"
      ]
    },
    {
      "cell_type": "code",
      "metadata": {
        "id": "w9kURrrJub-a",
        "colab": {
          "base_uri": "https://localhost:8080/"
        },
        "outputId": "57395dda-667e-406a-eaf0-9155cad5cd86"
      },
      "source": [
        "# round(실수,n) : 소수점 n째 자리까지 포현되도록 반올림. \r\n",
        "# 정수로 출력하고 싶으면 b생략해도됨.\r\n",
        "print('부가세 계산 프로그램')\r\n",
        "print()\r\n",
        "sum = input('합계금액을 입력하세요: ')\r\n",
        "tax = round(int(sum) * (10 / 110), )\r\n",
        "tax = int(tax)\r\n",
        "supply = int(sum) - tax\r\n",
        "print('공급가액', str(supply) + '원')\r\n",
        "print('세액', str(tax) + '원입니다.')"
      ],
      "execution_count": null,
      "outputs": [
        {
          "output_type": "stream",
          "text": [
            "부가세 계산 프로그램\n",
            "\n",
            "합계금액을 입력하세요: 100000\n",
            "공급가액 90909원\n",
            "세액 9091원입니다.\n"
          ],
          "name": "stdout"
        }
      ]
    },
    {
      "cell_type": "code",
      "metadata": {
        "colab": {
          "base_uri": "https://localhost:8080/"
        },
        "id": "qT34zZXdESQp",
        "outputId": "520f0ee7-fe06-46f1-e7f9-55c0bdbc6c31"
      },
      "source": [
        "# 답안\r\n",
        "print('부가세 계산 프로그램')\r\n",
        "print()\r\n",
        "sum = input('합계금액을 입력하세요: ')\r\n",
        "sum = int(sum)\r\n",
        "\r\n",
        "tax = sum * (10 / 110)\r\n",
        "tax = round(tax) # round 대신에 int를 사용하면 값이 다름.\r\n",
        "supply = sum - tax\r\n",
        "\r\n",
        "supply = str(supply)\r\n",
        "tax = str(tax)\r\n",
        "print('공급가액 ' + supply + '원')\r\n",
        "print('세액 ' + tax + '원입니다.')"
      ],
      "execution_count": null,
      "outputs": [
        {
          "output_type": "stream",
          "text": [
            "부가세 계산 프로그램\n",
            "\n",
            "합계금액을 입력하세요: 100000\n",
            "공급가액 90909원\n",
            "세액 9091원입니다.\n"
          ],
          "name": "stdout"
        }
      ]
    },
    {
      "cell_type": "markdown",
      "metadata": {
        "id": "rz4mjt_hucKB"
      },
      "source": [
        "## 실습 4 : 칼로리 계산 프로그램"
      ]
    },
    {
      "cell_type": "code",
      "metadata": {
        "id": "Jw1MJfwgucRC",
        "colab": {
          "base_uri": "https://localhost:8080/"
        },
        "outputId": "9179910f-087a-4eb9-a1c8-41209b1e3e8b"
      },
      "source": [
        "print('칼로리 계산 프로그램')\r\n",
        "print()\r\n",
        "weight = input('몸무게(kg):')\r\n",
        "time = input('운동시간(분):')\r\n",
        "\r\n",
        "print()\r\n",
        "kcal = ((4 * 3.5 * int(weight)) / 200) * int(time)\r\n",
        "print('걷기운동', time + '분은', str(kcal) +'kcal가 소모됩니다.')\r\n",
        "kcal = ((7 * 3.5 * int(weight)) / 200) * int(time)\r\n",
        "print('조깅운동', time + '분은', str(kcal) +'kcal가 소모됩니다.')\r\n",
        "kcal = ((5 * 3.5 * int(weight)) / 200) * int(time)\r\n",
        "print('계단오르기운동', time + '분은', str(kcal) +'kcal가 소모됩니다.')\r\n",
        "kcal = ((9 * 3.5 * int(weight)) / 200) * int(time)\r\n",
        "print('수영운동', time + '분은', str(kcal) +'kcal가 소모됩니다.')"
      ],
      "execution_count": null,
      "outputs": [
        {
          "output_type": "stream",
          "text": [
            "칼로리 계산 프로그램\n",
            "\n",
            "몸무게(kg):60\n",
            "운동시간(분):10\n",
            "\n",
            "걷기운동 10분은 42.0kcal가 소모됩니다.\n",
            "조깅운동 10분은 73.5kcal가 소모됩니다.\n",
            "계단오르기운동 10분은 52.5kcal가 소모됩니다.\n",
            "수영운동 10분은 94.5kcal가 소모됩니다.\n"
          ],
          "name": "stdout"
        }
      ]
    },
    {
      "cell_type": "code",
      "metadata": {
        "colab": {
          "base_uri": "https://localhost:8080/"
        },
        "id": "eAH7CJjFGamC",
        "outputId": "e5e84de9-380e-4217-ea5d-eac068bd15b2"
      },
      "source": [
        "# 답안\r\n",
        "print('칼로리 계산 프로그램')\r\n",
        "print()\r\n",
        "weight = input('몸무게(kg):')\r\n",
        "time = input('운동시간(분):')\r\n",
        "\r\n",
        "weight = int(weight)\r\n",
        "time = int(time)\r\n",
        "print()\r\n",
        "\r\n",
        "walk_kcal = ((4 * 3.5 * weight) / 200) * time\r\n",
        "jog_kcal = ((7 * 3.5 * weight) / 200) * time\r\n",
        "stair_kcal = ((5 * 3.5 * weight) / 200) * time\r\n",
        "swim_kcal = ((9 * 3.5 * weight) / 200) * time\r\n",
        "\r\n",
        "time = str(time)\r\n",
        "print('걷기운동 ' + time + '분은 '+ str(walk_kcal) +'kcal가 소모됩니다.')\r\n",
        "print('조깅운동 ' + time + '분은 ' + str(jog_kcal) +'kcal가 소모됩니다.')\r\n",
        "print('계단오르기운동 ' + time + '분은 ' + str(stair_kcal) +'kcal가 소모됩니다.')\r\n",
        "print('수영운동 ' + time + '분은 ' + str(swim_kcal) +'kcal가 소모됩니다.')"
      ],
      "execution_count": null,
      "outputs": [
        {
          "output_type": "stream",
          "text": [
            "칼로리 계산 프로그램\n",
            "\n",
            "몸무게(kg):60\n",
            "운동시간(분):10\n",
            "\n",
            "걷기운동 10분은 42.0kcal가 소모됩니다.\n",
            "조깅운동 10분은 73.5kcal가 소모됩니다.\n",
            "계단오르기운동 10분은 52.5kcal가 소모됩니다.\n",
            "수영운동 10분은 94.5kcal가 소모됩니다.\n"
          ],
          "name": "stdout"
        }
      ]
    },
    {
      "cell_type": "markdown",
      "metadata": {
        "id": "czX6o7yF_Tql"
      },
      "source": [
        "# 3-2 조건문, 난수(random number)"
      ]
    },
    {
      "cell_type": "markdown",
      "metadata": {
        "id": "XhC3uqhQ_bqA"
      },
      "source": [
        "## 실습 1 : 합격여부 판단 프로그램 "
      ]
    },
    {
      "cell_type": "code",
      "metadata": {
        "id": "eOccgy1KRfOm",
        "colab": {
          "base_uri": "https://localhost:8080/"
        },
        "outputId": "1f64067d-82d8-4e0a-9c8d-52a7960ce888"
      },
      "source": [
        "print('성적을 입력하시오.')\r\n",
        "score = input()\r\n",
        "score = int(score)\r\n",
        "\r\n",
        "if (score >= 90):\r\n",
        "  print('합격입니다.')\r\n",
        "else:\r\n",
        "  print('불합격입니다.')"
      ],
      "execution_count": null,
      "outputs": [
        {
          "output_type": "stream",
          "text": [
            "성적을 입력하시오.\n",
            "76\n",
            "불합격입니다.\n"
          ],
          "name": "stdout"
        }
      ]
    },
    {
      "cell_type": "markdown",
      "metadata": {
        "id": "Ta_n2o7P_cGU"
      },
      "source": [
        "## 실습 2 : 큰 수/작은 수/ 같은 수 출력"
      ]
    },
    {
      "cell_type": "code",
      "metadata": {
        "id": "bzB29HmlRf5T",
        "colab": {
          "base_uri": "https://localhost:8080/"
        },
        "outputId": "c20d4215-681d-4b78-be72-5e36e73bc1dc"
      },
      "source": [
        "first = input('첫 번째 정수를 입력하시오:')\r\n",
        "second = input('두 번째 정수를 입력하시오:')\r\n",
        "print()\r\n",
        "\r\n",
        "first = int(first)\r\n",
        "second = int(second)\r\n",
        "\r\n",
        "if first < second:\r\n",
        "  print('큰수:', second)\r\n",
        "  print('작은수:', first)\r\n",
        "elif first > second:\r\n",
        "  print('큰수:', first)\r\n",
        "  print('작은수:', second)  \r\n",
        "else:\r\n",
        "  print('두 수는 같습니다.')  "
      ],
      "execution_count": null,
      "outputs": [
        {
          "output_type": "stream",
          "text": [
            "첫 번째 정수를 입력하시오:56\n",
            "두 번째 정수를 입력하시오:24\n",
            "\n",
            "큰수: 56\n",
            "작은수: 24\n"
          ],
          "name": "stdout"
        }
      ]
    },
    {
      "cell_type": "markdown",
      "metadata": {
        "id": "_rN50ANuRgHR"
      },
      "source": [
        "## 실습 3 : 짝수 홀수 검사 프로그램"
      ]
    },
    {
      "cell_type": "code",
      "metadata": {
        "id": "IICHBLsSRgUV",
        "colab": {
          "base_uri": "https://localhost:8080/"
        },
        "outputId": "54b3ff90-3080-4bc2-f1dd-9de39ffc0503"
      },
      "source": [
        "print('숫자를 입력하시오.')\r\n",
        "num = input()\r\n",
        "num = int(num)\r\n",
        "\r\n",
        "if (num % 2) != 0: \r\n",
        "# =! 0 을 쓰지 않아도 값이 제대로 출력됨. \r\n",
        "# 컴퓨터에서 (1 = true) (0 = false) \r\n",
        "  print('홀수입니다.')\r\n",
        "else:\r\n",
        "  print('짝수입니다.')  "
      ],
      "execution_count": null,
      "outputs": [
        {
          "output_type": "stream",
          "text": [
            "숫자를 입력하시오.\n",
            "1\n",
            "홀수입니다.\n"
          ],
          "name": "stdout"
        }
      ]
    },
    {
      "cell_type": "markdown",
      "metadata": {
        "id": "aX93tVSSRnhL"
      },
      "source": [
        "## 실습 4 : BMI 계산 프로그램"
      ]
    },
    {
      "cell_type": "code",
      "metadata": {
        "id": "jivYJVm8Rn1u",
        "colab": {
          "base_uri": "https://localhost:8080/"
        },
        "outputId": "b15e0ca3-bf35-4d18-a02f-75d9b5e44bf2"
      },
      "source": [
        "# x의y승 = x**y\r\n",
        "# 몸무게와 키는 보통 float로 사용\r\n",
        "print('몸무게(kg)와 키(m)를 차례대로 입력하세요.')\r\n",
        "kg = input()\r\n",
        "m = input()\r\n",
        "\r\n",
        "kg = int(kg)\r\n",
        "m = float(m)\r\n",
        "\r\n",
        "bmi = kg / m**2\r\n",
        "\r\n",
        "if bmi > 25:\r\n",
        "  print('BMI', \"%.2f\"%bmi)\r\n",
        "  print('비만입니다. 운동으로 감량이 필요합니다.')\r\n",
        "else:\r\n",
        "  print('BMI', \"%.2f\"%bmi)\r\n",
        "  print('정상입니다. 꾸준한 운동으로 유지시켜주세요.')  "
      ],
      "execution_count": null,
      "outputs": [
        {
          "output_type": "stream",
          "text": [
            "몸무게(kg)와 키(m)를 차례대로 입력하세요.\n",
            "50\n",
            "1.6\n",
            "BMI 19.53\n",
            "정상입니다. 꾸준한 운동으로 유지시켜주세요.\n"
          ],
          "name": "stdout"
        }
      ]
    },
    {
      "cell_type": "code",
      "metadata": {
        "id": "Fu5WsebEWT6C"
      },
      "source": [
        "# 답안\r\n",
        "print('BMI', \"%.2f\"%bmi)\r\n",
        "\r\n",
        "if bmi > 25:\r\n",
        "  print('비만입니다. 운동으로 감량이 필요합니다.')\r\n",
        "else:\r\n",
        "  print('정상입니다. 꾸준한 운동으로 유지시켜주세요.')"
      ],
      "execution_count": null,
      "outputs": []
    },
    {
      "cell_type": "markdown",
      "metadata": {
        "id": "ltTiRIedRoCM"
      },
      "source": [
        "## 실습 5 : 범위 주고 난수 발생시키기"
      ]
    },
    {
      "cell_type": "code",
      "metadata": {
        "id": "5mUX1bslRoRF"
      },
      "source": [
        "#random 모듈 \r\n",
        "import random\r\n",
        "\r\n",
        "print('범위의 시작 값을 입력하세요.')\r\n",
        "start = input()\r\n",
        "print('범위의 끝 값을 입력하세요.')\r\n",
        "end = input()\r\n",
        "\r\n",
        "start = int(start)\r\n",
        "end = int(end)\r\n",
        "\r\n",
        "num = random.randint(start, end) # 이곳에 위치했을때, 오류\r\n",
        "# 범위가 비정상적인지 아닌지 판단하기도 전에 난수를 발생시킴.\r\n",
        "# if절 뒤에 나와야함.\r\n",
        "\r\n",
        "\r\n",
        "num = str(num)\r\n",
        "start = str(start)\r\n",
        "end = str(end)\r\n",
        "\r\n",
        "print('범위', start + '부터', end + '가운데 선택된 랜덤 넘버는', num + '입니다.')\r\n",
        "\r\n",
        "start = int(start)\r\n",
        "end = int(end)\r\n",
        "\r\n",
        "if start > end:\r\n",
        "  print('끝 값을 잘못 입력하셨습니다.')"
      ],
      "execution_count": null,
      "outputs": []
    },
    {
      "cell_type": "code",
      "metadata": {
        "id": "AETD4gFOXr3S"
      },
      "source": [
        "# 답안\r\n",
        "if start > end:\r\n",
        "  print('끝 값을 잘못 입력하셨습니다.')\r\n",
        "else :\r\n",
        "  num = random.randint(start, end)\r\n",
        "  num = str(num)\r\n",
        "  start = str(start)\r\n",
        "  end = str(end)\r\n",
        "\r\n",
        "  print('범위 ' + start + '부터 ' + end + '가운데 선택된 랜덤 넘버는 ' + num + '입니다.')\r\n"
      ],
      "execution_count": null,
      "outputs": []
    },
    {
      "cell_type": "markdown",
      "metadata": {
        "id": "Ys0Bc7AuR4K6"
      },
      "source": [
        "## 실습 6 : 칼로리 계산기"
      ]
    },
    {
      "cell_type": "code",
      "metadata": {
        "id": "_4kZuGpvR4ar",
        "colab": {
          "base_uri": "https://localhost:8080/"
        },
        "outputId": "bd9ab846-67cd-49e7-c1fc-de98b21458ae"
      },
      "source": [
        "print('칼로리 계산 프로그램')\r\n",
        "print()\r\n",
        "\r\n",
        "kg = input('몸무게(kg):')\r\n",
        "minute = input('운동시간(분):')\r\n",
        "sports = input('운동종목(1.걷기, 2.조깅, 3.계단오르기, 4.수영):')\r\n",
        "\r\n",
        "print()\r\n",
        "\r\n",
        "kg = int(kg)\r\n",
        "minute = int(minute)\r\n",
        "sports = int(sports)\r\n",
        "\r\n",
        "if sports == 1:\r\n",
        "  kcal = ((4 * 3.5 * kg) / 200) * minute\r\n",
        "  print('걷기', str(minute) + '분은', str(kcal) + 'kcal가 소모됩니다.')\r\n",
        "elif sports == 2:\r\n",
        "  kcal = ((7 * 3.5 * kg) / 200) * minute\r\n",
        "  print('조깅', str(minute) + '분은', str(kcal) + 'kcal가 소모됩니다.')\r\n",
        "elif sports == 3:\r\n",
        "  kcal = ((5 * 3.5 * kg) / 200) * minute\r\n",
        "  print('계단오르기', str(minute) + '분은', str(kcal) + 'kcal가 소모됩니다.')\r\n",
        "elif sports == 4:\r\n",
        "  kcal = ((9 * 3.5 * kg) / 200) * minute\r\n",
        "  print('수영', str(minute) + '분은', str(kcal) + 'kcal가 소모됩니다.')\r\n",
        "else:\r\n",
        "  print('포함되지 않은 운동종목입니다.')"
      ],
      "execution_count": null,
      "outputs": [
        {
          "output_type": "stream",
          "text": [
            "칼로리 계산 프로그램\n",
            "\n",
            "몸무게(kg):60\n",
            "운동시간(분):10\n",
            "운동종목(1.걷기, 2.조깅, 3.계단오르기, 4.수영):5\n",
            "\n",
            "포함되지 않은 운동종목입니다.\n"
          ],
          "name": "stdout"
        }
      ]
    },
    {
      "cell_type": "code",
      "metadata": {
        "id": "5Me9uFzRZ8Wy"
      },
      "source": [
        "# if절에 == '1'를 입력하면, sports를 int로 변환할 필요없음."
      ],
      "execution_count": null,
      "outputs": []
    },
    {
      "cell_type": "markdown",
      "metadata": {
        "id": "erJzTyFkR9Ef"
      },
      "source": [
        "## 실습 7 : 환율 계산기"
      ]
    },
    {
      "cell_type": "code",
      "metadata": {
        "id": "gnvIsSzYR9W9",
        "colab": {
          "base_uri": "https://localhost:8080/"
        },
        "outputId": "e0e447b7-0863-4bc2-febc-5840b96d00eb"
      },
      "source": [
        "#\r\n",
        "print('환율계산 프로그램')\r\n",
        "print()\r\n",
        "money = input('금액을 입력하세요(대한민국 원):')\r\n",
        "country = input('변환대상국을 입력하세요:')\r\n",
        "money = int(money)\r\n",
        "\r\n",
        "if country == '중국':\r\n",
        "  exchange = (money * 0.00084) / 0.15\r\n",
        "  exchange = round(exchange, 2)\r\n",
        "  print('대한민국', str(money) + '원은', country, str(exchange) + '위안입니다.')\r\n",
        "elif country == '일본':\r\n",
        "  exchange = (money * 0.00084) / 0.0094\r\n",
        "  exchange = round(exchange, 2)\r\n",
        "  print('대한민국', str(money) + '원은', country, str(exchange) + '엔입니다.')\r\n",
        "elif country == '필리핀':\r\n",
        "  exchange = (money * 0.00084) / 0.021\r\n",
        "  exchange = round(exchange, 2)\r\n",
        "  print('대한민국', str(money) + '원은', country, str(exchange) + '페소입니다.')\r\n",
        "else :\r\n",
        "  print('죄송합니다. 아직 통화변환 서비스 대상이 아닌 국가입니다.')  "
      ],
      "execution_count": null,
      "outputs": [
        {
          "output_type": "stream",
          "text": [
            "환율계산 프로그램\n",
            "\n",
            "금액을 입력하세요(대한민국 원):5000\n",
            "변환대상국을 입력하세요:중국\n",
            "대한민국 5000원은 중국 28.0위안입니다.\n"
          ],
          "name": "stdout"
        }
      ]
    },
    {
      "cell_type": "markdown",
      "metadata": {
        "id": "yM4KqOK2SIy7"
      },
      "source": [
        "## 실습 8 : 환율 계산기 2\r\n"
      ]
    },
    {
      "cell_type": "code",
      "metadata": {
        "id": "Ik7Lo_4VSJLD",
        "colab": {
          "base_uri": "https://localhost:8080/"
        },
        "outputId": "4d4c4176-dc07-41f0-d325-f5527237c7c8"
      },
      "source": [
        "print('환율계산 프로그램')\r\n",
        "print()\r\n",
        "country1 = input('지정국가:')\r\n",
        "country2 = input('대상국가:')\r\n",
        "amount = input('금액:')\r\n",
        "amount = int(amount)\r\n",
        "\r\n",
        "if (country1 == '대한민국'):\r\n",
        "  rate1 = 0.00084\r\n",
        "  currency1 = '원'\r\n",
        "elif (country1 == '중국'):\r\n",
        "  rate1 = 0.15\r\n",
        "  currency1 = '위안'\r\n",
        "elif (country1 == '일본'):\r\n",
        "  rate1 = 0.0094\r\n",
        "  currency1 = '엔'\r\n",
        "else:\r\n",
        "  rate1 = 0.021\r\n",
        "  currency1 = '페소'\r\n",
        "\r\n",
        "if (country2 == '대한민국'):\r\n",
        "  rate2 = 0.00084\r\n",
        "  currency2 = '원'\r\n",
        "elif (country2 == '중국'):\r\n",
        "  rate2 = 0.15\r\n",
        "  currency2 = '위안'\r\n",
        "elif (country2 == '일본'):\r\n",
        "  rate2 = 0.0094\r\n",
        "  currency2 = '엔'\r\n",
        "else:\r\n",
        "  rate2 = 0.021\r\n",
        "  currency2 = '페소'\r\n",
        "\r\n",
        "exchange = (amount * rate1) / rate2\r\n",
        "exchange = round(exchange, 2)\r\n",
        "\r\n",
        "print(country1 + ' ' + str(amount) + currency1 + '은 ' +\r\n",
        "      country2 + ' ' + str(exchange) + currency2 + '입니다.')"
      ],
      "execution_count": null,
      "outputs": [
        {
          "output_type": "stream",
          "text": [
            "환율계산 프로그램\n",
            "\n",
            "지정국가:대한민국\n",
            "대상국가:중국\n",
            "금액:5000\n",
            "대한민국 5000원은 중국 28.0위안입니다.\n"
          ],
          "name": "stdout"
        }
      ]
    },
    {
      "cell_type": "markdown",
      "metadata": {
        "id": "SA4nbv9USQlw"
      },
      "source": [
        "## 실습 9 : 미세먼지 농도 결과 알려주기"
      ]
    },
    {
      "cell_type": "code",
      "metadata": {
        "id": "ZJKrOP9oSQxt",
        "colab": {
          "base_uri": "https://localhost:8080/"
        },
        "outputId": "6fac7010-055a-4300-d54c-544fe476ae2a"
      },
      "source": [
        "print('미세먼지 농도 결과 알림 프로그램')\r\n",
        "print()\r\n",
        "num = input('오늘의 미세 먼지 농도는? ')\r\n",
        "num = int(num)\r\n",
        "if num > 150:\r\n",
        "  print('오늘의 미세먼지는 매우 나쁨입니다.')\r\n",
        "  print('미세먼지 경계 단계입니다!!')\r\n",
        "elif num > 80:\r\n",
        "  print('오늘의 미세먼지는 나쁨입니다.')\r\n",
        "  if num >= 100:\r\n",
        "    print('미세먼지 경계 단계입니다!!')\r\n",
        "elif num > 30:\r\n",
        "  print('오늘의 미세먼지는 보통입니다.')\r\n",
        "else :\r\n",
        "  print('오늘의 미세먼지는 좋음입니다.')      "
      ],
      "execution_count": null,
      "outputs": [
        {
          "output_type": "stream",
          "text": [
            "미세먼지 농도 결과 알림 프로그램\n",
            "\n",
            "오늘의 미세 먼지 농도는? 22\n",
            "오늘의 미세먼지는 좋음입니다.\n"
          ],
          "name": "stdout"
        }
      ]
    },
    {
      "cell_type": "code",
      "metadata": {
        "id": "zaKW9WZqlWmU"
      },
      "source": [
        "# 답안\r\n",
        "# 출력 전, 맨 마지막 작성하면됨. 중간if절 속에 넣을 필요없음.\r\n",
        "if num >= 100:\r\n",
        "  print('미세먼지 경계 단계입니다!!')"
      ],
      "execution_count": null,
      "outputs": []
    },
    {
      "cell_type": "markdown",
      "metadata": {
        "id": "_GDYH9S0SXh-"
      },
      "source": [
        "## 실습 10 : 합격/불합격 통보"
      ]
    },
    {
      "cell_type": "code",
      "metadata": {
        "id": "E-PoyDNrSXzK",
        "colab": {
          "base_uri": "https://localhost:8080/"
        },
        "outputId": "1c1c86c1-ab47-4dc2-f630-cbdfbd1a26bf"
      },
      "source": [
        "myName = input('당신의 이름은? ')\r\n",
        "l_score = input('국어 점수는? ')\r\n",
        "m_score = input('수학 점수는? ')\r\n",
        "c_score = input('컴퓨팅기초 점수는? ')\r\n",
        "\r\n",
        "l_score = int(l_score)\r\n",
        "m_score = int(m_score)\r\n",
        "c_score = int(c_score)\r\n",
        "\r\n",
        "average = (l_score + m_score + c_score) / 3\r\n",
        "if average < 60:\r\n",
        "  print(myName + '님은 불합격..입니다.')\r\n",
        "elif l_score < 40:\r\n",
        "  print(myName + '님은 과락..입니다.')\r\n",
        "elif m_score < 40:  \r\n",
        "    print(myName + '님은 과락..입니다.')\r\n",
        "elif c_score < 40:  \r\n",
        "    print(myName + '님은 과락..입니다.')\r\n",
        "else:\r\n",
        "  print(myName + '님은 합격입니다.')       "
      ],
      "execution_count": null,
      "outputs": [
        {
          "output_type": "stream",
          "text": [
            "당신의 이름은? 천수병\n",
            "국어 점수는? 62\n",
            "수학 점수는? 37\n",
            "컴퓨팅기초 점수는? 68\n",
            "천수병님은 불합격..입니다.\n"
          ],
          "name": "stdout"
        }
      ]
    },
    {
      "cell_type": "markdown",
      "metadata": {
        "id": "ZC03P3rlSAV5"
      },
      "source": [
        "# 4-1 반복문과 논리연산자"
      ]
    },
    {
      "cell_type": "code",
      "metadata": {
        "colab": {
          "base_uri": "https://localhost:8080/"
        },
        "id": "IvNloAUtShgk",
        "outputId": "88788182-f18a-48d6-b206-f546819dfeb2"
      },
      "source": [
        "count = 0\r\n",
        "\r\n",
        "while count < 5 :\r\n",
        "  print('재미있는 파이썬')\r\n",
        "  count = count + 1\r\n",
        "\r\n",
        "print('count=', count)"
      ],
      "execution_count": null,
      "outputs": [
        {
          "output_type": "stream",
          "text": [
            "재미있는 파이썬\n",
            "재미있는 파이썬\n",
            "재미있는 파이썬\n",
            "재미있는 파이썬\n",
            "재미있는 파이썬\n",
            "count= 5\n"
          ],
          "name": "stdout"
        }
      ]
    },
    {
      "cell_type": "code",
      "metadata": {
        "colab": {
          "base_uri": "https://localhost:8080/"
        },
        "id": "5zxPWftbShty",
        "outputId": "dfcc89a8-380c-4322-c645-91c63fe69947"
      },
      "source": [
        "# this is a guess the number game.(while문 사용하기)\r\n",
        "import random\r\n",
        "print('Hello! What is your name?')\r\n",
        "myName = input()\r\n",
        "\r\n",
        "number = random.randint(1,20)\r\n",
        "print('Well, ' + myName + ', I am thinking of a number between 1 and 20.')\r\n",
        "\r\n",
        "guess = 0   # while문 실행 전에, 초기값을 줘야한다.\r\n",
        "guessesTaken = 0\r\n",
        "while guess != number and guessesTaken < 6:\r\n",
        "  guessesTaken = guessesTaken + 1\r\n",
        "\r\n",
        "  print('Take a guess.')\r\n",
        "  guess = input()\r\n",
        "  guess = int(guess)\r\n",
        " \r\n",
        "  if guess < number:\r\n",
        "    print('Your guess in trial', guessesTaken, 'is too low.')\r\n",
        "  if guess > number:\r\n",
        "    print('Your guess in trial', guessesTaken, 'is too high')\r\n",
        "  if guess == number:\r\n",
        "    print('Good job, '+myName+'! You guessed my number in',guessesTaken,'guesses!')\r\n",
        "\r\n",
        "if guess != number:\r\n",
        "  print('Nope. The number I was thinking of was', number,'.')"
      ],
      "execution_count": null,
      "outputs": [
        {
          "output_type": "stream",
          "text": [
            "Hello! What is your name?\n",
            "천수병\n",
            "Well, 천수병, I am thinking of a number between 1 and 20.\n",
            "Take a guess.\n",
            "10\n",
            "Your guess in trial 1 is too high\n",
            "Take a guess.\n",
            "5\n",
            "Your guess in trial 2 is too low.\n",
            "Take a guess.\n",
            "8\n",
            "Your guess in trial 3 is too high\n",
            "Take a guess.\n",
            "7\n",
            "Your guess in trial 4 is too high\n",
            "Take a guess.\n",
            "6\n",
            "Good job, 천수병! You guessed my number in 5 guesses!\n"
          ],
          "name": "stdout"
        }
      ]
    },
    {
      "cell_type": "markdown",
      "metadata": {
        "id": "meedd8VqSceh"
      },
      "source": [
        "## 실습 1: 나무찍기"
      ]
    },
    {
      "cell_type": "code",
      "metadata": {
        "colab": {
          "base_uri": "https://localhost:8080/"
        },
        "id": "d_a2O4eUSbLX",
        "outputId": "55513b36-daf2-4cac-a8c8-70730e2ed2a0"
      },
      "source": [
        "count = 1\r\n",
        "print('열 번 찍어 안 넘어가는 나무 없다!!')\r\n",
        "print()\r\n",
        "\r\n",
        "while count <= 10:\r\n",
        "  print('나무를', count, '번 찍었습니다.')\r\n",
        "  count = count + 1\r\n",
        "\r\n",
        "print()\r\n",
        "print('간다~간다~넘어간다!!!')  "
      ],
      "execution_count": null,
      "outputs": [
        {
          "output_type": "stream",
          "text": [
            "열 번 찍어 안 넘어가는 나무 없다!!\n",
            "\n",
            "나무를 1 번 찍었습니다.\n",
            "나무를 2 번 찍었습니다.\n",
            "나무를 3 번 찍었습니다.\n",
            "나무를 4 번 찍었습니다.\n",
            "나무를 5 번 찍었습니다.\n",
            "나무를 6 번 찍었습니다.\n",
            "나무를 7 번 찍었습니다.\n",
            "나무를 8 번 찍었습니다.\n",
            "나무를 9 번 찍었습니다.\n",
            "나무를 10 번 찍었습니다.\n",
            "\n",
            "간다~간다~넘어간다!!!\n"
          ],
          "name": "stdout"
        }
      ]
    },
    {
      "cell_type": "markdown",
      "metadata": {
        "id": "zy-mxNVlDJ6-"
      },
      "source": [
        "## 실습 2 : 티끌 모아 태산"
      ]
    },
    {
      "cell_type": "code",
      "metadata": {
        "id": "z3N7IS4oDKJv"
      },
      "source": [
        "money = 100\r\n",
        "count = 1\r\n",
        "print('티끌 모아 태산!!!')\r\n",
        "print()\r\n",
        "\r\n",
        "while money <= 1000:\r\n",
        "  print(('땡그랑, ' * count) +'동전 ' + str(money) + '원을 모았습니다.')\r\n",
        "  money = money + 100\r\n",
        "  count = count + 1\r\n",
        "\r\n",
        "print()\r\n",
        "print('산다.산다. 집 산다!!!')"
      ],
      "execution_count": null,
      "outputs": []
    },
    {
      "cell_type": "code",
      "metadata": {
        "colab": {
          "base_uri": "https://localhost:8080/"
        },
        "id": "crEvwfyCosak",
        "outputId": "3e7b60b7-089e-4e54-9a00-c8f40faf3d18"
      },
      "source": [
        "# 복잡하게 money 변수를 추가하지 않아도됨.\r\n",
        "print('티끌 모아 태산!!!')\r\n",
        "print()\r\n",
        "\r\n",
        "count = 1\r\n",
        "while count <= 10:\r\n",
        "  print(('땡그랑, ' * count) +'동전 ' + str(100 * count) + '원을 모았습니다.')\r\n",
        "  count = count + 1\r\n",
        "\r\n",
        "print()\r\n",
        "print('산다.산다. 집 산다!!!')\r\n",
        "\r\n"
      ],
      "execution_count": null,
      "outputs": [
        {
          "output_type": "stream",
          "text": [
            "티끌 모아 태산!!!\n",
            "\n",
            "땡그랑, 동전 100원을 모았습니다.\n",
            "땡그랑, 땡그랑, 동전 200원을 모았습니다.\n",
            "땡그랑, 땡그랑, 땡그랑, 동전 300원을 모았습니다.\n",
            "땡그랑, 땡그랑, 땡그랑, 땡그랑, 동전 400원을 모았습니다.\n",
            "땡그랑, 땡그랑, 땡그랑, 땡그랑, 땡그랑, 동전 500원을 모았습니다.\n",
            "땡그랑, 땡그랑, 땡그랑, 땡그랑, 땡그랑, 땡그랑, 동전 600원을 모았습니다.\n",
            "땡그랑, 땡그랑, 땡그랑, 땡그랑, 땡그랑, 땡그랑, 땡그랑, 동전 700원을 모았습니다.\n",
            "땡그랑, 땡그랑, 땡그랑, 땡그랑, 땡그랑, 땡그랑, 땡그랑, 땡그랑, 동전 800원을 모았습니다.\n",
            "땡그랑, 땡그랑, 땡그랑, 땡그랑, 땡그랑, 땡그랑, 땡그랑, 땡그랑, 땡그랑, 동전 900원을 모았습니다.\n",
            "땡그랑, 땡그랑, 땡그랑, 땡그랑, 땡그랑, 땡그랑, 땡그랑, 땡그랑, 땡그랑, 땡그랑, 동전 1000원을 모았습니다.\n",
            "\n",
            "산다.산다. 집 산다!!!\n"
          ],
          "name": "stdout"
        }
      ]
    },
    {
      "cell_type": "markdown",
      "metadata": {
        "id": "_b4rnS32DKZJ"
      },
      "source": [
        "## 실습 3 : 로또번호 생성 프로그램"
      ]
    },
    {
      "cell_type": "code",
      "metadata": {
        "colab": {
          "base_uri": "https://localhost:8080/"
        },
        "id": "krbRpHrVDKnJ",
        "outputId": "3c669e77-282d-490e-e6a3-cf7e75bace53"
      },
      "source": [
        "import random\r\n",
        "print('로또번호 생성기 프로그램')\r\n",
        "\r\n",
        "count = 1  # count = 0, \r\n",
        "while count <= 6:  # while count < 6: 이렇게 해도됨.\r\n",
        "  num = random.randint(1,45)\r\n",
        "  print(str(count) + '번째 번호는', str(num) + '입니다.')\r\n",
        "  count = count + 1\r\n",
        "  \r\n",
        "print()\r\n",
        "print()\r\n",
        "print('산다.산다.집 산다!!!')"
      ],
      "execution_count": null,
      "outputs": [
        {
          "output_type": "stream",
          "text": [
            "로또번호 생성기 프로그램\n",
            "1번째 번호는 25입니다.\n",
            "2번째 번호는 3입니다.\n",
            "3번째 번호는 26입니다.\n",
            "4번째 번호는 25입니다.\n",
            "5번째 번호는 33입니다.\n",
            "6번째 번호는 31입니다.\n",
            "\n",
            "\n",
            "산다.산다.집 산다!!!\n"
          ],
          "name": "stdout"
        }
      ]
    },
    {
      "cell_type": "markdown",
      "metadata": {
        "id": "OqigVoC_DKz5"
      },
      "source": [
        "## 실습 4-1 : 로그인 프로그램1"
      ]
    },
    {
      "cell_type": "code",
      "metadata": {
        "colab": {
          "base_uri": "https://localhost:8080/"
        },
        "id": "2bMTFaZGDLBa",
        "outputId": "4b5fb61c-fd01-4754-b987-36ae46941ffa"
      },
      "source": [
        "password = 'python'  \r\n",
        "\r\n",
        "while password != 'pythonisfun':\r\n",
        "  print('암호를 입력하세요.')\r\n",
        "  password = input()\r\n",
        "\r\n",
        "print('로그인 성공')  "
      ],
      "execution_count": null,
      "outputs": [
        {
          "output_type": "stream",
          "text": [
            "암호를 입력하세요.\n",
            "python\n",
            "암호를 입력하세요.\n",
            "pythonis\n",
            "암호를 입력하세요.\n",
            "pythonisfun\n",
            "로그인 성공\n"
          ],
          "name": "stdout"
        }
      ]
    },
    {
      "cell_type": "code",
      "metadata": {
        "id": "TQPZjhnpxn4r"
      },
      "source": [
        "# password = '' 안에 값 넣지 않아도됨.\r\n",
        "password = ''  \r\n",
        "\r\n",
        "while password != 'pythonisfun':\r\n",
        "  print('암호를 입력하세요.')\r\n",
        "  password = input()\r\n",
        "\r\n",
        "print('로그인 성공') "
      ],
      "execution_count": null,
      "outputs": []
    },
    {
      "cell_type": "markdown",
      "metadata": {
        "id": "aG46W3PzDLNs"
      },
      "source": [
        "## 실습 4-2 : 로그인 프로그램2"
      ]
    },
    {
      "cell_type": "code",
      "metadata": {
        "colab": {
          "base_uri": "https://localhost:8080/"
        },
        "id": "oqetfuDRDLZg",
        "outputId": "362304e3-2fc3-40b8-cb5e-f2e6f3558610"
      },
      "source": [
        "#\r\n",
        "password = ''\r\n",
        "count = 0\r\n",
        "\r\n",
        "while password != 'pythonisfun' and count <= 4:\r\n",
        "  print('암호를 입력하세요.')\r\n",
        "  password = input()\r\n",
        "  \r\n",
        "  if count == 4:\r\n",
        "    print('5회 틀렸습니다. 로그인에 실패하셨습니다.')\r\n",
        "  count = count + 1\r\n",
        "\r\n",
        "print('로그인 성공') # count 5일때, 출력됨.."
      ],
      "execution_count": null,
      "outputs": [
        {
          "output_type": "stream",
          "text": [
            "암호를 입력하세요.\n",
            "1\n",
            "암호를 입력하세요.\n",
            "1\n",
            "암호를 입력하세요.\n",
            "1\n",
            "암호를 입력하세요.\n",
            "1\n",
            "암호를 입력하세요.\n",
            "1\n",
            "5회 틀렸습니다. 로그인에 실패하셨습니다.\n",
            "로그인 성공\n"
          ],
          "name": "stdout"
        }
      ]
    },
    {
      "cell_type": "code",
      "metadata": {
        "id": "xGxzsngW1ps1"
      },
      "source": [
        "# 답안\r\n",
        "trial_count = 0\r\n",
        "\r\n",
        "# while true로 계속반복시켜놓고, 원하는 답이 나왔을 경우에 break!\r\n",
        "while True :\r\n",
        "  print('암호를 입력하세요.')\r\n",
        "  trial_count = trial_count + 1\r\n",
        "  password = input()\r\n",
        "  if password == 'pythonisfun' :\r\n",
        "    print('로그인 성공')\r\n",
        "    break\r\n",
        "  if trial_count >= 5:\r\n",
        "    print('5회 틀렸습니다. 로그인에 실패하셨습니다.')\r\n",
        "    break  "
      ],
      "execution_count": null,
      "outputs": []
    },
    {
      "cell_type": "markdown",
      "metadata": {
        "id": "jNax22XJLJFe"
      },
      "source": [
        "## 실습 5-1 : 구구단 출력1"
      ]
    },
    {
      "cell_type": "code",
      "metadata": {
        "id": "WRec3A1sSbvd"
      },
      "source": [
        "#\r\n",
        "dan = input('원하는 단은:')\r\n",
        "dan = int(dan)\r\n",
        "\r\n",
        "count = 1\r\n",
        "while dan <= 9:\r\n",
        "  print(str(dan) + '*' + str(count) + '=' + str(dan * count))\r\n",
        "  count = count + 1\r\n",
        "  \r\n",
        "  while count > 9:\r\n",
        "    dan = dan + 1"
      ],
      "execution_count": null,
      "outputs": []
    },
    {
      "cell_type": "code",
      "metadata": {
        "colab": {
          "base_uri": "https://localhost:8080/"
        },
        "id": "kYjtaE5m4ECI",
        "outputId": "1982ca52-4024-44b2-ae22-4c048d1f384e"
      },
      "source": [
        "# 답안\r\n",
        "dan = input('원하는 단은:')\r\n",
        "dan = int(dan)\r\n",
        "\r\n",
        "count = 1\r\n",
        "while count <= 9:\r\n",
        "  print(str(dan) + '*' + str(count) + '=' + str(dan * count))\r\n",
        "  count = count + 1"
      ],
      "execution_count": null,
      "outputs": [
        {
          "output_type": "stream",
          "text": [
            "원하는 단은:9\n",
            "9*1=9\n",
            "9*2=18\n",
            "9*3=27\n",
            "9*4=36\n",
            "9*5=45\n",
            "9*6=54\n",
            "9*7=63\n",
            "9*8=72\n",
            "9*9=81\n"
          ],
          "name": "stdout"
        }
      ]
    },
    {
      "cell_type": "markdown",
      "metadata": {
        "id": "--0iUaKNPYvE"
      },
      "source": [
        "## 실습 5-2 : 구구단 출력하기2"
      ]
    },
    {
      "cell_type": "code",
      "metadata": {
        "id": "_QD_B3DfPY8k"
      },
      "source": [
        "# 답안\r\n",
        "dan = 2\r\n",
        "\r\n",
        "while dan < 10:\r\n",
        "\r\n",
        "  count = 1\r\n",
        "  print(str(dan) + '단')\r\n",
        "\r\n",
        "  while count < 10:\r\n",
        "    print(str(dan) + '*' + str(count) + '=' + str(dan * count))\r\n",
        "    count = count + 1\r\n",
        "  \r\n",
        "  dan = dan + 1\r\n",
        "  print()"
      ],
      "execution_count": null,
      "outputs": []
    },
    {
      "cell_type": "markdown",
      "metadata": {
        "id": "F4ZPWhAQPZOv"
      },
      "source": [
        "## 실습 6 : 입력 받은 수까지 합 구하기"
      ]
    },
    {
      "cell_type": "code",
      "metadata": {
        "colab": {
          "base_uri": "https://localhost:8080/"
        },
        "id": "AZanP3scPZdh",
        "outputId": "44f3c783-7f62-4bf1-df76-5ef4ea4c6efa"
      },
      "source": [
        "num1 = 1\r\n",
        "sum = 0\r\n",
        "\r\n",
        "num2 = input('숫자를 입력하세요 : ')\r\n",
        "num2 = int(num2)\r\n",
        "\r\n",
        "while num1 <= num2: \r\n",
        "   sum += num1\r\n",
        "   num1 = num1 + 1\r\n",
        "\r\n",
        "print()\r\n",
        "print('합 : ', sum)"
      ],
      "execution_count": null,
      "outputs": [
        {
          "output_type": "stream",
          "text": [
            "숫자를 입력하세요 : 100\n",
            "\n",
            "합 :  5050\n"
          ],
          "name": "stdout"
        }
      ]
    },
    {
      "cell_type": "code",
      "metadata": {
        "colab": {
          "base_uri": "https://localhost:8080/"
        },
        "id": "YslWR0G78hHY",
        "outputId": "2a089609-f291-467a-ba41-eab19747e053"
      },
      "source": [
        "# 답안\r\n",
        "number = input('숫자를 입력하세요 : ')\r\n",
        "number = int(number)\r\n",
        "\r\n",
        "sum = 0\r\n",
        "\r\n",
        "# 100부터 1까지 거꾸로 더하기\r\n",
        "while (number > 0) :\r\n",
        "  sum = sum + number\r\n",
        "  number = number - 1\r\n",
        "\r\n",
        "print('합 :', sum)"
      ],
      "execution_count": null,
      "outputs": [
        {
          "output_type": "stream",
          "text": [
            "숫자를 입력하세요 : 100\n",
            "합 : 5050\n"
          ],
          "name": "stdout"
        }
      ]
    },
    {
      "cell_type": "markdown",
      "metadata": {
        "id": "QCyamqpEPj_w"
      },
      "source": [
        "## 실습 7 : Summation / Average / Max / Min"
      ]
    },
    {
      "cell_type": "code",
      "metadata": {
        "id": "ihPydP5PPkQD"
      },
      "source": [
        "# while true - break(입력 끝) 사용!\r\n",
        "# 너무어려움"
      ],
      "execution_count": null,
      "outputs": []
    },
    {
      "cell_type": "markdown",
      "metadata": {
        "id": "0g9-va26SlMN"
      },
      "source": [
        "# 4-2 이진탐색 알고리즘"
      ]
    },
    {
      "cell_type": "code",
      "metadata": {
        "id": "cF1Rg3ZpSqi8"
      },
      "source": [
        "# 데이터 값이 변하는 값은 항상 변수를 활용해야한다!!"
      ],
      "execution_count": null,
      "outputs": []
    },
    {
      "cell_type": "code",
      "metadata": {
        "id": "ipWgTlSQSqmV"
      },
      "source": [
        "print('당신이 생각하는 숫자를 맞히겠습니다.')\r\n",
        "print()\r\n",
        "print('1부터 1000가운데 숫자 하나를 생각하세요.')\r\n",
        "print('10 번 안에 당신이 생각하고 있는 숫자를 맞힐 수 있습니다.')\r\n",
        "print('숫자를 생각하셨으면 비밀리에 메모해 두고 enter를 누르세요.')\r\n",
        "print()\r\n",
        "myNum = input()\r\n",
        "myNum = int(myNum)\r\n",
        "\r\n",
        "Start_value = 1\r\n",
        "End_value = 1000\r\n",
        "count = 0\r\n",
        "guess = 0\r\n",
        "\r\n",
        "while guess != myNum and count < 10:\r\n",
        "  guess = int((Start_value + End_value)/2)\r\n",
        "  count = count + 1\r\n",
        " \r\n",
        "  yn_answer = input('Trial '+ str(count) + '. 당신이 생각하고 있는 숫자는 ' + str(guess) + ' 입니다.Yes or no?')\r\n",
        "  \r\n",
        "  if yn_answer == 'no' or yn_answer == 'No':\r\n",
        "    hl_answer = input('Oops! 내가 예측한 숫자가 크나요 작나요(High or low?')\r\n",
        "    print()\r\n",
        "\r\n",
        "\r\n",
        "    if hl_answer == 'high' or hl_answer == 'High':  \r\n",
        "      End_value = guess + 1\r\n",
        "    if hl_answer == 'low' or hl_answer == 'Low':\r\n",
        "      Start_value = guess + 1\r\n",
        "             \r\n",
        "  if myNum == guess and yn_answer == 'yes' or yn_answer == 'Yes':\r\n",
        "    print()\r\n",
        "    print(count, '번 만에 찾았습니다. 내 실력 대단하죠? 게임을 종료합니다.')"
      ],
      "execution_count": null,
      "outputs": []
    },
    {
      "cell_type": "markdown",
      "metadata": {
        "id": "YpOpWtK8BLbg"
      },
      "source": [
        "## 실습1 : Dragon realm"
      ]
    },
    {
      "cell_type": "code",
      "metadata": {
        "colab": {
          "base_uri": "https://localhost:8080/"
        },
        "id": "gn72JsBwBKLM",
        "outputId": "a766d325-ec2b-417f-af5d-8618843b2c09"
      },
      "source": [
        "import time\r\n",
        "import random\r\n",
        "print('You are in a land full of dragons.')\r\n",
        "time.sleep(1)\r\n",
        "print('In front of you, you see two caves.')\r\n",
        "time.sleep(1)\r\n",
        "print('In one cave, the dragon is friendly,')\r\n",
        "time.sleep(1)\r\n",
        "print('and will share his treasure with you.')\r\n",
        "time.sleep(1)\r\n",
        "print('The other dragon is greedy and hungry,')\r\n",
        "time.sleep(1)\r\n",
        "print('and will eat you on sight.')\r\n",
        "print()\r\n",
        "\r\n",
        "# and/or 확실히\r\n",
        "answer = input('Which cave will you go into? (1 or 2)')\r\n",
        "answer = int(answer)\r\n",
        "\r\n",
        "while answer != 1 and answer != 2:\r\n",
        "  answer = input('Which cave will you go into? (1 or 2)')\r\n",
        "print()\r\n",
        "\r\n",
        "\r\n",
        "print('You approach the cave...')\r\n",
        "time.sleep(1)\r\n",
        "print('It is dark and spooky...')\r\n",
        "time.sleep(1)\r\n",
        "print('A large dragon jumps out in front of you!')\r\n",
        "time.sleep(1)\r\n",
        "print('He opens his jaws and...')\r\n",
        "print()\r\n",
        "\r\n",
        "\r\n",
        "if answer == random.randint(1,10):\r\n",
        "  print('Gives you his treasure!')\r\n",
        "else :\r\n",
        "  print('Gobbles you down in one bite!')\r\n",
        "print()\r\n",
        "\r\n",
        "\r\n",
        "end_answer = input('Do you want to play again?(yes or no')\r\n",
        "\r\n",
        "if end_answer == 'yes' and end_answer == 'y':\r\n",
        "# 처음부터 다시 시작 ? \r\n",
        "else:\r\n",
        " print('Thank you!')"
      ],
      "execution_count": null,
      "outputs": [
        {
          "output_type": "stream",
          "text": [
            "You are in a land full of dragons.\n",
            "In front of you, you see two caves.\n",
            "In one cave, the dragon is friendly,\n",
            "and will share his treasure with you.\n",
            "The other dragon is greedy and hungry,\n",
            "and will eat you on sight.\n",
            "\n",
            "Which cave will you go into? (1 or 2)2\n",
            "\n",
            "You approach the cave...\n",
            "It is dark and spooky...\n",
            "A large dragon jumps out in front of you!\n",
            "He opens his jaws and...\n",
            "\n",
            "Gobbles you down in one bite!\n",
            "\n",
            "Do you want to play again?(yes or non\n",
            "Thank you!\n"
          ],
          "name": "stdout"
        }
      ]
    },
    {
      "cell_type": "code",
      "metadata": {
        "id": "vV8apAGUDb6F"
      },
      "source": [
        "# 답안\r\n",
        "import time\r\n",
        "import random\r\n",
        "\r\n",
        "playing_check = 'yes'\r\n",
        "\r\n",
        "while (playing_check == 'yes') or (playing_check == 'y'):\r\n",
        "\r\n",
        "  print('You are in a land full of dragons.')\r\n",
        "  time.sleep(1)\r\n",
        "  print('In front of you, you see two caves.')\r\n",
        "  time.sleep(1)\r\n",
        "  print('In one cave, the dragon is friendly,')\r\n",
        "  time.sleep(1)\r\n",
        "  print('and will share his treasure with you.')\r\n",
        "  time.sleep(1)\r\n",
        "  print('The other dragon is greedy and hungry,')\r\n",
        "  time.sleep(1)\r\n",
        "  print('and will eat you on sight.')\r\n",
        "  time.sleep(1)\r\n",
        "\r\n",
        "  # and/or 확실히\r\n",
        "  while Ture:\r\n",
        "    cave_choice = input('Which cave will you go into? (1 or 2)')\r\n",
        "    if (cave_choice == '1') or (cave_choice == '2') :\r\n",
        "      cave_choice = int(cave_choice)\r\n",
        "      break\r\n",
        "\r\n",
        "  print('You approach the cave...')\r\n",
        "  time.sleep(1)\r\n",
        "  print('It is dark and spooky...')\r\n",
        "  time.sleep(1)\r\n",
        "  print('A large dragon jumps out in front of you!')\r\n",
        "  time.sleep(1)\r\n",
        "  print('He opens his jaws and...')\r\n",
        "  time.sleep(1)\r\n",
        "\r\n",
        "  destiny = random.randint(1, 2):\r\n",
        "  if cave_choice == destiny:\r\n",
        "    print('Gives you his treasure!')\r\n",
        "  else :\r\n",
        "    print('Gobbles you down in one bite!')\r\n",
        "\r\n",
        "  playing_check = input('Do you want to play again?(yes or no)')\r\n",
        "\r\n",
        "print('Thank you!')  "
      ],
      "execution_count": null,
      "outputs": []
    },
    {
      "cell_type": "markdown",
      "metadata": {
        "id": "8HSxLAz4BMn5"
      },
      "source": [
        "# 5  Container data type"
      ]
    },
    {
      "cell_type": "markdown",
      "metadata": {
        "id": "RtOTNzQ8EnRr"
      },
      "source": [
        "list와 아이템"
      ]
    },
    {
      "cell_type": "code",
      "metadata": {
        "id": "0T7i-myUBKyF",
        "colab": {
          "base_uri": "https://localhost:8080/"
        },
        "outputId": "a24a9a52-9a54-40eb-c9a2-a0cb18d809b5"
      },
      "source": [
        "# container datatype\r\n",
        "# 다수의 데이터를 묶어서 하나의 변수 저장하고 처리할 때 유용\r\n",
        "# if문의 긴 코드를 list를 이용하면 코드 축소가능 (list -> 대괄호를 사용)\r\n",
        "# 리스트 내의 아이템은 콤마로 구분\r\n",
        "# index는 리스트 내 아이템에 접근할 때 사용 (index는 왼쪽은 0부터 시작. 오른쪽은 -1부터 시작.)\r\n",
        "\r\n",
        "shape = ['turtle', 'arrow', 'circle', 'square']\r\n",
        "print(shape[3])\r\n",
        "print(shape[-2])\r\n",
        "\r\n",
        "# 수정 --> 대입\r\n",
        "shape = ['turtle', 'arrow', 'circle', 'square']\r\n",
        "shape[1] = 'ARROW'\r\n",
        "\r\n",
        "# 아이템 추가 (list맨 끝에 한 아이템을 추가하고 싶을 때) --> list.append(item)      ex) shape.append(3), count.append('value')\r\n",
        "# list는 문자, 숫자 모두 아이템으로 추가가능 \r\n",
        "shape.append('heart')\r\n",
        "print(shape)\r\n",
        "\r\n",
        "# 리스트 추가 (list 끝에 list의 아이템을 추가하고 싶을 때) --> list.extend(list2)   ex) number = [1,2,3]  value.extend(number)\r\n",
        "number = [1,2,3]\r\n",
        "shape.extend(number)\r\n",
        "print(shape)\r\n",
        "\r\n",
        "# 아이템 삽입 --> 객체.insert(index, item)     ex) a.insert(2,'heart'), shape.insert(3, 'haha')\r\n",
        "# list는 데이터의 중복을 허용한다. 기존에 존재한 문자를 insert로 또 삽입할 수 있음.  \r\n",
        "shape.insert(1,'heart')\r\n",
        "print(shape)\r\n",
        "shape.insert(3, 'trianble')\r\n",
        "print(shape)\r\n",
        "\r\n",
        "# 아이템 제거 1  --> del list[index]     ex) del a[3], del shape[4], del count[2]\r\n",
        "print(shape)\r\n",
        "del shape[2]\r\n",
        "print(shape)\r\n",
        "\r\n",
        "# 아이템 제거 2  --> list.remove(item)     ex) a.remove('heart), shape.remove('haha')\r\n",
        "shape.remove('heart')\r\n",
        "print(shape)\r\n",
        "\r\n",
        "# 아이템 검색 1  -->  논리연산자 in       ex) 'heart' in count --> true or false.   3 in count --> true or false\r\n",
        "print(shape)\r\n",
        "'heart' in shape #true\r\n",
        "'hearttt' in shape #false\r\n",
        "1 in shape\r\n",
        "\r\n",
        "# 아이템 검색 1  (index 번호를 알고 싶을 경우) <-- list.index(item)      ex) a.index(3) : 3이라는 item이 몇번째 위치에있느냐 \r\n",
        "shape.index(2) #숫자 2가 몇번 째인덱스인가 # 6번째\r\n",
        "shape.index('turtle') # 0번\r\n",
        "shape.index('circle') # 2번\r\n",
        "\r\n",
        "# list 슬라이싱 (자르기) -->  변수[시작:끝:증감] , 끝값은 포함을 하지않는다. 그 직전값까지만. \r\n",
        "a = [0, 1, 2, 3, 4, 5]\r\n",
        "a[0:2]\r\n",
        "a[2:]\r\n",
        "a[:4:2] #시작생략, 2씩증감\r\n",
        "a[-4:-2]\r\n",
        "a[-3:]\r\n",
        "a[:-3]\r\n",
        "a[0:0]\r\n",
        "a[:]\r\n",
        "\r\n",
        "# \r\n",
        "num = [0, 1, 2, 3, 4, 5]\r\n",
        "shape = ['turtle', 'arrow', 'circle', 'square']\r\n",
        "num + shape\r\n",
        "num * 2\r\n",
        "\r\n",
        "# list of list\r\n",
        "ID = [1, 2, 3, 4]\r\n",
        "area = ['Seolu', 'Kwangju']\r\n",
        "name = ['Alice', 'Bob']\r\n",
        "student = [ID, area, name]\r\n",
        "student \r\n",
        "\r\n",
        "# list 정렬  -->  list.sort()    , 알파벳순,숫자순으로 정렬됨.\r\n",
        "shape = ['turtle', 'arrow', 'circle', 'square']\r\n",
        "shape.sort() # 알파벳 순으로 정렬됨\r\n",
        "shape\r\n",
        "\r\n",
        "number = [ 2, 5, 1, 11, 22, 3]\r\n",
        "number.sort()\r\n",
        "number\r\n",
        "\r\n",
        "# 문자열을 list로 생성하기 -->   하나의긴문자열.split() = 다른변수에저장\r\n",
        "a = 'Hello world'\r\n",
        "b = list(a)\r\n",
        "c = a.split()\r\n",
        "d = a.split('o')\r\n",
        "print(a)\r\n",
        "print(b)\r\n",
        "print(c)\r\n",
        "print(d)\r\n",
        "\r\n",
        "# 숫자로 된 list 생성하기(range)\r\n",
        "list(range(10))\r\n",
        "list(range(3, 7))\r\n",
        "list(range(10,1,-2))\r\n",
        "\r\n",
        "# item의 개수알기 (count(), len())\r\n",
        "a = [6, 2, 4, 4, 2]\r\n",
        "a.count(4)\r\n",
        "a.count(6)\r\n",
        "len(a)"
      ],
      "execution_count": null,
      "outputs": [
        {
          "output_type": "stream",
          "text": [
            "square\n",
            "circle\n",
            "['turtle', 'ARROW', 'circle', 'square', 'heart']\n",
            "['turtle', 'ARROW', 'circle', 'square', 'heart', 1, 2, 3]\n",
            "['turtle', 'heart', 'ARROW', 'circle', 'square', 'heart', 1, 2, 3]\n",
            "['turtle', 'heart', 'ARROW', 'trianble', 'circle', 'square', 'heart', 1, 2, 3]\n",
            "['turtle', 'heart', 'ARROW', 'trianble', 'circle', 'square', 'heart', 1, 2, 3]\n",
            "['turtle', 'heart', 'trianble', 'circle', 'square', 'heart', 1, 2, 3]\n",
            "['turtle', 'trianble', 'circle', 'square', 'heart', 1, 2, 3]\n",
            "['turtle', 'trianble', 'circle', 'square', 'heart', 1, 2, 3]\n",
            "Hello world\n",
            "['H', 'e', 'l', 'l', 'o', ' ', 'w', 'o', 'r', 'l', 'd']\n",
            "['Hello', 'world']\n",
            "['Hell', ' w', 'rld']\n"
          ],
          "name": "stdout"
        },
        {
          "output_type": "execute_result",
          "data": {
            "text/plain": [
              "5"
            ]
          },
          "metadata": {
            "tags": []
          },
          "execution_count": 53
        }
      ]
    },
    {
      "cell_type": "code",
      "metadata": {
        "colab": {
          "base_uri": "https://localhost:8080/"
        },
        "id": "HHVa_4lVRcc7",
        "outputId": "3f0a5034-ce2b-43d6-bc71-491240d8b9af"
      },
      "source": [
        "# 예제1\r\n",
        "inputScores = input('input scores :')\r\n",
        "scores = inputScores.split() #공백을 기준으로 분리되기때문에, scores는 list변수가됨\r\n",
        "sum = 0\r\n",
        "index = 0\r\n",
        "\r\n",
        "while index < len(scores):  #index는 0부터시작하므로, <= 사용시 오류.\r\n",
        "  sum += int(scores[index])\r\n",
        "  index += 1\r\n",
        "\r\n",
        "print('Sum :', sum)  "
      ],
      "execution_count": null,
      "outputs": [
        {
          "output_type": "stream",
          "text": [
            "input scores :23 12 23 33\n",
            "Sum : 91\n"
          ],
          "name": "stdout"
        }
      ]
    },
    {
      "cell_type": "code",
      "metadata": {
        "colab": {
          "base_uri": "https://localhost:8080/"
        },
        "id": "7PULmcFk1mWw",
        "outputId": "3ed1d154-c1e9-49e4-bbab-103b388f392f"
      },
      "source": [
        "# 예제1-1\r\n",
        "inputScores = input('input scores :')\r\n",
        "scores = inputScores.split(',')\r\n",
        "sum = 0\r\n",
        "index = 0\r\n",
        "\r\n",
        "while True : \r\n",
        "  sum += int(scores[index])\r\n",
        "  index += 1\r\n",
        "  if index == len(scores):\r\n",
        "    average = sum / len(scores)\r\n",
        "    print('Average :', average)  \r\n",
        "    break"
      ],
      "execution_count": null,
      "outputs": [
        {
          "output_type": "stream",
          "text": [
            "input scores :20,30,50\n",
            "Average : 33.333333333333336\n"
          ],
          "name": "stdout"
        }
      ]
    },
    {
      "cell_type": "code",
      "metadata": {
        "id": "qQ-4YlWX8lpe"
      },
      "source": [
        "# 예제2 list사용 x\r\n",
        "coin = int(input('동전을 넣으세요: '))\r\n",
        "\r\n",
        "while coin >= 500:\r\n",
        "  print('\\n현재금액:',coin,'원')\r\n",
        "  sel = int(input('콜라(0), 사이다(1), 환타(2):'))\r\n",
        "\r\n",
        "  if sel == 0:\r\n",
        "    print('콜라가 나왔습니다')\r\n",
        "  elif sel == 1:\r\n",
        "    print('사이다가 나왔습니다')\r\n",
        "  else :\r\n",
        "    print('환타가 나왔습니다')  \r\n",
        "  coin -= 500\r\n",
        "\r\n",
        "print('거스름돈:', coin,'원')"
      ],
      "execution_count": null,
      "outputs": []
    },
    {
      "cell_type": "code",
      "metadata": {
        "colab": {
          "base_uri": "https://localhost:8080/"
        },
        "id": "4y52B64lTMkA",
        "outputId": "aa2fd2b6-f7ec-4b66-cc03-3ed4bf6b64dc"
      },
      "source": [
        "# 예제2 list사용\r\n",
        "drinks = ['콜라', '사이다', '환타']\r\n",
        "coin = int(input('동전을 넣으세요: '))\r\n",
        "\r\n",
        "while coin >= 500:\r\n",
        "  print('\\n현재금액:',coin,'원')\r\n",
        "  sel = int(input('콜라(0), 사이다(1), 환타(2):'))\r\n",
        "  print(drinks[sel] + '가 나왔습니다.')\r\n",
        "  coin -= 500\r\n",
        "\r\n",
        "print('거스름돈:', coin,'원')"
      ],
      "execution_count": null,
      "outputs": [
        {
          "output_type": "stream",
          "text": [
            "동전을 넣으세요: 700\n",
            "\n",
            "현재금액: 700 원\n",
            "콜라(0), 사이다(1), 환타(2):1\n",
            "사이다가 나왔습니다.\n",
            "거스름돈: 200 원\n"
          ],
          "name": "stdout"
        }
      ]
    },
    {
      "cell_type": "markdown",
      "metadata": {
        "id": "YY6DowfMWpsH"
      },
      "source": [
        "## 실습 1 : 상품재고관리 프로그램"
      ]
    },
    {
      "cell_type": "code",
      "metadata": {
        "colab": {
          "base_uri": "https://localhost:8080/"
        },
        "id": "6-RxwwT4Ewe0",
        "outputId": "9a29aba0-3be2-4303-89e5-dfbd8dd65956"
      },
      "source": [
        "print('상품재고관리 프로그램')\r\n",
        "print()\r\n",
        "\r\n",
        "stock = '커피, 우유, 바나나, 감귤, 화장지, 장갑, 이불, 베개, 장난감, 음료수, 빵'\r\n",
        "stock = stock.split(', ')\r\n",
        "print(stock)\r\n",
        "\r\n",
        "# while Ture 와 break를 언제 사용해야하는지 아직 잘 와닿지않음.\r\n",
        "while True :  # 몇번 입력받을지 모르기때문에 , while true 사용\r\n",
        "  select = int(input('상품관리(1. 삽입, 2. 삭제, 3. 상품확인, 4. 종료): '))\r\n",
        "  \r\n",
        "  if select == 1:\r\n",
        "    product = input('상품관리1-삽입) 삽입하고자 하는 상품은?')\r\n",
        "    location = input('상품관리1-삽입) 삽입하고자 하는 위치는?')\r\n",
        "    stock.insert(int(location),product)   # location = int(location) --> stock.insert(location, product)와 같음\r\n",
        "    print(product, '삽입 완료')\r\n",
        "    print(stock)\r\n",
        "\r\n",
        "  elif select == 2:\r\n",
        "    product = input('상품관리2-삭제) 삭제하고자 하는 상품은?')\r\n",
        "    if (product in stock) == True : # 재고가없는 상품을 입력했을시, 오류를 방지하기위해서..\r\n",
        "      stock.remove(product)\r\n",
        "      print(product, '삭제완료')  \r\n",
        "    else :\r\n",
        "      print('검색하는 상품을 찾지 못하였습니다.')\r\n",
        "    print(stock)\r\n",
        "\r\n",
        "  elif select == 3:\r\n",
        "    product = input('상품관리3-상품확인) 확인하고자 하는 상품은?')\r\n",
        "    if (product in stock) == True :\r\n",
        "      print(product, '검색 완료')\r\n",
        "    else :\r\n",
        "      print('검색하는 상품을 찾지 못하였습니다.')\r\n",
        "  else :  \r\n",
        "    print('프로그램을 종료합니다.')\r\n",
        "    break\r\n",
        "\r\n",
        "  print()"
      ],
      "execution_count": null,
      "outputs": [
        {
          "output_type": "stream",
          "text": [
            "상품재고관리 프로그램\n",
            "\n",
            "['커피', '우유', '바나나', '감귤', '화장지', '장갑', '이불', '베개', '장난감', '음료수', '빵']\n",
            "상품관리(1. 삽입, 2. 삭제, 3. 상품확인, 4. 종료): 1\n",
            "상품관리1-삽입) 삽입하고자 하는 상품은?조명\n",
            "상품관리1-삽입) 삽입하고자 하는 위치는?0\n",
            "조명 삽입 완료\n",
            "['조명', '커피', '우유', '바나나', '감귤', '화장지', '장갑', '이불', '베개', '장난감', '음료수', '빵']\n",
            "\n",
            "상품관리(1. 삽입, 2. 삭제, 3. 상품확인, 4. 종료): 2\n",
            "상품관리2-삭제) 삭제하고자 하는 상품은?핸드폰\n",
            "검색하는 상품을 찾지 못하였습니다.\n",
            "['조명', '커피', '우유', '바나나', '감귤', '화장지', '장갑', '이불', '베개', '장난감', '음료수', '빵']\n",
            "\n",
            "상품관리(1. 삽입, 2. 삭제, 3. 상품확인, 4. 종료): 2\n",
            "상품관리2-삭제) 삭제하고자 하는 상품은?음료수\n",
            "음료수 삭제완료\n",
            "['조명', '커피', '우유', '바나나', '감귤', '화장지', '장갑', '이불', '베개', '장난감', '빵']\n",
            "\n",
            "상품관리(1. 삽입, 2. 삭제, 3. 상품확인, 4. 종료): 3\n",
            "상품관리3-상품확인) 확인하고자 하는 상품은?핸드폰\n",
            "검색하는 상품을 찾지 못하였습니다.\n",
            "\n",
            "상품관리(1. 삽입, 2. 삭제, 3. 상품확인, 4. 종료): 4\n",
            "프로그램을 종료합니다.\n"
          ],
          "name": "stdout"
        }
      ]
    },
    {
      "cell_type": "markdown",
      "metadata": {
        "id": "Tdk0XVvlWqFW"
      },
      "source": [
        "## 실습 2 : 동이름만 출력하기"
      ]
    },
    {
      "cell_type": "code",
      "metadata": {
        "colab": {
          "base_uri": "https://localhost:8080/"
        },
        "id": "PD6g3MGHPCP1",
        "outputId": "e3cb370d-d361-48f8-ec6e-209ecc1b22d7"
      },
      "source": [
        "input_area = input('In : ')\r\n",
        "area = input_area.split()\r\n",
        "\r\n",
        "print('======')\r\n",
        "print('동이름')\r\n",
        "print('======')\r\n",
        "\r\n",
        "index = 0\r\n",
        "while index < len(area) :\r\n",
        "  word = area[index]\r\n",
        "  \r\n",
        "  if word[-1] == '동' :\r\n",
        "    print(word)\r\n",
        "\r\n",
        "  index = index + 1\r\n",
        "\r\n"
      ],
      "execution_count": null,
      "outputs": [
        {
          "output_type": "stream",
          "text": [
            "In : 홍제동 은평구 갈현동 서울특별시 구산동\n",
            "======\n",
            "동이름\n",
            "======\n",
            "홍제동\n",
            "갈현동\n",
            "구산동\n"
          ],
          "name": "stdout"
        }
      ]
    },
    {
      "cell_type": "markdown",
      "metadata": {
        "id": "1kyuIcYaWqjp"
      },
      "source": [
        "## 실습 3 : 문장 내 단어 출력하기"
      ]
    },
    {
      "cell_type": "code",
      "metadata": {
        "colab": {
          "base_uri": "https://localhost:8080/"
        },
        "id": "HwVPeGYBWqxv",
        "outputId": "5472df17-8762-4f80-c943-486f530b09ed"
      },
      "source": [
        "#\r\n",
        "input_sentence = input('input : ')\r\n",
        "word = input_sentence.split()\r\n",
        "\r\n",
        "index = 0\r\n",
        "\r\n",
        "while index < len(word) :\r\n",
        "\r\n",
        "  if word[index] == 'a' or word[index] == 'A' :\r\n",
        "    del word[index]\r\n",
        "  elif word[index] == 'an' or word[index] == 'An' :  \r\n",
        "    del word[index]\r\n",
        "  elif word[index] == 'the' or word[index] == 'The' :\r\n",
        "    del word[index]\r\n",
        "\r\n",
        "  index = index + 1  \r\n",
        "\r\n",
        "#마지막 결과 출력하는 print() 위치 주의하기! \r\n",
        "print(word)"
      ],
      "execution_count": null,
      "outputs": [
        {
          "output_type": "stream",
          "text": [
            "input : A gift in season is a double favor to the needy.\n",
            "['gift', 'in', 'season', 'is', 'double', 'favor', 'to', 'needy.']\n"
          ],
          "name": "stdout"
        }
      ]
    },
    {
      "cell_type": "markdown",
      "metadata": {
        "id": "UOrHEm1NWrJd"
      },
      "source": [
        "## 실습 4 : 복권 프로그램\r\n"
      ]
    },
    {
      "cell_type": "code",
      "metadata": {
        "id": "AwMOSE9bWrdZ"
      },
      "source": [
        "\r\n"
      ],
      "execution_count": null,
      "outputs": []
    },
    {
      "cell_type": "markdown",
      "metadata": {
        "id": "md7zd4yaXFLC"
      },
      "source": [
        "## 실습 5 : 오늘의 명언"
      ]
    },
    {
      "cell_type": "code",
      "metadata": {
        "id": "ac3yhcVmXFbo",
        "colab": {
          "base_uri": "https://localhost:8080/"
        },
        "outputId": "d3026408-d666-4559-d411-47cfb1d19364"
      },
      "source": [
        "import random\r\n",
        "\r\n",
        "proverb = []\r\n",
        "\r\n",
        "proverb.append('꿈을 지녀라. 그러면 어려운 현실을 이길 수 있다.')\r\n",
        "proverb.append('고생없이 얻을 수 있는 진실로 귀중한 것은 하나도 없다.')\r\n",
        "proverb.append('사람은 사랑할 때 누구나 시인이 된다.')\r\n",
        "proverb.append('시작이 반이다.')\r\n",
        "proverb.append('나는 사랑으로 내가 이해하는 모든 것들을 이해한다.')\r\n",
        "\r\n",
        "print('============')\r\n",
        "print('오늘의 명언')\r\n",
        "print('============')\r\n",
        "\r\n",
        "today_proverb = random.randint(0, 4)\r\n",
        "\r\n",
        "if today_proverb == 0:\r\n",
        "  print(proverb[0])\r\n",
        "elif today_proverb == 1:\r\n",
        "  print(proverb[1])\r\n",
        "elif today_proverb == 2:\r\n",
        "  print(proverb[2])\r\n",
        "elif today_proverb == 3:\r\n",
        "  print(proverb[3])\r\n",
        "elif today_proverb == 4:\r\n",
        "  print(proverb[4])\r\n",
        "else :\r\n",
        "  print(proverb[5])"
      ],
      "execution_count": null,
      "outputs": [
        {
          "output_type": "stream",
          "text": [
            "============\n",
            "오늘의 명언\n",
            "============\n",
            "사람은 사랑할 때 누구나 시인이 된다.\n"
          ],
          "name": "stdout"
        }
      ]
    },
    {
      "cell_type": "code",
      "metadata": {
        "colab": {
          "base_uri": "https://localhost:8080/"
        },
        "id": "-n6MrLkyypHu",
        "outputId": "94044c00-4b6f-4a1a-a51f-be3dc06cf430"
      },
      "source": [
        "# 답안\r\n",
        "import random\r\n",
        "\r\n",
        "proverb = []\r\n",
        "\r\n",
        "proverb.append('꿈을 지녀라. 그러면 어려운 현실을 이길 수 있다.')\r\n",
        "proverb.append('고생없이 얻을 수 있는 진실로 귀중한 것은 하나도 없다.')\r\n",
        "proverb.append('사람은 사랑할 때 누구나 시인이 된다.')\r\n",
        "proverb.append('시작이 반이다.')\r\n",
        "proverb.append('나는 사랑으로 내가 이해하는 모든 것들을 이해한다.')\r\n",
        "\r\n",
        "print('============')\r\n",
        "print('오늘의 명언')\r\n",
        "print('============')\r\n",
        "\r\n",
        "rand_index = random.randint(0, len(proverb) - 1)\r\n",
        "\r\n",
        "print(proverb[rand_index])"
      ],
      "execution_count": null,
      "outputs": [
        {
          "output_type": "stream",
          "text": [
            "============\n",
            "오늘의 명언\n",
            "============\n",
            "나는 사랑으로 내가 이해하는 모든 것들을 이해한다.\n"
          ],
          "name": "stdout"
        }
      ]
    }
  ]
}