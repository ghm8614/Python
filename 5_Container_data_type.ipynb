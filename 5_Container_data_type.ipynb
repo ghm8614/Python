{
  "nbformat": 4,
  "nbformat_minor": 0,
  "metadata": {
    "colab": {
      "name": "5  Container data type.ipynb",
      "provenance": [],
      "collapsed_sections": [],
      "authorship_tag": "ABX9TyMCJ9UxXUd8KCG/CNh3KxIt",
      "include_colab_link": true
    },
    "kernelspec": {
      "name": "python3",
      "display_name": "Python 3"
    }
  },
  "cells": [
    {
      "cell_type": "markdown",
      "metadata": {
        "id": "view-in-github",
        "colab_type": "text"
      },
      "source": [
        "<a href=\"https://colab.research.google.com/github/ghm8614/Python/blob/main/5_Container_data_type.ipynb\" target=\"_parent\"><img src=\"https://colab.research.google.com/assets/colab-badge.svg\" alt=\"Open In Colab\"/></a>"
      ]
    },
    {
      "cell_type": "markdown",
      "metadata": {
        "id": "8HSxLAz4BMn5"
      },
      "source": [
        "# 5  Container data type"
      ]
    },
    {
      "cell_type": "markdown",
      "metadata": {
        "id": "rbiDseRia8r2"
      },
      "source": [
        "## 강의내용 정리 + 예제"
      ]
    },
    {
      "cell_type": "markdown",
      "metadata": {
        "id": "RtOTNzQ8EnRr"
      },
      "source": [
        "list와 item"
      ]
    },
    {
      "cell_type": "code",
      "metadata": {
        "id": "0T7i-myUBKyF"
      },
      "source": [
        "# container datatype\r\n",
        "# 다수의 데이터를 묶어서 하나의 변수 저장하고 처리할 때 유용\r\n",
        "# if문의 긴 코드를 list를 이용하면 코드 축소가능 (list -> 대괄호를 사용)\r\n",
        "# 리스트 내의 아이템은 콤마로 구분\r\n",
        "# index는 리스트 내 아이템에 접근할 때 사용 (index는 왼쪽은 0부터 시작. 오른쪽은 -1부터 시작.)\r\n",
        "\r\n",
        "shape = ['turtle', 'arrow', 'circle', 'square']\r\n",
        "print(shape[3])\r\n",
        "print(shape[-2])\r\n",
        "\r\n",
        "# 수정 --> 대입\r\n",
        "shape = ['turtle', 'arrow', 'circle', 'square']\r\n",
        "shape[1] = 'ARROW'\r\n",
        "\r\n",
        "# 아이템 추가 (list맨 끝에 한 아이템을 추가하고 싶을 때) -> list.append(item)   \r\n",
        "# ex) shape.append(3), count.append('value')\r\n",
        "# list는 문자, 숫자 모두 아이템으로 추가가능 \r\n",
        "shape.append('heart')\r\n",
        "print(shape)\r\n",
        "\r\n",
        "# 리스트 추가 (list 끝에 list의 아이템을 추가하고 싶을 때) -> list.extend(list2)\r\n",
        "# ex) number = [1,2,3]  value.extend(number)\r\n",
        "number = [1,2,3]\r\n",
        "shape.extend(number)\r\n",
        "print(shape)\r\n",
        "\r\n",
        "# 아이템 삽입 --> 객체.insert(index, item) \r\n",
        "# ex) a.insert(2,'heart'), shape.insert(3, 'haha')\r\n",
        "# list는 데이터의 중복을 허용한다.기존에 존재한 문자를 insert로 또 삽입가능\r\n",
        "shape.insert(1,'heart')\r\n",
        "print(shape)\r\n",
        "shape.insert(3, 'trianble')\r\n",
        "print(shape)\r\n",
        "\r\n",
        "# 아이템 제거 1  --> del list[index]\r\n",
        "# ex) del a[3], del shape[4], del count[2]\r\n",
        "print(shape)\r\n",
        "del shape[2]\r\n",
        "print(shape)\r\n",
        "\r\n",
        "# 아이템 제거 2  --> list.remove(item)\r\n",
        "# ex) a.remove('heart), shape.remove('haha')\r\n",
        "shape.remove('heart')\r\n",
        "print(shape)\r\n",
        "\r\n",
        "# 아이템 검색 1  -->  논리연산자 in     \r\n",
        "# ex) 'heart' in count --> true or false.   3 in count --> true or false\r\n",
        "print(shape)\r\n",
        "'heart' in shape #true\r\n",
        "'hearttt' in shape #false\r\n",
        "1 in shape\r\n",
        "\r\n",
        "# 아이템 검색 1  (index 번호를 알고 싶을 경우) <-- list.index(item) \r\n",
        "# ex) a.index(3) : 3이라는 item이 몇번째 위치에있느냐 \r\n",
        "shape.index(2) #숫자 2가 몇번 째인덱스인가 # 6번째\r\n",
        "shape.index('turtle') # 0번\r\n",
        "shape.index('circle') # 2번\r\n",
        "\r\n",
        "# list 슬라이싱 (자르기) -->  변수[시작:끝:증감] , 끝값은 포함을 하지않고, 그 직전값까지만. \r\n",
        "a = [0, 1, 2, 3, 4, 5]\r\n",
        "a[0:2]\r\n",
        "a[2:]\r\n",
        "a[:4:2] #시작생략, 2씩증감\r\n",
        "a[-4:-2]\r\n",
        "a[-3:]\r\n",
        "a[:-3]\r\n",
        "a[0:0]\r\n",
        "a[:]\r\n",
        "\r\n",
        "# \r\n",
        "num = [0, 1, 2, 3, 4, 5]\r\n",
        "shape = ['turtle', 'arrow', 'circle', 'square']\r\n",
        "num + shape\r\n",
        "num * 2\r\n",
        "\r\n",
        "# list of list\r\n",
        "ID = [1, 2, 3, 4]\r\n",
        "area = ['Seolu', 'Kwangju']\r\n",
        "name = ['Alice', 'Bob']\r\n",
        "student = [ID, area, name]\r\n",
        "student \r\n",
        "\r\n",
        "# list 정렬  -->  list.sort()  , 알파벳순,숫자순으로 정렬됨.\r\n",
        "shape = ['turtle', 'arrow', 'circle', 'square']\r\n",
        "shape.sort() # 알파벳 순으로 정렬됨\r\n",
        "shape\r\n",
        "\r\n",
        "number = [ 2, 5, 1, 11, 22, 3]\r\n",
        "number.sort()\r\n",
        "number\r\n",
        "\r\n",
        "# 문자열을 list로 생성하기 ->  하나의긴문자열.split() = 다른변수에저장\r\n",
        "a = 'Hello world'\r\n",
        "b = list(a)\r\n",
        "c = a.split()\r\n",
        "d = a.split('o')\r\n",
        "print(a)\r\n",
        "print(b)\r\n",
        "print(c)\r\n",
        "print(d)\r\n",
        "\r\n",
        "# 숫자로 된 list 생성하기(range)\r\n",
        "list(range(10))\r\n",
        "list(range(3, 7))\r\n",
        "list(range(10,1,-2))\r\n",
        "\r\n",
        "# item의 개수알기 (count(), len())\r\n",
        "a = [6, 2, 4, 4, 2]\r\n",
        "a.count(4)\r\n",
        "a.count(6)\r\n",
        "len(a)"
      ],
      "execution_count": null,
      "outputs": []
    },
    {
      "cell_type": "code",
      "metadata": {
        "colab": {
          "base_uri": "https://localhost:8080/"
        },
        "id": "HHVa_4lVRcc7",
        "outputId": "3f0a5034-ce2b-43d6-bc71-491240d8b9af"
      },
      "source": [
        "# 예제1\r\n",
        "inputScores = input('input scores :')\r\n",
        "scores = inputScores.split() #공백을 기준으로 분리되기때문에, scores는 list변수가됨\r\n",
        "sum = 0\r\n",
        "index = 0\r\n",
        "\r\n",
        "while index < len(scores):  #index는 0부터시작하므로, <= 사용시 오류.\r\n",
        "  sum += int(scores[index])\r\n",
        "  index += 1\r\n",
        "\r\n",
        "print('Sum :', sum)  "
      ],
      "execution_count": null,
      "outputs": [
        {
          "output_type": "stream",
          "text": [
            "input scores :23 12 23 33\n",
            "Sum : 91\n"
          ],
          "name": "stdout"
        }
      ]
    },
    {
      "cell_type": "code",
      "metadata": {
        "colab": {
          "base_uri": "https://localhost:8080/"
        },
        "id": "7PULmcFk1mWw",
        "outputId": "3ed1d154-c1e9-49e4-bbab-103b388f392f"
      },
      "source": [
        "# 예제1-1\r\n",
        "inputScores = input('input scores :')\r\n",
        "scores = inputScores.split(',')\r\n",
        "sum = 0\r\n",
        "index = 0\r\n",
        "\r\n",
        "while True : \r\n",
        "  sum += int(scores[index])\r\n",
        "  index += 1\r\n",
        "  if index == len(scores):\r\n",
        "    average = sum / len(scores)\r\n",
        "    print('Average :', average)  \r\n",
        "    break"
      ],
      "execution_count": null,
      "outputs": [
        {
          "output_type": "stream",
          "text": [
            "input scores :20,30,50\n",
            "Average : 33.333333333333336\n"
          ],
          "name": "stdout"
        }
      ]
    },
    {
      "cell_type": "code",
      "metadata": {
        "id": "qQ-4YlWX8lpe",
        "colab": {
          "base_uri": "https://localhost:8080/"
        },
        "outputId": "2c5ba2bf-238b-43a3-cfe0-2b496043befa"
      },
      "source": [
        "# 예제2 list사용 x\r\n",
        "coin = int(input('동전을 넣으세요: '))\r\n",
        "\r\n",
        "while coin >= 500:\r\n",
        "  print('\\n현재금액:',coin,'원')\r\n",
        "  sel = int(input('콜라(0), 사이다(1), 환타(2):'))\r\n",
        "\r\n",
        "  if sel == 0:\r\n",
        "    print('콜라가 나왔습니다')\r\n",
        "  elif sel == 1:\r\n",
        "    print('사이다가 나왔습니다')\r\n",
        "  else :\r\n",
        "    print('환타가 나왔습니다')  \r\n",
        "  coin -= 500\r\n",
        "\r\n",
        "print('거스름돈:', coin,'원')"
      ],
      "execution_count": 1,
      "outputs": [
        {
          "output_type": "stream",
          "text": [
            "동전을 넣으세요: 500\n",
            "\n",
            "현재금액: 500 원\n",
            "콜라(0), 사이다(1), 환타(2):2\n",
            "환타가 나왔습니다\n",
            "거스름돈: 0 원\n"
          ],
          "name": "stdout"
        }
      ]
    },
    {
      "cell_type": "code",
      "metadata": {
        "colab": {
          "base_uri": "https://localhost:8080/"
        },
        "id": "4y52B64lTMkA",
        "outputId": "aa2fd2b6-f7ec-4b66-cc03-3ed4bf6b64dc"
      },
      "source": [
        "# 예제2 list사용\r\n",
        "drinks = ['콜라', '사이다', '환타']\r\n",
        "coin = int(input('동전을 넣으세요: '))\r\n",
        "\r\n",
        "while coin >= 500:\r\n",
        "  print('\\n현재금액:',coin,'원')\r\n",
        "  sel = int(input('콜라(0), 사이다(1), 환타(2):'))\r\n",
        "  print(drinks[sel] + '가 나왔습니다.')\r\n",
        "  coin -= 500\r\n",
        "\r\n",
        "print('거스름돈:', coin,'원')"
      ],
      "execution_count": null,
      "outputs": [
        {
          "output_type": "stream",
          "text": [
            "동전을 넣으세요: 700\n",
            "\n",
            "현재금액: 700 원\n",
            "콜라(0), 사이다(1), 환타(2):1\n",
            "사이다가 나왔습니다.\n",
            "거스름돈: 200 원\n"
          ],
          "name": "stdout"
        }
      ]
    },
    {
      "cell_type": "markdown",
      "metadata": {
        "id": "YY6DowfMWpsH"
      },
      "source": [
        "## 실습 1 : 상품재고관리 프로그램"
      ]
    },
    {
      "cell_type": "code",
      "metadata": {
        "colab": {
          "base_uri": "https://localhost:8080/"
        },
        "id": "6-RxwwT4Ewe0",
        "outputId": "9a29aba0-3be2-4303-89e5-dfbd8dd65956"
      },
      "source": [
        "print('상품재고관리 프로그램')\r\n",
        "print()\r\n",
        "\r\n",
        "stock = '커피, 우유, 바나나, 감귤, 화장지, 장갑, 이불, 베개, 장난감, 음료수, 빵'\r\n",
        "stock = stock.split(', ') # 쉼표 뒤에 띄어쓰기 해야함\r\n",
        "print(stock)\r\n",
        "\r\n",
        "# 몇번 입력받을지 모르기 때문에, while true 사용\r\n",
        "while True :  \r\n",
        "  select = int(input('상품관리(1. 삽입, 2. 삭제, 3. 상품확인, 4. 종료): '))\r\n",
        "  \r\n",
        "  if select == 1:\r\n",
        "    product = input('상품관리1-삽입) 삽입하고자 하는 상품은?')\r\n",
        "    location = input('상품관리1-삽입) 삽입하고자 하는 위치는?')\r\n",
        "    # location = int(location) --> stock.insert(location, product)와 같음\r\n",
        "    stock.insert(int(location),product)  \r\n",
        "    print(product, '삽입 완료')\r\n",
        "    print(stock)\r\n",
        "\r\n",
        "  elif select == 2:\r\n",
        "    product = input('상품관리2-삭제) 삭제하고자 하는 상품은?')\r\n",
        "    # 재고가없는 상품을 입력했을시, 오류를 방지하기위해서..\r\n",
        "    if (product in stock) == True : \r\n",
        "      stock.remove(product)\r\n",
        "      print(product, '삭제완료')  \r\n",
        "    else :\r\n",
        "      print('검색하는 상품을 찾지 못하였습니다.')\r\n",
        "    print(stock)\r\n",
        "\r\n",
        "  elif select == 3:\r\n",
        "    product = input('상품관리3-상품확인) 확인하고자 하는 상품은?')\r\n",
        "    if (product in stock) == True :\r\n",
        "      print(product, '검색 완료')\r\n",
        "    else :\r\n",
        "      print('검색하는 상품을 찾지 못하였습니다.')\r\n",
        "      \r\n",
        "  else :  \r\n",
        "    print('프로그램을 종료합니다.')\r\n",
        "    break\r\n",
        "\r\n",
        "  print()"
      ],
      "execution_count": null,
      "outputs": [
        {
          "output_type": "stream",
          "text": [
            "상품재고관리 프로그램\n",
            "\n",
            "['커피', '우유', '바나나', '감귤', '화장지', '장갑', '이불', '베개', '장난감', '음료수', '빵']\n",
            "상품관리(1. 삽입, 2. 삭제, 3. 상품확인, 4. 종료): 1\n",
            "상품관리1-삽입) 삽입하고자 하는 상품은?조명\n",
            "상품관리1-삽입) 삽입하고자 하는 위치는?0\n",
            "조명 삽입 완료\n",
            "['조명', '커피', '우유', '바나나', '감귤', '화장지', '장갑', '이불', '베개', '장난감', '음료수', '빵']\n",
            "\n",
            "상품관리(1. 삽입, 2. 삭제, 3. 상품확인, 4. 종료): 2\n",
            "상품관리2-삭제) 삭제하고자 하는 상품은?핸드폰\n",
            "검색하는 상품을 찾지 못하였습니다.\n",
            "['조명', '커피', '우유', '바나나', '감귤', '화장지', '장갑', '이불', '베개', '장난감', '음료수', '빵']\n",
            "\n",
            "상품관리(1. 삽입, 2. 삭제, 3. 상품확인, 4. 종료): 2\n",
            "상품관리2-삭제) 삭제하고자 하는 상품은?음료수\n",
            "음료수 삭제완료\n",
            "['조명', '커피', '우유', '바나나', '감귤', '화장지', '장갑', '이불', '베개', '장난감', '빵']\n",
            "\n",
            "상품관리(1. 삽입, 2. 삭제, 3. 상품확인, 4. 종료): 3\n",
            "상품관리3-상품확인) 확인하고자 하는 상품은?핸드폰\n",
            "검색하는 상품을 찾지 못하였습니다.\n",
            "\n",
            "상품관리(1. 삽입, 2. 삭제, 3. 상품확인, 4. 종료): 4\n",
            "프로그램을 종료합니다.\n"
          ],
          "name": "stdout"
        }
      ]
    },
    {
      "cell_type": "markdown",
      "metadata": {
        "id": "Tdk0XVvlWqFW"
      },
      "source": [
        "## 실습 2 : 동이름만 출력하기"
      ]
    },
    {
      "cell_type": "code",
      "metadata": {
        "colab": {
          "base_uri": "https://localhost:8080/"
        },
        "id": "PD6g3MGHPCP1",
        "outputId": "e3cb370d-d361-48f8-ec6e-209ecc1b22d7"
      },
      "source": [
        "input_area = input('In : ')\r\n",
        "area = input_area.split()\r\n",
        "\r\n",
        "print('======')\r\n",
        "print('동이름')\r\n",
        "print('======')\r\n",
        "\r\n",
        "index = 0\r\n",
        "while index < len(area) :\r\n",
        "  word = area[index]\r\n",
        "  \r\n",
        "  if word[-1] == '동' :\r\n",
        "    print(word)\r\n",
        "\r\n",
        "  index = index + 1"
      ],
      "execution_count": null,
      "outputs": [
        {
          "output_type": "stream",
          "text": [
            "In : 홍제동 은평구 갈현동 서울특별시 구산동\n",
            "======\n",
            "동이름\n",
            "======\n",
            "홍제동\n",
            "갈현동\n",
            "구산동\n"
          ],
          "name": "stdout"
        }
      ]
    },
    {
      "cell_type": "markdown",
      "metadata": {
        "id": "1kyuIcYaWqjp"
      },
      "source": [
        "## 실습 3 : 문장 내 단어 출력하기"
      ]
    },
    {
      "cell_type": "code",
      "metadata": {
        "colab": {
          "base_uri": "https://localhost:8080/"
        },
        "id": "HwVPeGYBWqxv",
        "outputId": "49eddd64-b39b-4882-f571-d50a7bd472a3"
      },
      "source": [
        "input_sentence = input('input : ')\r\n",
        "words = input_sentence.split()\r\n",
        "\r\n",
        "# 빈 list 생성\r\n",
        "final = []\r\n",
        "\r\n",
        "index = 0\r\n",
        "\r\n",
        "while index < len(words) :\r\n",
        "\r\n",
        "  if (words[index]) == 'a' or (words[index] == 'A') :\r\n",
        "    pass # 아무 작업도 수행하지 않고 건너뛰기\r\n",
        "  elif (words[index]) == 'an' or (words[index] == 'An') :  \r\n",
        "    pass\r\n",
        "  elif (words[index]) == 'the' or (words[index] == 'The') :\r\n",
        "    pass\r\n",
        "  else :\r\n",
        "    final.append(words[index])\r\n",
        "\r\n",
        "  index = index + 1  \r\n",
        "\r\n",
        "#마지막 결과 출력하는 print() 위치 주의하기! \r\n",
        "print(final)"
      ],
      "execution_count": 3,
      "outputs": [
        {
          "output_type": "stream",
          "text": [
            "input : A gift in season is a double favor to the needy.\n",
            "['gift', 'in', 'season', 'is', 'double', 'favor', 'to', 'needy.']\n"
          ],
          "name": "stdout"
        }
      ]
    },
    {
      "cell_type": "markdown",
      "metadata": {
        "id": "md7zd4yaXFLC"
      },
      "source": [
        "## 실습 4 : 오늘의 명언"
      ]
    },
    {
      "cell_type": "code",
      "metadata": {
        "colab": {
          "base_uri": "https://localhost:8080/"
        },
        "id": "-n6MrLkyypHu",
        "outputId": "3521552d-bc49-4139-c8f8-3463e8c731c5"
      },
      "source": [
        "import random\r\n",
        "\r\n",
        "proverb = []\r\n",
        "\r\n",
        "proverb.append('꿈을 지녀라. 그러면 어려운 현실을 이길 수 있다.')\r\n",
        "proverb.append('고생없이 얻을 수 있는 진실로 귀중한 것은 하나도 없다.')\r\n",
        "proverb.append('사람은 사랑할 때 누구나 시인이 된다.')\r\n",
        "proverb.append('시작이 반이다.')\r\n",
        "proverb.append('나는 사랑으로 내가 이해하는 모든 것들을 이해한다.')\r\n",
        "\r\n",
        "print('============')\r\n",
        "print('오늘의 명언')\r\n",
        "print('============')\r\n",
        "  \r\n",
        "rand_index = random.randint(0, len(proverb) - 1)\r\n",
        "\r\n",
        "print(proverb[rand_index])"
      ],
      "execution_count": 5,
      "outputs": [
        {
          "output_type": "stream",
          "text": [
            "============\n",
            "오늘의 명언\n",
            "============\n",
            "시작이 반이다.\n"
          ],
          "name": "stdout"
        }
      ]
    }
  ]
}