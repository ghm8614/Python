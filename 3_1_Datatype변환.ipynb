{
  "nbformat": 4,
  "nbformat_minor": 0,
  "metadata": {
    "colab": {
      "name": "3-1  Datatype변환.ipynb",
      "provenance": [],
      "collapsed_sections": [],
      "toc_visible": true,
      "authorship_tag": "ABX9TyNJuPT2+BCg0Oe1PIHucCuu",
      "include_colab_link": true
    },
    "kernelspec": {
      "name": "python3",
      "display_name": "Python 3"
    }
  },
  "cells": [
    {
      "cell_type": "markdown",
      "metadata": {
        "id": "view-in-github",
        "colab_type": "text"
      },
      "source": [
        "<a href=\"https://colab.research.google.com/github/ghm8614/Python/blob/main/3_1_Datatype%EB%B3%80%ED%99%98.ipynb\" target=\"_parent\"><img src=\"https://colab.research.google.com/assets/colab-badge.svg\" alt=\"Open In Colab\"/></a>"
      ]
    },
    {
      "cell_type": "markdown",
      "metadata": {
        "id": "WHZQh5nJran4"
      },
      "source": [
        "# 3-1 Datatype변환"
      ]
    },
    {
      "cell_type": "markdown",
      "metadata": {
        "id": "r6eMUy_2nDqe"
      },
      "source": [
        "## Guess the number game"
      ]
    },
    {
      "cell_type": "code",
      "metadata": {
        "colab": {
          "base_uri": "https://localhost:8080/"
        },
        "id": "IjtZICgEvWzl",
        "outputId": "11289ac2-1b28-4777-bf02-7f153550a2df"
      },
      "source": [
        "import random\r\n",
        "print('Hello! What is your name?')\r\n",
        "myName = input()\r\n",
        "\r\n",
        "number = random.randint(1,20)\r\n",
        "print('Well,' + myName + ', I am thinking of a number between 1 and 20')\r\n",
        "print('Take a guess.')\r\n",
        "guess = input()\r\n",
        "guess = int(guess)  # int로 타입변환\r\n",
        "\r\n",
        "if guess != number:\r\n",
        "  print('Your guess is wrong.')\r\n",
        "if guess == number:\r\n",
        "  print('Good job, ' + myName + '! You guessed my number!')    "
      ],
      "execution_count": null,
      "outputs": [
        {
          "output_type": "stream",
          "text": [
            "Hello! What is your name?\n",
            "천수병\n",
            "Well,천수병, I am thinking of a number between 1 and 20\n",
            "Take a guess.\n",
            "20\n",
            "Your guess is wrong.\n"
          ],
          "name": "stdout"
        }
      ]
    },
    {
      "cell_type": "markdown",
      "metadata": {
        "id": "7IaiasZarp1n"
      },
      "source": [
        "\r\n",
        "##   실습 1 : 온도 변환 프로그램\r\n",
        "\r\n",
        "\r\n",
        "\r\n"
      ]
    },
    {
      "cell_type": "code",
      "metadata": {
        "id": "CrwaaW8prsuf",
        "colab": {
          "base_uri": "https://localhost:8080/"
        },
        "outputId": "c0ff7e6e-001b-4a68-d3d2-aa5c141af97a"
      },
      "source": [
        "print('학과: 중어중문학과, 학번: 2020-90328, 이름: 천수병')\r\n",
        "print()\r\n",
        "print('온도 변환 프로그램')\r\n",
        "\r\n",
        "f = input('화씨 온도를 입력하세요:')\r\n",
        "f = int(f)\r\n",
        "c = (5.0 / 9.0) * (f - 32.0)\r\n",
        "print('섭씨 온도는', c, '입니다.')  # comma로 나열할 경우, int형인 변수 c와 f를 그래로 사용하면 됨 \r\n",
        "print()\r\n",
        "\r\n",
        "c = input('섭씨 온도를 입력하세요:')\r\n",
        "c = int(c)\r\n",
        "f = (9.0 / 5.0) * c + 32.0\r\n",
        "print('화씨 온도는', f, '입니다.')  # str(c),str(f)로 형변환하지 않아도 됨"
      ],
      "execution_count": 1,
      "outputs": [
        {
          "output_type": "stream",
          "text": [
            "학과: 중어중문학과, 학번: 2020-90328, 이름: 천수병\n",
            "\n",
            "온도 변환 프로그램\n",
            "화씨 온도를 입력하세요:50\n",
            "섭씨 온도는 10.0 입니다.\n",
            "\n",
            "섭씨 온도를 입력하세요:50\n",
            "화씨 온도는 122.0 입니다.\n"
          ],
          "name": "stdout"
        }
      ]
    },
    {
      "cell_type": "markdown",
      "metadata": {
        "id": "S1ehSyNzubHZ"
      },
      "source": [
        "\r\n",
        "\r\n",
        "##   실습 2 : 환율 계산기"
      ]
    },
    {
      "cell_type": "code",
      "metadata": {
        "colab": {
          "base_uri": "https://localhost:8080/"
        },
        "id": "LaiF8Jj_6XIm",
        "outputId": "673c82b6-86ce-43a6-9d29-5b7b78af6d5e"
      },
      "source": [
        "print('환율계산 프로그램')\r\n",
        "print()\r\n",
        "money = input('금액을 입력하세요: ')  # input함수 입력 값은 항상 string타입\r\n",
        "money = int(money)  # 연산을 위해 string -> int 형변환\r\n",
        "\r\n",
        "won = 0.00084 * money   \r\n",
        "yuan = 0.15 * money\r\n",
        "yen = 0.0094 * money\r\n",
        "peso = 0.021 * money\r\n",
        "\r\n",
        "money = str(money)\r\n",
        "won = str(won)\r\n",
        "yuan = str(yuan)\r\n",
        "yen = str(yen)\r\n",
        "peso = str(peso)\r\n",
        "\r\n",
        "print('대한민국 ' + money + '원은 ' + won + '달러입니다.')\r\n",
        "print('중국 ' + money + '위안은 ' + yuan + '달러입니다.')\r\n",
        "print('일본 ' + money + '엔은 ' + yen + '달러입니다.')\r\n",
        "print('필리핀 ' + money + '페소은 ' + peso + '달러입니다.')"
      ],
      "execution_count": null,
      "outputs": [
        {
          "output_type": "stream",
          "text": [
            "환율계산 프로그램\n",
            "\n",
            "금액을 입력하세요: 5000\n",
            "대한민국 5000원은 4.2달러입니다.\n",
            "중국 5000위안은 750.0달러입니다.\n",
            "일본 5000엔은 47.0달러입니다.\n",
            "필리핀 5000페소은 105.0달러입니다.\n"
          ],
          "name": "stdout"
        }
      ]
    },
    {
      "cell_type": "markdown",
      "metadata": {
        "id": "DWdS0wvZub0Z"
      },
      "source": [
        "## 실습 3 : 부가세 계산 프로그램"
      ]
    },
    {
      "cell_type": "code",
      "metadata": {
        "colab": {
          "base_uri": "https://localhost:8080/"
        },
        "id": "qT34zZXdESQp",
        "outputId": "520f0ee7-fe06-46f1-e7f9-55c0bdbc6c31"
      },
      "source": [
        "# round(실수,n) : 소수점 n째 자리까지 포현되도록 반올림\r\n",
        "# 정수로 출력하고 싶으면 n 생략가능\r\n",
        "print('부가세 계산 프로그램')\r\n",
        "print()\r\n",
        "sum = input('합계금액을 입력하세요: ')\r\n",
        "sum = int(sum)\r\n",
        "\r\n",
        "tax = sum * (10 / 110)\r\n",
        "tax = round(tax)  # round 대신에 int를 사용하면 값이 다름.\r\n",
        "supply = sum - tax\r\n",
        "\r\n",
        "supply = str(supply)\r\n",
        "tax = str(tax)\r\n",
        "print('공급가액 ' + supply + '원')\r\n",
        "print('세액 ' + tax + '원입니다.')"
      ],
      "execution_count": null,
      "outputs": [
        {
          "output_type": "stream",
          "text": [
            "부가세 계산 프로그램\n",
            "\n",
            "합계금액을 입력하세요: 100000\n",
            "공급가액 90909원\n",
            "세액 9091원입니다.\n"
          ],
          "name": "stdout"
        }
      ]
    },
    {
      "cell_type": "markdown",
      "metadata": {
        "id": "rz4mjt_hucKB"
      },
      "source": [
        "## 실습 4 : 칼로리 계산 프로그램"
      ]
    },
    {
      "cell_type": "code",
      "metadata": {
        "colab": {
          "base_uri": "https://localhost:8080/"
        },
        "id": "eAH7CJjFGamC",
        "outputId": "e5e84de9-380e-4217-ea5d-eac068bd15b2"
      },
      "source": [
        "print('칼로리 계산 프로그램')\r\n",
        "print()\r\n",
        "weight = input('몸무게(kg):')\r\n",
        "time = input('운동시간(분):')\r\n",
        "\r\n",
        "weight = int(weight)\r\n",
        "time = int(time)\r\n",
        "print()\r\n",
        "\r\n",
        "walk_kcal = ((4 * 3.5 * weight) / 200) * time\r\n",
        "jog_kcal = ((7 * 3.5 * weight) / 200) * time\r\n",
        "stair_kcal = ((5 * 3.5 * weight) / 200) * time\r\n",
        "swim_kcal = ((9 * 3.5 * weight) / 200) * time\r\n",
        "\r\n",
        "time = str(time)\r\n",
        "print('걷기운동 ' + time + '분은 '+ str(walk_kcal) +'kcal가 소모됩니다.')\r\n",
        "print('조깅운동 ' + time + '분은 ' + str(jog_kcal) +'kcal가 소모됩니다.')\r\n",
        "print('계단오르기운동 ' + time + '분은 ' + str(stair_kcal) +'kcal가 소모됩니다.')\r\n",
        "print('수영운동 ' + time + '분은 ' + str(swim_kcal) +'kcal가 소모됩니다.')"
      ],
      "execution_count": null,
      "outputs": [
        {
          "output_type": "stream",
          "text": [
            "칼로리 계산 프로그램\n",
            "\n",
            "몸무게(kg):60\n",
            "운동시간(분):10\n",
            "\n",
            "걷기운동 10분은 42.0kcal가 소모됩니다.\n",
            "조깅운동 10분은 73.5kcal가 소모됩니다.\n",
            "계단오르기운동 10분은 52.5kcal가 소모됩니다.\n",
            "수영운동 10분은 94.5kcal가 소모됩니다.\n"
          ],
          "name": "stdout"
        }
      ]
    }
  ]
}