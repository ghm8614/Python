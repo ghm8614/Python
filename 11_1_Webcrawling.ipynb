{
  "nbformat": 4,
  "nbformat_minor": 0,
  "metadata": {
    "colab": {
      "name": "11-1 Webcrawling.ipynb",
      "provenance": [],
      "collapsed_sections": [],
      "toc_visible": true,
      "authorship_tag": "ABX9TyOzUznJ6rcf0PIERFGbDIBe",
      "include_colab_link": true
    },
    "kernelspec": {
      "name": "python3",
      "display_name": "Python 3"
    }
  },
  "cells": [
    {
      "cell_type": "markdown",
      "metadata": {
        "id": "view-in-github",
        "colab_type": "text"
      },
      "source": [
        "<a href=\"https://colab.research.google.com/github/ghm8614/Python/blob/main/11_1_Webcrawling.ipynb\" target=\"_parent\"><img src=\"https://colab.research.google.com/assets/colab-badge.svg\" alt=\"Open In Colab\"/></a>"
      ]
    },
    {
      "cell_type": "markdown",
      "metadata": {
        "id": "ID5ptMVLYNkt"
      },
      "source": [
        "# 11-1 Webcrawling"
      ]
    },
    {
      "cell_type": "markdown",
      "metadata": {
        "id": "RiqKDpZu5XxI"
      },
      "source": [
        "## 강의내용 정리"
      ]
    },
    {
      "cell_type": "code",
      "metadata": {
        "id": "MVCxfp0nrTJW"
      },
      "source": [
        "# urllib.request 모듈로 원하는 웹페이지 크롤링하기\r\n",
        "from urllib.request import urlopen\r\n",
        "\r\n",
        "f = urlopen('http://etl.snu.ac.kr/mod/ubboard/view.php?id=1345321')\r\n",
        "\r\n",
        "f.read()"
      ],
      "execution_count": null,
      "outputs": []
    },
    {
      "cell_type": "code",
      "metadata": {
        "colab": {
          "base_uri": "https://localhost:8080/",
          "height": 35
        },
        "id": "rQ_shN6or3Xt",
        "outputId": "a1f6cbab-fd18-4b53-fd33-676517a596b4"
      },
      "source": [
        "# HTTP 헤더의 값에서 인코딩 방식 알아내기\r\n",
        "f.getheader('Content-Type')"
      ],
      "execution_count": null,
      "outputs": [
        {
          "output_type": "execute_result",
          "data": {
            "application/vnd.google.colaboratory.intrinsic+json": {
              "type": "string"
            },
            "text/plain": [
              "'text/html; charset=utf-8'"
            ]
          },
          "metadata": {
            "tags": []
          },
          "execution_count": 100
        }
      ]
    },
    {
      "cell_type": "code",
      "metadata": {
        "colab": {
          "base_uri": "https://localhost:8080/"
        },
        "id": "ugv-x8Fwr4Dj",
        "outputId": "2b678040-6f4d-4206-de10-be83809c4484"
      },
      "source": [
        "# UTF-8 만 추출\r\n",
        "encoding = f.info().get_content_charset(failobj='utf-8')\r\n",
        "print(encoding)"
      ],
      "execution_count": null,
      "outputs": [
        {
          "output_type": "stream",
          "text": [
            "utf-8\n",
            "\n"
          ],
          "name": "stdout"
        }
      ]
    },
    {
      "cell_type": "code",
      "metadata": {
        "id": "Lo7hMe8lr4If"
      },
      "source": [
        "# 인코딩 방식으로 디코딩을 함 (utf-8로 디코딩)\r\n",
        "text = f.read().decode(encoding)\r\n",
        "print(text)"
      ],
      "execution_count": null,
      "outputs": []
    },
    {
      "cell_type": "markdown",
      "metadata": {
        "id": "V2HmTxBVx8eh"
      },
      "source": [
        "## 1) rullib.request 모듈 "
      ]
    },
    {
      "cell_type": "code",
      "metadata": {
        "id": "ppf9Hfqpr4NN"
      },
      "source": [
        "from urllib.request import urlopen\r\n",
        "homepage = input('URL 입력 : ')\r\n",
        "f = urlopen(homepage)\r\n",
        "\r\n",
        "f.getheader('Content-Type')\r\n",
        "\r\n",
        "encoding = f.info().get_content_charset(failobj='utf-8')\r\n",
        "print(encoding)\r\n",
        "\r\n",
        "text = f.read().decode(encoding)\r\n",
        "print(text)"
      ],
      "execution_count": null,
      "outputs": []
    },
    {
      "cell_type": "markdown",
      "metadata": {
        "id": "b0DwfbO7ZPG4"
      },
      "source": [
        "## 실습 1 : 영화 평점 출력하기"
      ]
    },
    {
      "cell_type": "code",
      "metadata": {
        "id": "EEYAMlwTZPT-"
      },
      "source": [
        "# 왜 for문을 이용해서 프린트를 해야하는가 , 그냥하면 안되나?\r\n",
        "# string과 get_text()를 어디에 사용해야 오류가 나지 않는가\r\n",
        "# 왜 .string은 안되고, .a.string은 되는가\r\n",
        "\r\n",
        "from urllib.request import urlopen\r\n",
        "from bs4 import BeautifulSoup\r\n",
        "\r\n",
        "url = 'https://movie.naver.com/movie/sdb/rank/rmovie.nhn?sel=cur&date=20210109'\r\n",
        "page = urlopen(url)\r\n",
        "\r\n",
        "soup = BeautifulSoup(page,'html.parser')\r\n",
        "#print(soup.prettify())\r\n",
        "\r\n",
        "soup_movie = soup.find_all('div', 'tit5') #soup_movie는 list임\r\n",
        "#print(soup_movie)\r\n",
        "#for each in soup_movie :\r\n",
        " # print(each.a.string) \r\n",
        " \r\n",
        "soup_score = soup.find_all('td', 'point') #soup_scored은 list임\r\n",
        "#print()\r\n",
        "print(soup_score)\r\n",
        "#for each in soup_score:\r\n",
        "#  print(each.get_text())\r\n",
        "\r\n",
        "for m,s in zip(soup_movie, soup_score):\r\n",
        "  print(m.a.string, s.string)"
      ],
      "execution_count": null,
      "outputs": []
    },
    {
      "cell_type": "markdown",
      "metadata": {
        "id": "bTqPs8GAZPhD"
      },
      "source": [
        "## 실습 2 : 원하는 날짜의 영화 평점 출력하기"
      ]
    },
    {
      "cell_type": "code",
      "metadata": {
        "id": "WzndiQ1EZPuY"
      },
      "source": [
        "# https://movie.naver.com/movie/sdb/rank/rmovie.nhn?sel=cur&date=20210101\r\n",
        "# https://movie.naver.com/movie/sdb/rank/rmovie.nhn?sel=cur&date=20210102\r\n",
        "# https://movie.naver.com/movie/sdb/rank/rmovie.nhn?sel=cur&date=20210103\r\n",
        "\r\n",
        "from urllib.request import urlopen\r\n",
        "from bs4 import BeautifulSoup\r\n",
        "\r\n",
        "input_date = input('날짜입력(yyyymmdd): ')\r\n",
        "url = 'https://movie.naver.com/movie/sdb/rank/rmovie.nhn?sel=cur&date=' + input_date\r\n",
        "page = urlopen(url)\r\n",
        "\r\n",
        "soup = BeautifulSoup(page,'html.parser')\r\n",
        "\r\n",
        "soup_movie = soup.find_all('div', 'tit5') \r\n",
        "soup_score = soup.find_all('td', 'point') \r\n",
        "\r\n",
        "for m,s in zip(soup_movie, soup_score):\r\n",
        "  print(m.a.string, s.string)"
      ],
      "execution_count": null,
      "outputs": []
    }
  ]
}