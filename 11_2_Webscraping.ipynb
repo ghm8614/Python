{
  "nbformat": 4,
  "nbformat_minor": 0,
  "metadata": {
    "colab": {
      "name": "11-2 Webscraping.ipynb",
      "provenance": [],
      "collapsed_sections": [],
      "toc_visible": true,
      "authorship_tag": "ABX9TyOaATHIgcHWM4O5/T9RasAF",
      "include_colab_link": true
    },
    "kernelspec": {
      "name": "python3",
      "display_name": "Python 3"
    }
  },
  "cells": [
    {
      "cell_type": "markdown",
      "metadata": {
        "id": "view-in-github",
        "colab_type": "text"
      },
      "source": [
        "<a href=\"https://colab.research.google.com/github/ghm8614/Python/blob/main/11_2_Webscraping.ipynb\" target=\"_parent\"><img src=\"https://colab.research.google.com/assets/colab-badge.svg\" alt=\"Open In Colab\"/></a>"
      ]
    },
    {
      "cell_type": "markdown",
      "metadata": {
        "id": "Q_gUcl0zrCUa"
      },
      "source": [
        " # 11-2 Webscraping"
      ]
    },
    {
      "cell_type": "markdown",
      "metadata": {
        "id": "Ku24iACbbdKq"
      },
      "source": [
        "## 1) BeautifulSoup"
      ]
    },
    {
      "cell_type": "markdown",
      "metadata": {
        "id": "9tRsTfM7gLjJ"
      },
      "source": [
        "## 강의내용 정리\r\n"
      ]
    },
    {
      "cell_type": "code",
      "metadata": {
        "id": "xT2iX6ezcLNB"
      },
      "source": [
        "# 웹 크롤링\r\n",
        "from urllib.request import urlopen\r\n",
        "\r\n",
        "url = 'https://finance.naver.com/marketindex/'\r\n",
        "page = urlopen(url)"
      ],
      "execution_count": null,
      "outputs": []
    },
    {
      "cell_type": "code",
      "metadata": {
        "id": "FEQeTg82cLP7"
      },
      "source": [
        "# 웹 스크레핑\r\n",
        "from bs4 import BeautifulSoup\r\n",
        "\r\n",
        "soup = BeautifulSoup(page, 'html.parser')\r\n",
        "print(soup.prettify())\r\n",
        "soup.find_all('span','value')\r\n",
        "# soup.find_all('span', class_='value')  과 동일함"
      ],
      "execution_count": null,
      "outputs": []
    },
    {
      "cell_type": "code",
      "metadata": {
        "id": "LrAQf7YEcLTk"
      },
      "source": [
        "# 첫번째 줄 출력\r\n",
        "soup.find_all('span','value')[0] \r\n",
        "# soup.find_all('span', class_='value')[0] 과 동일함"
      ],
      "execution_count": null,
      "outputs": []
    },
    {
      "cell_type": "code",
      "metadata": {
        "id": "HfRm_kttcLWY"
      },
      "source": [
        "# 첫번째 줄의 정수값만 출력(데이터만 출력)\r\n",
        "soup.find_all('span', 'value')[0].string\r\n",
        "# soup.find_all('span', class_='value')[0].string  과 동일함\r\n",
        "# soup.find_all('span', 'value')[0].get_text() 과 동일함"
      ],
      "execution_count": null,
      "outputs": []
    },
    {
      "cell_type": "code",
      "metadata": {
        "id": "Au8F0fWb3iGT"
      },
      "source": [
        "# 리스트의 모든 정수값을 차례대로 전부 출력\r\n",
        "a = soup.find_all('h3', 'h_lst')\r\n",
        "for each in a:\r\n",
        "  print(each.string)"
      ],
      "execution_count": null,
      "outputs": []
    },
    {
      "cell_type": "code",
      "metadata": {
        "colab": {
          "base_uri": "https://localhost:8080/"
        },
        "id": "90sjg_UpcLaD",
        "outputId": "24aa2d40-5db8-4937-9df5-ed9da42d458d"
      },
      "source": [
        "# 두개의 리스트를 어떻게해야 하나의 for문을 이용해서 출력할것인가 -> zip()함수 사용x\r\n",
        "soup_list = soup.find_all('span', class_='value')\r\n",
        "soup_nation = soup.find_all('h3', 'h_lst')\r\n",
        "i = 0\r\n",
        "for each in soup_list:\r\n",
        "  print(soup_nation[i].string, '-->',each.string)\r\n",
        "  i += 1"
      ],
      "execution_count": null,
      "outputs": [
        {
          "output_type": "stream",
          "text": [
            "미국 USD --> 1,099.30\n",
            "일본 JPY(100엔) --> 1,056.66\n",
            "유럽연합 EUR --> 1,336.03\n",
            "중국 CNY --> 170.04\n",
            "일본 엔/달러 --> 103.8600\n",
            "달러/유로 --> 1.2165\n",
            "달러/영국파운드 --> 1.3648\n",
            "달러인덱스 --> 90.3300\n",
            "WTI --> 52.91\n",
            "휘발유 --> 1441.64\n",
            "국제 금 --> 1853.6\n",
            "국내 금 --> 65108.05\n"
          ],
          "name": "stdout"
        }
      ]
    },
    {
      "cell_type": "code",
      "metadata": {
        "colab": {
          "base_uri": "https://localhost:8080/"
        },
        "id": "1UToak603r_d",
        "outputId": "280bc35d-0b3e-4e55-cf82-17a03b7e7071"
      },
      "source": [
        "# 위에 부분코드 전부 합치기\r\n",
        "# 두개의 리스트를 어떻게해야 하나의 for문을 이용해서 출력할것인가 -> zip()함수 사용x\r\n",
        "\r\n",
        "from urllib.request import urlopen\r\n",
        "from bs4 import BeautifulSoup\r\n",
        "\r\n",
        "url = 'https://finance.naver.com/marketindex/'\r\n",
        "page = urlopen(url)\r\n",
        "\r\n",
        "soup = BeautifulSoup(page, 'html.parser')\r\n",
        "#print(soup.prettify())\r\n",
        "\r\n",
        "soup_nation = soup.find_all('h3', 'h_lst')\r\n",
        "soup_value = soup.find_all('span', class_='value')\r\n",
        "\r\n",
        "i = 0\r\n",
        "for each in soup_value:\r\n",
        "  print(soup_nation[i].string, '-->',each.string)\r\n",
        "  i += 1"
      ],
      "execution_count": null,
      "outputs": [
        {
          "output_type": "stream",
          "text": [
            "미국 USD --> 1,098.50\n",
            "일본 JPY(100엔) --> 1,055.89\n",
            "유럽연합 EUR --> 1,334.51\n",
            "중국 CNY --> 169.89\n",
            "일본 엔/달러 --> 103.8600\n",
            "달러/유로 --> 1.2165\n",
            "달러/영국파운드 --> 1.3648\n",
            "달러인덱스 --> 90.3300\n",
            "WTI --> 52.91\n",
            "휘발유 --> 1441.64\n",
            "국제 금 --> 1853.6\n",
            "국내 금 --> 64882.24\n"
          ],
          "name": "stdout"
        }
      ]
    },
    {
      "cell_type": "markdown",
      "metadata": {
        "id": "q_wWkbNyZtae"
      },
      "source": [
        "### 실습 1 : 네이버 금융사이트에서 환율 정보 얻어오기\r\n"
      ]
    },
    {
      "cell_type": "code",
      "metadata": {
        "id": "xwP6O68TZtqa",
        "colab": {
          "base_uri": "https://localhost:8080/"
        },
        "outputId": "24224b78-ac5b-4c83-a95c-154ed7afeaa1"
      },
      "source": [
        "# 두개의 리스트를 어떻게해야 하나의 for문을 이용해서 출력할것인가 --> zip()함수 사용\r\n",
        "# 크롤링과 스크레이핑(BeautifulSoup)을 어떻게 협력하여 사용하는가 \r\n",
        "# soup객체를 왜, 언제, 어떻게 생성하는가\r\n",
        "# 길고복잡한 item을 가진 list에서 어떻게 문자만 출력할것인가, 적용할 식의 위치는 어딘가\r\n",
        "# 왜 n.a.string/v.a.string 이렇게 안써도 되는가\r\n",
        "\r\n",
        "from urllib.request import urlopen\r\n",
        "from bs4 import BeautifulSoup\r\n",
        "\r\n",
        "url = 'https://finance.naver.com/marketindex/'\r\n",
        "page = urlopen(url) # 여기까지가 crawling\r\n",
        "\r\n",
        "#BeautifulSoup()함수로 크롤링한 페이지를 html형식으로 추출해서 객체에 저장\r\n",
        "soup = BeautifulSoup(page,'html.parser') \r\n",
        "soup_nation = soup.find_all('h3','h_lst')\r\n",
        "#print(soup_nation)\r\n",
        "#for each in soup_nation:\r\n",
        "  #print(each.string)\r\n",
        "\r\n",
        "soup_value = soup.find_all('span','value')\r\n",
        "#print(soup_value)\r\n",
        "#for each in soup_value:\r\n",
        "  #print(each.string)\r\n",
        "\r\n",
        "for n,v in zip(soup_nation, soup_value):\r\n",
        "  print(n.string + ' -> ' + v.string)"
      ],
      "execution_count": null,
      "outputs": [
        {
          "output_type": "stream",
          "text": [
            "미국 USD -> 1,099.50\n",
            "일본 JPY(100엔) -> 1,060.63\n",
            "유럽연합 EUR -> 1,333.80\n",
            "중국 CNY -> 169.85\n",
            "일본 엔/달러 -> 104.0900\n",
            "달러/유로 -> 1.2115\n",
            "달러/영국파운드 -> 1.3647\n",
            "달러인덱스 -> 90.2100\n",
            "WTI -> 53.57\n",
            "휘발유 -> 1443.4\n",
            "국제 금 -> 1850.3\n",
            "국내 금 -> 65481.79\n"
          ],
          "name": "stdout"
        }
      ]
    },
    {
      "cell_type": "markdown",
      "metadata": {
        "id": "1IHSZavTZt2j"
      },
      "source": [
        "### 실습 2 : 네이버 금융사이트에서 환율 정보 얻어오기2 "
      ]
    },
    {
      "cell_type": "code",
      "metadata": {
        "id": "O_yJvUwvZuGZ"
      },
      "source": [
        "# 줄바꿈없이 출력하려면 어떤 함수를 이용해야하는가\r\n",
        "# list를 통째로 출력하는 것과 llst의 item을 모두 출력하는 것이 뭐가다른가\r\n",
        "\r\n",
        "from urllib.request import urlopen\r\n",
        "from bs4 import BeautifulSoup\r\n",
        "\r\n",
        "url = 'https://finance.naver.com/marketindex/exchangeList.nhn'\r\n",
        "page = urlopen(url)\r\n",
        "soup = BeautifulSoup(page,'html.parser')\r\n",
        "\r\n",
        "every_data = soup.find_all('td')\r\n",
        "\r\n",
        "i = 0\r\n",
        "num_data = len(every_data)\r\n",
        "\r\n",
        "while (i < num_data) :\r\n",
        "  if (i % 7 == 0) :\r\n",
        "    region = every_data[i].string\r\n",
        "    region = region.replace('\\n','')\r\n",
        "    region = region.replace('\\t','')\r\n",
        "    print(region, end = ' ')\r\n",
        "  else:\r\n",
        "    rate = every_data[i].string\r\n",
        "    print(rate,end=' ')\r\n",
        "  i = i + 1\r\n",
        "  if (i % 7 == 0) :\r\n",
        "    print()"
      ],
      "execution_count": null,
      "outputs": []
    }
  ]
}