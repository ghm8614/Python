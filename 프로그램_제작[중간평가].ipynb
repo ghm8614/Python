{
  "nbformat": 4,
  "nbformat_minor": 0,
  "metadata": {
    "colab": {
      "name": "프로그램 제작[중간평가].ipynb",
      "provenance": [],
      "collapsed_sections": [],
      "toc_visible": true,
      "include_colab_link": true
    },
    "kernelspec": {
      "name": "python3",
      "display_name": "Python 3"
    }
  },
  "cells": [
    {
      "cell_type": "markdown",
      "metadata": {
        "id": "view-in-github",
        "colab_type": "text"
      },
      "source": [
        "<a href=\"https://colab.research.google.com/github/ghm8614/Python/blob/main/%ED%94%84%EB%A1%9C%EA%B7%B8%EB%9E%A8_%EC%A0%9C%EC%9E%91%5B%EC%A4%91%EA%B0%84%ED%8F%89%EA%B0%80%5D.ipynb\" target=\"_parent\"><img src=\"https://colab.research.google.com/assets/colab-badge.svg\" alt=\"Open In Colab\"/></a>"
      ]
    },
    {
      "cell_type": "markdown",
      "metadata": {
        "id": "NregZG-6tglV"
      },
      "source": [
        "# 프로그램 제작"
      ]
    },
    {
      "cell_type": "markdown",
      "metadata": {
        "id": "GjFpBvWHtkDJ"
      },
      "source": [
        "## 기억력과의 싸움 \r\n",
        "\r\n",
        "> (2020-90328, 천수병)\r\n",
        "\r\n"
      ]
    },
    {
      "cell_type": "code",
      "metadata": {
        "id": "UoX1WfUytk7B",
        "colab": {
          "base_uri": "https://localhost:8080/"
        },
        "outputId": "5b417177-9372-465f-bc3b-f3eba3db6634"
      },
      "source": [
        "import random\r\n",
        "import time\r\n",
        "\r\n",
        "def easy(a):\r\n",
        "  count = 1 \r\n",
        "  exam_range = a\r\n",
        "  while count <= 10:\r\n",
        "    memory = random.randint(1,20)\r\n",
        "    exam_range -= memory\r\n",
        "    count = count + 1\r\n",
        "  return exam_range\r\n",
        "\r\n",
        "def hard(a):\r\n",
        "  count = 1 \r\n",
        "  exam_range = a\r\n",
        "  while count <= 10:\r\n",
        "    memory = random.randint(1,30)\r\n",
        "    exam_range -= memory\r\n",
        "    count = count + 1\r\n",
        "  return exam_range\r\n",
        "\r\n",
        "def result(a): \r\n",
        "  if a <= 0:\r\n",
        "    print('축하합니다. A+입니다!')\r\n",
        "  else :\r\n",
        "    print('죄송합니다. F입니다...')\r\n",
        "\r\n",
        "def chance():\r\n",
        "  print('EVENT 교슈님의 자비')\r\n",
        "  time.sleep(1)\r\n",
        "  print('교수님께서 당신에게 운 좋은 A+ 를 획득할 기회를 주셨습니다.')\r\n",
        "  time.sleep(1)\r\n",
        "  print('0~9사이의 숫자 중 하나를 골라주세요.')\r\n",
        "  time.sleep(1)\r\n",
        "  print('당신이 고른 숫자가 행운의 숫자라면, 앞의 공부 결과와 별개로 A+을 획득 할 수 있습니다.')    \r\n",
        "  time.sleep(1)\r\n",
        "\r\n",
        "luck = ['유감'] * 9  # string 연산 방법과 동일\r\n",
        "luck.append('운수대통') # append 메소드로 아이템 추가 --> 맨 끝에 추가됨\r\n",
        "\r\n",
        "print('기억력과의 싸움')  \r\n",
        "print()\r\n",
        "time.sleep(1)\r\n",
        "print('시험기간, 당신은 기억력과의 싸움을 해야 합니다.')\r\n",
        "time.sleep(1)\r\n",
        "print('이 싸움에서의 승패가 당신의 시험 성적을 결정합니다.')\r\n",
        "time.sleep(1)\r\n",
        "print('본 게임에 나서기 전 난이도를 선택해주세요.')\r\n",
        "time.sleep(1)\r\n",
        "\r\n",
        "while True:\r\n",
        "  select = input('어떤 모드를 원하시나요? EASY=1, HARD=2 ')\r\n",
        "  if select == '1':\r\n",
        "    print('기억력과의 싸움, Easy를 선택하셨습니다.')\r\n",
        "    time.sleep(1)\r\n",
        "    print('시험이 10일 남았습니다.')\r\n",
        "    time.sleep(1)\r\n",
        "    print('당신이 외워야 할 시험 범위는 교재 100쪽,')\r\n",
        "    time.sleep(1)\r\n",
        "    print('당신의 기억력은 교재 1~20쪽 사이를 암기 가능한 수준으로 매일 다르게 작동합니다.')\r\n",
        "    time.sleep(1)\r\n",
        "    \r\n",
        "    chance() # Event 문구 호출 \r\n",
        "    input_num = int(input('0~9 사이의 숫자 중 하나를 입력하세요: '))\r\n",
        "    if luck[input_num] == '운수대통':\r\n",
        "      print('Lucky ! A+ 입니다!')\r\n",
        "    else :\r\n",
        "      result(easy(100)) # 운수대통이 아닐 시, 기존의 방식대로 성적산출\r\n",
        "    break\r\n",
        "    \r\n",
        "  elif select == '2':\r\n",
        "    print('기억력과의 싸움, Hard를 선택하셨습니다.')\r\n",
        "    time.sleep(1)\r\n",
        "    print('시험이 10시간 남았습니다.')\r\n",
        "    time.sleep(1)\r\n",
        "    print('당신이 외워야 할 시험 범위는 교재 200쪽,')\r\n",
        "    time.sleep(1)\r\n",
        "    print('당신의 기억력은 교재 1~30쪽 사이를 암기 가능한 수준으로 매일 다르게 작동합니다.')\r\n",
        "    time.sleep(1)\r\n",
        "    \r\n",
        "    chance()\r\n",
        "    input_num = int(input('0~9 사이의 숫자 중 하나를 입력하세요: '))\r\n",
        "    if luck[input_num] == '운수대통':\r\n",
        "      print('Lucky ! A+ 입니다!')\r\n",
        "    else:\r\n",
        "      result(hard(200)) \r\n",
        "    break \r\n",
        "\r\n",
        "time.sleep(1)\r\n",
        "print('모든 기회가 대개 그렇듯, 재시험은 없습니다. 수고하셨습니다.')"
      ],
      "execution_count": null,
      "outputs": [
        {
          "output_type": "stream",
          "text": [
            "기억력과의 싸움\n",
            "\n",
            "시험기간, 당신은 기억력과의 싸움을 해야 합니다.\n",
            "이 싸움에서의 승패가 당신의 시험 성적을 결정합니다.\n",
            "본 게임에 나서기 전 난이도를 선택해주세요.\n",
            "어떤 모드를 원하시나요? EASY=1, HARD=2 2\n",
            "기억력과의 싸움, Hard를 선택하셨습니다.\n",
            "시험이 10시간 남았습니다.\n",
            "당신이 외워야 할 시험 범위는 교재 200쪽,\n",
            "당신의 기억력은 교재 1~30쪽 사이를 암기 가능한 수준으로 매일 다르게 작동합니다.\n",
            "EVENT 교슈님의 자비\n",
            "교수님께서 당신에게 운 좋은 A+ 를 획득할 기회를 주셨습니다.\n",
            "0~9사이의 숫자 중 하나를 골라주세요.\n",
            "당신이 고른 숫자가 행운의 숫자라면, 앞의 공부 결과와 별개로 A+을 획득 할 수 있습니다.\n",
            "0~9 사이의 숫자 중 하나를 입력하세요: 9\n",
            "Lucky ! A+ 입니다!\n",
            "모든 기회가 대개 그렇듯, 재시험은 없습니다. 수고하셨습니다.\n"
          ],
          "name": "stdout"
        }
      ]
    },
    {
      "cell_type": "markdown",
      "metadata": {
        "id": "OSCWIc7PvZSi"
      },
      "source": [
        "### Intro (요구 1)\r\n",
        "\r\n",
        "\r\n",
        "> Intro 메시지는 중복되지 않고 한 번만 출력되므로 함수로 정의하지 않았습니다. 1초의 간격을 두고  메시지가 출력되어야 하므로, 코드 맨 상단에 import time을 작성하고 sleep 함수를 구현했습니다.\r\n",
        "\r\n",
        "\r\n",
        "  "
      ]
    },
    {
      "cell_type": "code",
      "metadata": {
        "id": "h0EQVEBCvcdZ"
      },
      "source": [
        "import time\r\n",
        "\r\n",
        "print('기억력과의 싸움')  \r\n",
        "print()\r\n",
        "time.sleep(1)\r\n",
        "print('시험기간, 당신은 기억력과의 싸움을 해야 합니다.')\r\n",
        "time.sleep(1)\r\n",
        "print('이 싸움에서의 승패가 당신의 시험 성적을 결정합니다.')\r\n",
        "time.sleep(1)\r\n",
        "print('본 게임에 나서기 전 난이도를 선택해주세요.')\r\n",
        "time.sleep(1)"
      ],
      "execution_count": null,
      "outputs": []
    },
    {
      "cell_type": "markdown",
      "metadata": {
        "id": "kqrtP_eEvZ_K"
      },
      "source": [
        "### Mode 선택 (요구 2,3,7)\r\n",
        "\r\n",
        "\r\n",
        "> 1과 2를 제외한 다른 키를 입력했을 시, 메시지가 계속 반복되어야 하므로 while 반복문을 사용했으며, 입력값을 숫자 1,2 가 아닌 문자 1,2로 구현했기 때문에, input을 int로 형변환하지 않았습니다.\r\n"
      ]
    },
    {
      "cell_type": "code",
      "metadata": {
        "id": "7XeKyrddvacI"
      },
      "source": [
        "while True:\r\n",
        "  select = input('어떤 모드를 원하시나요? EASY=1, HARD=2 ')\r\n",
        "  if select == '1':\r\n",
        "    print('기억력과의 싸움, Easy를 선택하셨습니다.')\r\n",
        "    time.sleep(1)\r\n",
        "    print('시험이 10일 남았습니다.')\r\n",
        "    time.sleep(1)\r\n",
        "    print('당신이 외워야 할 시험 범위는 교재 100쪽,')\r\n",
        "    time.sleep(1)\r\n",
        "    print('당신의 기억력은 교재 1~20쪽 사이를 암기 가능한 수준으로 매일 다르게 작동합니다.')\r\n",
        "    time.sleep(1)\r\n",
        "    break\r\n",
        "    \r\n",
        "  elif select == '2':\r\n",
        "    print('기억력과의 싸움, Hard를 선택하셨습니다.')\r\n",
        "    time.sleep(1)\r\n",
        "    print('시험이 10시간 남았습니다.')\r\n",
        "    time.sleep(1)\r\n",
        "    print('당신이 외워야 할 시험 범위는 교재 200쪽,')\r\n",
        "    time.sleep(1)\r\n",
        "    print('당신의 기억력은 교재 1~30쪽 사이를 암기 가능한 수준으로 매일 다르게 작동합니다.')\r\n",
        "    time.sleep(1)\r\n",
        "    break \r\n"
      ],
      "execution_count": null,
      "outputs": []
    },
    {
      "cell_type": "markdown",
      "metadata": {
        "id": "s4uAKhTfvdE7"
      },
      "source": [
        "### Easy / Hard (요구 4,5,6,8,9,10)\r\n",
        "\r\n",
        "\r\n",
        "> 초기 시험 범위를 매개변수로 갖는 easy 함수와 hard 함수를 정의하였고, 무작위 수의 값이 계속 달라져야 하므로 while 반복문 안에 random.randint()를 두었습니다. 학점 결과 출력문이 Easy 모드와 Hard 모드에 모두 사용되므로, 코드의 간결성을 위해 result 함수로 정의하였고, 함수를 호출하여 리턴값을 0과 비교하는 if 조건문을 통해 학점 결과를 출력했습니다. \r\n"
      ]
    },
    {
      "cell_type": "code",
      "metadata": {
        "id": "M6l16uzqvdiP"
      },
      "source": [
        "import random \r\n",
        "\r\n",
        "def easy(a): # Easy모드 선택 시,\r\n",
        "  count = 1 \r\n",
        "  exam_range = a\r\n",
        "  while count <= 10:\r\n",
        "    memory = random.randint(1,20)\r\n",
        "    exam_range -= memory\r\n",
        "    count = count + 1\r\n",
        "  return exam_range\r\n",
        "\r\n",
        "def hard(a): # Hard모드 선택 시,\r\n",
        "  count = 1 \r\n",
        "  exam_range = a\r\n",
        "  while count <= 10:\r\n",
        "    memory = random.randint(1,30)\r\n",
        "    exam_range -= memory\r\n",
        "    count = count + 1\r\n",
        "  return exam_range\r\n",
        "\r\n",
        "def result(a):\r\n",
        "  if a <= 0:\r\n",
        "    print('축하합니다. A+입니다!')\r\n",
        "  else :\r\n",
        "    print('죄송합니다. F입니다...')\r\n",
        "\r\n",
        "result(easy(100)) #함수호출!\r\n",
        "result(hard(200)) #함수호출!"
      ],
      "execution_count": null,
      "outputs": []
    },
    {
      "cell_type": "markdown",
      "metadata": {
        "id": "qfD6bQsXveKi"
      },
      "source": [
        "### Event (요구 11,12,13,14)\r\n",
        "\r\n",
        "> 이벤트 문구를 chance 함수로 정의하였고, 리스트의 *연산과 아이템 추가 기능을 사용해서 luck 리스트를 생성했습니다. append 메소드로 아이템을 추가했기 때문에, '운수대통' 아이템은 맨 끝인 luck[9]에 위치하게 되고, if 조건문을 통해 출력값이 '운수대통'이면 A+, 그 외일 경우에는 기존의 방식대로 실행합니다.     \r\n",
        "\r\n"
      ]
    },
    {
      "cell_type": "code",
      "metadata": {
        "id": "yKD3JB7MveYS"
      },
      "source": [
        "def chance():\r\n",
        "  print('EVENT 교슈님의 자비')\r\n",
        "  time.sleep(1)\r\n",
        "  print('교수님께서 당신에게 운 좋은 A+ 를 획득할 기회를 주셨습니다.')\r\n",
        "  time.sleep(1)\r\n",
        "  print('0~9사이의 숫자 중 하나를 골라주세요.')\r\n",
        "  time.sleep(1)\r\n",
        "  print('당신이 고른 숫자가 행운의 숫자라면, 앞의 공부 결과와 별개로 A+을 획득 할 수 있습니다.')    \r\n",
        "  time.sleep(1)\r\n",
        "\r\n",
        "luck = ['유감'] * 9 \r\n",
        "luck.append('운수대통')\r\n",
        "\r\n",
        "chance()  # chance 함수호출\r\n",
        "\r\n",
        "input_num = int(input('0~9 사이의 숫자 중 하나를 입력하세요: '))\r\n",
        "if luck[input_num] == '운수대통':\r\n",
        "  print('Lucky ! A+ 입니다!')\r\n",
        "else :\r\n",
        "  result(easy(100))  \r\n",
        "    "
      ],
      "execution_count": null,
      "outputs": []
    },
    {
      "cell_type": "markdown",
      "metadata": {
        "id": "nRjvSkrX9SKS"
      },
      "source": [
        "### Outro (요구 15)\r\n",
        "\r\n",
        "\r\n"
      ]
    },
    {
      "cell_type": "code",
      "metadata": {
        "id": "uFEsqeX39SWw"
      },
      "source": [
        "print('모든 기회가 대개 그렇듯, 재시험은 없습니다. 수고하셨습니다.')"
      ],
      "execution_count": null,
      "outputs": []
    },
    {
      "cell_type": "markdown",
      "metadata": {
        "id": "IFMZjDZPvejs"
      },
      "source": [
        "## 소감\r\n",
        "\r\n",
        "\r\n",
        "프로그래밍은 '어떤 방식으로 코드를 짤 것인가'와 '그 코드를 어떻게 간결하게 구현할 것인가'에 대한 깊은 사고력이 바탕이 돼야 하며, 오픈소스를 통해 단순히 타인의 코드를 그대로 작성한다면, 나만의 코드가 되지 않고 사고력에 정체가 있을 수 있기 때문에, 스스로 코드를 계속 작성해보는 연습이 절대적으로 필요한 것 같습니다. 또, 다양한 예제를 통해 벌써 많은 프로그램을 만들었고, 눈에 보이는 결과물들을 코랩에 기록함으로써 정말 유익한 수업임을 다시 한번 느꼈습니다. 아직 코드를 작성할 때, 어떤 상황에서 어떤 함수와 메소드를 사용해야 간결하고 가독성이 좋은 코드가 되는지 바로 떠오르지는 않습니다. 이 문제는 하나의 코드에 여러 방식으로 접근해보는 저의 연습량에 달렸고, 이 수업을 정규학기에 들어보지 못한 것과 비대면 강의로, 같은 소그룹 멤버들의 코드를 공유하면서 학습하지 못했던 것이 좀 아쉽습니다. \r\n",
        "\r\n",
        "\r\n",
        "\r\n"
      ]
    }
  ]
}