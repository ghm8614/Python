{
  "nbformat": 4,
  "nbformat_minor": 0,
  "metadata": {
    "colab": {
      "name": "6 함수.ipynb",
      "provenance": [],
      "collapsed_sections": [],
      "toc_visible": true,
      "authorship_tag": "ABX9TyMWV6O6x01VAG7LjRC3e80C",
      "include_colab_link": true
    },
    "kernelspec": {
      "name": "python3",
      "display_name": "Python 3"
    }
  },
  "cells": [
    {
      "cell_type": "markdown",
      "metadata": {
        "id": "view-in-github",
        "colab_type": "text"
      },
      "source": [
        "<a href=\"https://colab.research.google.com/github/ghm8614/Python/blob/main/6_%ED%95%A8%EC%88%98.ipynb\" target=\"_parent\"><img src=\"https://colab.research.google.com/assets/colab-badge.svg\" alt=\"Open In Colab\"/></a>"
      ]
    },
    {
      "cell_type": "markdown",
      "metadata": {
        "id": "QAIT-ykYjag4"
      },
      "source": [
        "# 6 함수"
      ]
    },
    {
      "cell_type": "markdown",
      "metadata": {
        "id": "qYvE1AEl8UsV"
      },
      "source": [
        "## 강의내용 정리"
      ]
    },
    {
      "cell_type": "code",
      "metadata": {
        "colab": {
          "base_uri": "https://localhost:8080/"
        },
        "id": "IVMW5RY0urDk",
        "outputId": "815460fa-4d2c-42f0-9b9c-1ae15e954871"
      },
      "source": [
        "def f_a(x,y,z):\r\n",
        "  result = x + y + z\r\n",
        "  return result\r\n",
        "\r\n",
        "result = f_a(10, 20, 30)\r\n",
        "print('result:', result)\r\n",
        "\r\n",
        "#전달인자; 10,20,30\r\n",
        "#매개변수: x, y, z\r\n",
        "#반환: 60\r\n",
        "#출력결과: result:60"
      ],
      "execution_count": null,
      "outputs": [
        {
          "output_type": "stream",
          "text": [
            "result: 60\n"
          ],
          "name": "stdout"
        }
      ]
    },
    {
      "cell_type": "code",
      "metadata": {
        "colab": {
          "base_uri": "https://localhost:8080/"
        },
        "id": "Ii36mR2Eyvfi",
        "outputId": "486b0e72-0145-4759-d927-21fae33c3bdf"
      },
      "source": [
        "def f_b():\r\n",
        "  result = 100 + 200\r\n",
        "  print('result:', result)\r\n",
        "\r\n",
        "result = f_b()\r\n",
        "print('result:', result)\r\n",
        "\r\n",
        "#전달인자; 없음\r\n",
        "#매개변수: 없음\r\n",
        "#반환: 없음\r\n",
        "#출력결과: result: 300\r\n",
        "#          result: None"
      ],
      "execution_count": null,
      "outputs": [
        {
          "output_type": "stream",
          "text": [
            "result: 300\n",
            "result: None\n"
          ],
          "name": "stdout"
        }
      ]
    },
    {
      "cell_type": "markdown",
      "metadata": {
        "id": "FO9Ej-XK7P7L"
      },
      "source": [
        "## 예제 1 : n까지의 합"
      ]
    },
    {
      "cell_type": "code",
      "metadata": {
        "colab": {
          "base_uri": "https://localhost:8080/"
        },
        "id": "II1_y8q2kn4s",
        "outputId": "1b11859a-16ea-4962-a469-d28524276c10"
      },
      "source": [
        "# 10까지의합, 100까지의합, 1000까지의합\r\n",
        "def sum(a):\r\n",
        "  num = 1 \r\n",
        "  total = 0\r\n",
        "  while num <= a :\r\n",
        "    total += num\r\n",
        "    num += 1\r\n",
        "  print('1부터', a, '까지의 합은', total, '입니다.')\r\n",
        "  return total\r\n",
        "\r\n",
        "print(sum(10) + sum(100) + sum(1000))"
      ],
      "execution_count": null,
      "outputs": [
        {
          "output_type": "stream",
          "text": [
            "1부터 10 까지의 합은 55 입니다.\n",
            "1부터 100 까지의 합은 5050 입니다.\n",
            "1부터 1000 까지의 합은 500500 입니다.\n",
            "505605\n"
          ],
          "name": "stdout"
        }
      ]
    },
    {
      "cell_type": "markdown",
      "metadata": {
        "id": "0w57pGnp7p0l"
      },
      "source": [
        "## 예제 1 : 시간 측정 준비(list 유무)"
      ]
    },
    {
      "cell_type": "code",
      "metadata": {
        "colab": {
          "base_uri": "https://localhost:8080/"
        },
        "id": "SLlA8ZeRlWTc",
        "outputId": "0af65b0c-71aa-4934-86dd-cf7e276ed355"
      },
      "source": [
        "import timeit # 실행시간을 측정하는 것과 관련된 모듈\r\n",
        "\r\n",
        "def start():\r\n",
        "  global startTime \r\n",
        "  startTime = timeit.default_timer()\r\n",
        "\r\n",
        "def stop():\r\n",
        "  stopTime = timeit.default_timer()\r\n",
        "  print('Time:', stopTime - startTime)\r\n",
        "\r\n",
        "# 0~9999999까지 더하기 (list()가 있을 때 )\r\n",
        "\r\n",
        "start() # star()함수 호출\r\n",
        "sum = 0\r\n",
        "for num in list(range(10000000)):\r\n",
        "  sum += num\r\n",
        "stop() # stop()함수 호출"
      ],
      "execution_count": null,
      "outputs": [
        {
          "output_type": "stream",
          "text": [
            "Time: 1.4797793099999978\n"
          ],
          "name": "stdout"
        }
      ]
    },
    {
      "cell_type": "code",
      "metadata": {
        "colab": {
          "base_uri": "https://localhost:8080/"
        },
        "id": "tsK9pxsVuJXV",
        "outputId": "dde4ca53-fa9a-4475-c4dc-1c541bfa4ee0"
      },
      "source": [
        "# 시간 측정 준비\r\n",
        "\r\n",
        "import timeit # 실행시간을 측정하는 것과 관련된 모듈\r\n",
        "\r\n",
        "def start():\r\n",
        "  global startTime \r\n",
        "  startTime = timeit.default_timer()\r\n",
        "\r\n",
        "def stop():\r\n",
        "  stopTime = timeit.default_timer()\r\n",
        "  print('Time:', stopTime - startTime)\r\n",
        "\r\n",
        "# 0~9999999까지 더하기 (list()가 없을 때 )\r\n",
        "\r\n",
        "start() # star()함수 호출\r\n",
        "sum = 0\r\n",
        "for num in range(10000000):\r\n",
        "  sum += num\r\n",
        "stop() # stop()함수 호출"
      ],
      "execution_count": null,
      "outputs": [
        {
          "output_type": "stream",
          "text": [
            "Time: 1.131820805000018\n"
          ],
          "name": "stdout"
        }
      ]
    },
    {
      "cell_type": "markdown",
      "metadata": {
        "id": "ephLl1z4jhBY"
      },
      "source": [
        "## 실습 1 : 로그인 프로그램 함수정의"
      ]
    },
    {
      "cell_type": "code",
      "metadata": {
        "id": "iLOV02LCjhOY",
        "colab": {
          "base_uri": "https://localhost:8080/"
        },
        "outputId": "df462ea2-2fb0-4a66-dfe5-1f42ad9f895f"
      },
      "source": [
        "# password라는 인자값을 pwd라는 매개변수에 전달, 둘이 같지 않아도됨.\r\n",
        "# False 일때, while문 실행. True 일때, while문 실행x.\r\n",
        "def login(pwd):\r\n",
        "  if pwd == 'pythonisfun':\r\n",
        "    return True\r\n",
        "  else :\r\n",
        "    return False\r\n",
        "\r\n",
        "password = ''\r\n",
        "while login(password) == False:\r\n",
        "  password = input('암호를 입력하시오:')\r\n",
        "print('로그인 성공')"
      ],
      "execution_count": null,
      "outputs": [
        {
          "output_type": "stream",
          "text": [
            "암호를 입력하시오:dfk\n",
            "암호를 입력하시오:sldk\n",
            "암호를 입력하시오:pythonisfun\n",
            "로그인 성공\n"
          ],
          "name": "stdout"
        }
      ]
    },
    {
      "cell_type": "markdown",
      "metadata": {
        "id": "yUG0StjzjhaT"
      },
      "source": [
        "## 실습 2 : 상품재고관리 프로그램"
      ]
    },
    {
      "cell_type": "code",
      "metadata": {
        "id": "ij-mRdy8midz",
        "colab": {
          "base_uri": "https://localhost:8080/"
        },
        "outputId": "0dc9e767-ceae-42b3-f424-d7b1dc2ecd48"
      },
      "source": [
        "# 삽입할 때, 위치지정. position 변수 선언 어디서??\r\n",
        "def func_insert(a):\r\n",
        "  good.insert(int(position_good), a)\r\n",
        "  print(good)\r\n",
        "\r\n",
        "def func_search(a):\r\n",
        "  if a in good:\r\n",
        "    return True\r\n",
        "  else:\r\n",
        "    return False\r\n",
        "\r\n",
        "def func_delete(a): #전달인자가 있을 경우, 매개변수도 값이 있어야한다. 생략불가.\r\n",
        "  good.remove(a)\r\n",
        "  print(good)\r\n",
        "  print('삭제완료')\r\n",
        "\r\n",
        "print('상품재고관리 프로그램')\r\n",
        "print()\r\n",
        "\r\n",
        "good = '커피, 우유, 바나나, 감귤, 화장지, 장갑, 이불, 베개, 장난감, 음료수, 빵'.split(', ')\r\n",
        "print(good)\r\n",
        "\r\n",
        "while True:\r\n",
        "  select = input('상품관리(1. 삽입, 2.삭제, 3.검색, 4.종료): ')\r\n",
        "  if select == '1':\r\n",
        "    insert_good = input('상품관리1-삽입) 삽입하고자 하는 상품은? ')\r\n",
        "    position_good = input('상품관리1-삽입) 삽입하고자 하는 위치는? ')\r\n",
        "    func_insert(insert_good)\r\n",
        "\r\n",
        "  if select == '2':\r\n",
        "    delete_good = input('상품관리2-삭제) 삭제하고자 하는 상품은? ')\r\n",
        "    if func_search(delete_good) == True:\r\n",
        "        func_delete(delete_good)\r\n",
        "    else:\r\n",
        "      print('삭제하고자 하는 상품이 없습니다.')\r\n",
        "\r\n",
        "  if select == '3':\r\n",
        "    search_good = input('상품관리3-검색) 검색하고자 하는 상품은? ')\r\n",
        "    if func_search(search_good) == True:\r\n",
        "        print('검색완료')\r\n",
        "    else:\r\n",
        "        print('검색하고자 하는 상품이 없습니다.')\r\n",
        "\r\n",
        "  if select == '4':\r\n",
        "    print('프로그램을 종료합니다.')\r\n",
        "    break"
      ],
      "execution_count": 2,
      "outputs": [
        {
          "output_type": "stream",
          "text": [
            "상품재고관리 프로그램\n",
            "\n",
            "['커피', '우유', '바나나', '감귤', '화장지', '장갑', '이불', '베개', '장난감', '음료수', '빵']\n",
            "상품관리(1. 삽입, 2.삭제, 3.검색, 4.종료): 3\n",
            "상품관리3-검색) 검색하고자 하는 상품은? 이불\n",
            "검색완료\n",
            "상품관리(1. 삽입, 2.삭제, 3.검색, 4.종료): 2\n",
            "상품관리2-삭제) 삭제하고자 하는 상품은? 이불\n",
            "['커피', '우유', '바나나', '감귤', '화장지', '장갑', '베개', '장난감', '음료수', '빵']\n",
            "삭제완료\n",
            "상품관리(1. 삽입, 2.삭제, 3.검색, 4.종료): 1\n",
            "상품관리1-삽입) 삽입하고자 하는 상품은? 이불\n",
            "상품관리1-삽입) 삽입하고자 하는 위치는? 2\n",
            "['커피', '우유', '이불', '바나나', '감귤', '화장지', '장갑', '베개', '장난감', '음료수', '빵']\n",
            "상품관리(1. 삽입, 2.삭제, 3.검색, 4.종료): 4\n",
            "프로그램을 종료합니다.\n"
          ],
          "name": "stdout"
        }
      ]
    },
    {
      "cell_type": "markdown",
      "metadata": {
        "id": "NVGpyGYXjxac"
      },
      "source": [
        "## 실습 3 : 함수로 입력 받은 수 까지의 합 구하기"
      ]
    },
    {
      "cell_type": "code",
      "metadata": {
        "colab": {
          "base_uri": "https://localhost:8080/"
        },
        "id": "szxaNx6Kjxl1",
        "outputId": "6edfb3b5-b474-46fb-a8eb-cae9c0c82266"
      },
      "source": [
        "def calc_sum(a):\r\n",
        "  num = 1\r\n",
        "  total = 0\r\n",
        "  while num <= a:\r\n",
        "    total += num\r\n",
        "    num += 1\r\n",
        "  return total #return 들여쓰기 주의. while안에 있으면 안됨.\r\n",
        "\r\n",
        "a = int(input('수 입력: '))\r\n",
        "result = calc_sum(a)\r\n",
        "print(result)"
      ],
      "execution_count": null,
      "outputs": [
        {
          "output_type": "stream",
          "text": [
            "수 입력: 14\n",
            "105\n"
          ],
          "name": "stdout"
        }
      ]
    },
    {
      "cell_type": "markdown",
      "metadata": {
        "id": "GgW6_DRhjxxK"
      },
      "source": [
        "## 실습 4 : 사칙연산 계산하기 (덧셈)"
      ]
    },
    {
      "cell_type": "code",
      "metadata": {
        "colab": {
          "base_uri": "https://localhost:8080/"
        },
        "id": "id2VJVwCjx8b",
        "outputId": "ce48ac63-b566-4730-f815-9de27f4f7775"
      },
      "source": [
        "# 지역변수와 전역변수의 각각의result. 두개의 result는 모양은 같지만 값은 다름!\r\n",
        "def sum(x,y):\r\n",
        "  result = x + y\r\n",
        "  return result #지역변수result\r\n",
        "\r\n",
        "x = int(input('입력 수: '))\r\n",
        "y = int(input('입력 수: '))\r\n",
        "result = sum(x,y)#함수호출과 동시에 전역변수result 설정.\r\n",
        "print(result) #호출"
      ],
      "execution_count": null,
      "outputs": [
        {
          "output_type": "stream",
          "text": [
            "입력 수: 10\n",
            "입력 수: 20\n",
            "30\n"
          ],
          "name": "stdout"
        }
      ]
    },
    {
      "cell_type": "code",
      "metadata": {
        "colab": {
          "base_uri": "https://localhost:8080/"
        },
        "id": "CT_uysMi8pAD",
        "outputId": "6f14c34a-739b-49d9-a2fc-2abdb7ab96d8"
      },
      "source": [
        "# 답안 \r\n",
        "# 1. return에 바로 연산 적용 가능\r\n",
        "# 2. 프린트할때 변수(result)로 리턴값 안받고 출력가능\r\n",
        "def calc_sum(x,y):\r\n",
        "  return x + y\r\n",
        "\r\n",
        "x = int(input('입력 수: '))\r\n",
        "y = int(input('입력 수: '))\r\n",
        "print(calc_sum(x,y)) #호출"
      ],
      "execution_count": null,
      "outputs": [
        {
          "output_type": "stream",
          "text": [
            "입력 수: 10\n",
            "입력 수: 20\n",
            "30\n"
          ],
          "name": "stdout"
        }
      ]
    },
    {
      "cell_type": "markdown",
      "metadata": {
        "id": "6IwWQ7rwNLro"
      },
      "source": [
        "## 실습 5 : 사칙연산 계산하기 (뺄셈)"
      ]
    },
    {
      "cell_type": "code",
      "metadata": {
        "colab": {
          "base_uri": "https://localhost:8080/"
        },
        "id": "yLzyy-YTMf2Z",
        "outputId": "37ebcf60-10e3-44a4-e860-223e647457ea"
      },
      "source": [
        "def subtract(x,y):\r\n",
        "  return x - y\r\n",
        "\r\n",
        "x = int(input('입력 수: '))\r\n",
        "y = int(input('입력 수: '))\r\n",
        "print(subtract(x,y))"
      ],
      "execution_count": null,
      "outputs": [
        {
          "output_type": "stream",
          "text": [
            "입력 수: 10\n",
            "입력 수: 5\n",
            "5\n"
          ],
          "name": "stdout"
        }
      ]
    },
    {
      "cell_type": "markdown",
      "metadata": {
        "id": "4bm3tawsNMYf"
      },
      "source": [
        "## 실습 6 : 사칙연산 계산하기 (곱)"
      ]
    },
    {
      "cell_type": "code",
      "metadata": {
        "colab": {
          "base_uri": "https://localhost:8080/"
        },
        "id": "2IvXPgPXGWHv",
        "outputId": "91c8dd86-c83b-4eb2-ce30-628f27eeb49d"
      },
      "source": [
        "def multi(x,y):\r\n",
        "  result = x * y\r\n",
        "  return result\r\n",
        "\r\n",
        "x = int(input('입력 수: '))\r\n",
        "y = int(input('입력 수: '))\r\n",
        "result = multi(x,y)\r\n",
        "print(result)"
      ],
      "execution_count": null,
      "outputs": [
        {
          "output_type": "stream",
          "text": [
            "100\n",
            "50\n",
            "5000\n"
          ],
          "name": "stdout"
        }
      ]
    },
    {
      "cell_type": "code",
      "metadata": {
        "colab": {
          "base_uri": "https://localhost:8080/"
        },
        "id": "9dkrZ-WA90xz",
        "outputId": "5a9415db-ed80-4e1d-c364-bfb3b382de2f"
      },
      "source": [
        "# 답안\r\n",
        "# 코드의 간결성\r\n",
        "def multi(x,y):\r\n",
        "  return x * y\r\n",
        "\r\n",
        "x = int(input('입력 수: '))\r\n",
        "y = int(input('입력 수: '))\r\n",
        "print(multi(x,y))"
      ],
      "execution_count": null,
      "outputs": [
        {
          "output_type": "stream",
          "text": [
            "입력 수: 10\n",
            "입력 수: 30\n",
            "300\n"
          ],
          "name": "stdout"
        }
      ]
    },
    {
      "cell_type": "markdown",
      "metadata": {
        "id": "mGdXpI4dNNA-"
      },
      "source": [
        "## 실습 7 : 사칙연산 계산하기 (몫)"
      ]
    },
    {
      "cell_type": "code",
      "metadata": {
        "colab": {
          "base_uri": "https://localhost:8080/"
        },
        "id": "G8T3FnJZGWPk",
        "outputId": "9ecbe617-da93-49bf-c92d-0d9279677294"
      },
      "source": [
        "def divide(x,y):\r\n",
        "  result = x / y  # //로하면 정수로 출력됨.\r\n",
        "  return result\r\n",
        "\r\n",
        "x = int(input('입력 수: '))\r\n",
        "y = int(input('입력 수: '))\r\n",
        "result = divide(x,y)\r\n",
        "print(result)"
      ],
      "execution_count": null,
      "outputs": [
        {
          "output_type": "stream",
          "text": [
            "입력 수: 30\n",
            "입력 수: 3\n",
            "10.0\n"
          ],
          "name": "stdout"
        }
      ]
    },
    {
      "cell_type": "markdown",
      "metadata": {
        "id": "PYu2VEvBNNx4"
      },
      "source": [
        "## 실습 8 : 사칙연산 계산하기 "
      ]
    },
    {
      "cell_type": "code",
      "metadata": {
        "colab": {
          "base_uri": "https://localhost:8080/"
        },
        "id": "MFKio2APGWZq",
        "outputId": "78c7d65f-e044-4046-afca-c26f17bc1f9d"
      },
      "source": [
        "def sum(x,y):\r\n",
        "  result = x + y\r\n",
        "  return result\r\n",
        "\r\n",
        "def subtract(x,y):\r\n",
        "  result = x - y\r\n",
        "  return result\r\n",
        "  \r\n",
        "def multi(x,y):\r\n",
        "  result = x * y\r\n",
        "  return result\r\n",
        "\r\n",
        "def divide(x,y):\r\n",
        "  result = x / y\r\n",
        "  return result\r\n",
        "\r\n",
        "x = int(input('입력 수: '))\r\n",
        "y = int(input('입력 수: '))\r\n",
        "operator = input()\r\n",
        "if operator == '+':\r\n",
        "  result = sum(x, y)\r\n",
        "  print(result)\r\n",
        "elif operator == '-':\r\n",
        "  result = subtract(x,y)\r\n",
        "  print(result)\r\n",
        "elif operator == '*':\r\n",
        "  multiple = multi(x,y)\r\n",
        "  print(multiple)\r\n",
        "elif operator == '/':\r\n",
        "  hello = divide(x,y) \r\n",
        "  print(hello)"
      ],
      "execution_count": null,
      "outputs": [
        {
          "output_type": "stream",
          "text": [
            "입력 수: 30\n",
            "입력 수: 20\n",
            "+\n",
            "50\n"
          ],
          "name": "stdout"
        }
      ]
    },
    {
      "cell_type": "code",
      "metadata": {
        "colab": {
          "base_uri": "https://localhost:8080/"
        },
        "id": "mAG4oezl_uU9",
        "outputId": "1a0b49b8-ed0e-43a2-fb77-b9a8185ccbfc"
      },
      "source": [
        "# 답안 \r\n",
        "# 코드의 간결성\r\n",
        "def calc_sum(x,y):\r\n",
        "  return x + y\r\n",
        "\r\n",
        "def calc_subtract(x,y):\r\n",
        "  return x - y\r\n",
        "  \r\n",
        "def calc_multiple(x,y):\r\n",
        "  return x * y\r\n",
        "\r\n",
        "def calc_divide(x,y):\r\n",
        "  return x / y\r\n",
        "\r\n",
        "x = int(input('입력 수: '))\r\n",
        "y = int(input('입력 수: '))\r\n",
        "operator = input()\r\n",
        "if operator == '+':\r\n",
        "  print(calc_sum(x, y))\r\n",
        "elif operator == '-':\r\n",
        "  print(calc_subtract(x,y))\r\n",
        "elif operator == '*':\r\n",
        "  print(calc_multiple(x,y))\r\n",
        "elif operator == '/':\r\n",
        "  print(calc_divide(x,y))\r\n",
        "else :\r\n",
        "  print('잘못된 연산자입니다.')"
      ],
      "execution_count": null,
      "outputs": [
        {
          "output_type": "stream",
          "text": [
            "입력 수: 10\n",
            "입력 수: 2\n",
            "-\n",
            "8\n"
          ],
          "name": "stdout"
        }
      ]
    },
    {
      "cell_type": "markdown",
      "metadata": {
        "id": "18BFXgrRjyIj"
      },
      "source": [
        "## 실습 9 : Dragon realm"
      ]
    },
    {
      "cell_type": "code",
      "metadata": {
        "id": "TQoX7sNPjyVs",
        "colab": {
          "base_uri": "https://localhost:8080/"
        },
        "outputId": "01f6aa31-e7c9-4701-944d-522df3e34cfe"
      },
      "source": [
        "# return 역할 1.값을 함수밖으로 반환  2.함수를 빠져나가는 기능\r\n",
        "import time\r\n",
        "import random\r\n",
        "\r\n",
        "def intro1():\r\n",
        "  print('You are in a land full of dragons.')\r\n",
        "  time.sleep(1)\r\n",
        "  print('In front of you, you see two caves.')\r\n",
        "  time.sleep(1)\r\n",
        "  print('In one cave, the dragon is friendly,')\r\n",
        "  time.sleep(1)\r\n",
        "  print('and will share his treasure with you.')\r\n",
        "  time.sleep(1)\r\n",
        "  print('The other dragon is greedy and hungry,')\r\n",
        "  time.sleep(1)\r\n",
        "  print('and will eat you on sight.')\r\n",
        "  time.sleep(1)\r\n",
        "\r\n",
        "def chooseCave():\r\n",
        "  while True :\r\n",
        "   cave_choice = input('Which cave will you go into? (1 or 2)')\r\n",
        "   if (cave_choice == '1') or (cave_choice == '2') :\r\n",
        "    cave_choice = int(cave_choice)\r\n",
        "    return cave_choice\r\n",
        "\r\n",
        "def intro2():\r\n",
        "  print('You approach the cave...')\r\n",
        "  time.sleep(1)\r\n",
        "  print('It is dark and spooky...')\r\n",
        "  time.sleep(1)\r\n",
        "  print('A large dragon jumps out in front of you!')\r\n",
        "  time.sleep(1)\r\n",
        "  print('He opens his jaws and...')\r\n",
        "  time.sleep(1)\r\n",
        "\r\n",
        "def checkCave(chosenCave):\r\n",
        "  destiny = random.randint(1,2)\r\n",
        "  if destiny == chosenCave:\r\n",
        "    print('Gives you his treasure!')\r\n",
        "  else:\r\n",
        "    print('Gobbles you down in one bite!')\r\n",
        "\r\n",
        "playing_check = 'yes'\r\n",
        "\r\n",
        "while (playing_check == 'yes') or (playing_check == 'y'):\r\n",
        "  intro1()\r\n",
        "  cave_choice = chooseCave()\r\n",
        "  intro2()\r\n",
        "  checkCave(cave_choice)\r\n",
        "  playing_check = input('Do you want to play again?(yes or no)')\r\n",
        "\r\n",
        "print('Thank you!')"
      ],
      "execution_count": 8,
      "outputs": [
        {
          "output_type": "stream",
          "text": [
            "You are in a land full of dragons.\n",
            "In front of you, you see two caves.\n",
            "In one cave, the dragon is friendly,\n",
            "and will share his treasure with you.\n",
            "The other dragon is greedy and hungry,\n",
            "and will eat you on sight.\n",
            "Which cave will you go into? (1 or 2)1\n",
            "You approach the cave...\n",
            "It is dark and spooky...\n",
            "A large dragon jumps out in front of you!\n",
            "He opens his jaws and...\n",
            "Gives you his treasure!\n",
            "Do you want to play again?(yes or no)yes\n",
            "You are in a land full of dragons.\n",
            "In front of you, you see two caves.\n",
            "In one cave, the dragon is friendly,\n",
            "and will share his treasure with you.\n",
            "The other dragon is greedy and hungry,\n",
            "and will eat you on sight.\n",
            "Which cave will you go into? (1 or 2)2\n",
            "You approach the cave...\n",
            "It is dark and spooky...\n",
            "A large dragon jumps out in front of you!\n",
            "He opens his jaws and...\n",
            "Gobbles you down in one bite!\n",
            "Do you want to play again?(yes or no)no\n",
            "Thank you!\n"
          ],
          "name": "stdout"
        }
      ]
    }
  ]
}