{
  "nbformat": 4,
  "nbformat_minor": 0,
  "metadata": {
    "colab": {
      "name": "9 Datascience.ipynb",
      "provenance": [],
      "toc_visible": true,
      "authorship_tag": "ABX9TyNLYwPIBtkwth/2o9oK/dEn",
      "include_colab_link": true
    },
    "kernelspec": {
      "name": "python3",
      "display_name": "Python 3"
    }
  },
  "cells": [
    {
      "cell_type": "markdown",
      "metadata": {
        "id": "view-in-github",
        "colab_type": "text"
      },
      "source": [
        "<a href=\"https://colab.research.google.com/github/ghm8614/Python/blob/main/9_Datascience.ipynb\" target=\"_parent\"><img src=\"https://colab.research.google.com/assets/colab-badge.svg\" alt=\"Open In Colab\"/></a>"
      ]
    },
    {
      "cell_type": "markdown",
      "metadata": {
        "id": "5mK9BZf2XrBa"
      },
      "source": [
        "# 9 Datascience"
      ]
    },
    {
      "cell_type": "markdown",
      "metadata": {
        "id": "B8WfhrC6DfEF"
      },
      "source": [
        "## 데이터 분석의 절차"
      ]
    },
    {
      "cell_type": "markdown",
      "metadata": {
        "id": "MOTCzPBCDsqZ"
      },
      "source": [
        "문제정의 - 전략수집 - 데이터수집 - 데이터분석 - 결과적용"
      ]
    }
  ]
}