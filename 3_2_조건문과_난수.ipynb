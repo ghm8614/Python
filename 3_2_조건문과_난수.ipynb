{
  "nbformat": 4,
  "nbformat_minor": 0,
  "metadata": {
    "colab": {
      "name": "3-2 조건문과 난수.ipynb",
      "provenance": [],
      "collapsed_sections": [],
      "authorship_tag": "ABX9TyOz77dDQf8tEcb2HMFxFdKS",
      "include_colab_link": true
    },
    "kernelspec": {
      "name": "python3",
      "display_name": "Python 3"
    }
  },
  "cells": [
    {
      "cell_type": "markdown",
      "metadata": {
        "id": "view-in-github",
        "colab_type": "text"
      },
      "source": [
        "<a href=\"https://colab.research.google.com/github/ghm8614/Python/blob/main/3_2_%EC%A1%B0%EA%B1%B4%EB%AC%B8%EA%B3%BC_%EB%82%9C%EC%88%98.ipynb\" target=\"_parent\"><img src=\"https://colab.research.google.com/assets/colab-badge.svg\" alt=\"Open In Colab\"/></a>"
      ]
    },
    {
      "cell_type": "markdown",
      "metadata": {
        "id": "czX6o7yF_Tql"
      },
      "source": [
        "# 3-2 조건문, 난수(random number)"
      ]
    },
    {
      "cell_type": "markdown",
      "metadata": {
        "id": "XhC3uqhQ_bqA"
      },
      "source": [
        "## 실습 1 : 합격여부 판단 프로그램 "
      ]
    },
    {
      "cell_type": "code",
      "metadata": {
        "id": "eOccgy1KRfOm",
        "colab": {
          "base_uri": "https://localhost:8080/"
        },
        "outputId": "1f64067d-82d8-4e0a-9c8d-52a7960ce888"
      },
      "source": [
        "print('성적을 입력하시오.')\r\n",
        "score = input()\r\n",
        "score = int(score)\r\n",
        "\r\n",
        "if (score >= 90):\r\n",
        "  print('합격입니다.')\r\n",
        "else:\r\n",
        "  print('불합격입니다.')"
      ],
      "execution_count": null,
      "outputs": [
        {
          "output_type": "stream",
          "text": [
            "성적을 입력하시오.\n",
            "76\n",
            "불합격입니다.\n"
          ],
          "name": "stdout"
        }
      ]
    },
    {
      "cell_type": "markdown",
      "metadata": {
        "id": "Ta_n2o7P_cGU"
      },
      "source": [
        "## 실습 2 : 큰 수/작은 수/ 같은 수 출력"
      ]
    },
    {
      "cell_type": "code",
      "metadata": {
        "id": "bzB29HmlRf5T",
        "colab": {
          "base_uri": "https://localhost:8080/"
        },
        "outputId": "c20d4215-681d-4b78-be72-5e36e73bc1dc"
      },
      "source": [
        "first = input('첫 번째 정수를 입력하시오:')\r\n",
        "second = input('두 번째 정수를 입력하시오:')\r\n",
        "print()\r\n",
        "\r\n",
        "first = int(first)\r\n",
        "second = int(second)\r\n",
        "\r\n",
        "if first < second:\r\n",
        "  print('큰수:', second)\r\n",
        "  print('작은수:', first)\r\n",
        "elif first > second:\r\n",
        "  print('큰수:', first)\r\n",
        "  print('작은수:', second)  \r\n",
        "else:\r\n",
        "  print('두 수는 같습니다.')  "
      ],
      "execution_count": null,
      "outputs": [
        {
          "output_type": "stream",
          "text": [
            "첫 번째 정수를 입력하시오:56\n",
            "두 번째 정수를 입력하시오:24\n",
            "\n",
            "큰수: 56\n",
            "작은수: 24\n"
          ],
          "name": "stdout"
        }
      ]
    },
    {
      "cell_type": "markdown",
      "metadata": {
        "id": "_rN50ANuRgHR"
      },
      "source": [
        "## 실습 3 : 짝수 홀수 검사 프로그램"
      ]
    },
    {
      "cell_type": "code",
      "metadata": {
        "id": "IICHBLsSRgUV",
        "colab": {
          "base_uri": "https://localhost:8080/"
        },
        "outputId": "54b3ff90-3080-4bc2-f1dd-9de39ffc0503"
      },
      "source": [
        "print('숫자를 입력하시오.')\r\n",
        "num = input()\r\n",
        "num = int(num)\r\n",
        "\r\n",
        "# =! 0 을 쓰지 않아도 값이 제대로 출력됨. \r\n",
        "# 컴퓨터에서 (1 = true) (0 = false) \r\n",
        "if (num % 2) != 0: \r\n",
        "  print('홀수입니다.')\r\n",
        "else:\r\n",
        "  print('짝수입니다.')  "
      ],
      "execution_count": null,
      "outputs": [
        {
          "output_type": "stream",
          "text": [
            "숫자를 입력하시오.\n",
            "1\n",
            "홀수입니다.\n"
          ],
          "name": "stdout"
        }
      ]
    },
    {
      "cell_type": "markdown",
      "metadata": {
        "id": "aX93tVSSRnhL"
      },
      "source": [
        "## 실습 4 : BMI 계산 프로그램"
      ]
    },
    {
      "cell_type": "code",
      "metadata": {
        "id": "jivYJVm8Rn1u",
        "colab": {
          "base_uri": "https://localhost:8080/"
        },
        "outputId": "4aceeec2-d4fa-4898-a382-a27d929a66d0"
      },
      "source": [
        "print('몸무게(kg)와 키(m)를 차례대로 입력하세요.')\r\n",
        "weight = input()\r\n",
        "height = input()\r\n",
        "\r\n",
        "# 몸무게와 키는 보통 float 사용\r\n",
        "weight = float(weight)    \r\n",
        "height = float(height)\r\n",
        "\r\n",
        "bmi = weight / (height**2)   # x의y승 = x**y\r\n",
        "print('BMI', \"%.2f\"%bmi)\r\n",
        "\r\n",
        "if bmi > 25:\r\n",
        "  print('비만입니다. 운동으로 감량이 필요합니다.')\r\n",
        "else:\r\n",
        "  print('정상입니다. 꾸준한 운동으로 유지시켜주세요.')  "
      ],
      "execution_count": 1,
      "outputs": [
        {
          "output_type": "stream",
          "text": [
            "몸무게(kg)와 키(m)를 차례대로 입력하세요.\n",
            "50\n",
            "1.6\n",
            "BMI 19.53\n",
            "정상입니다. 꾸준한 운동으로 유지시켜주세요.\n"
          ],
          "name": "stdout"
        }
      ]
    },
    {
      "cell_type": "markdown",
      "metadata": {
        "id": "ltTiRIedRoCM"
      },
      "source": [
        "## 실습 5 : 범위 주고 난수 발생시키기"
      ]
    },
    {
      "cell_type": "code",
      "metadata": {
        "id": "5mUX1bslRoRF"
      },
      "source": [
        "import random\r\n",
        "\r\n",
        "print('범위의 시작 값을 입력하세요.')\r\n",
        "start = input()\r\n",
        "print('범위의 끝 값을 입력하세요.')\r\n",
        "end = input()\r\n",
        "\r\n",
        "start = int(start)\r\n",
        "end = int(end)\r\n",
        "\r\n",
        "num = random.randint(start, end) # 이곳에 위치했을때, 오류\r\n",
        "# 범위가 비정상적인지 아닌지 판단하기도 전에 난수를 발생시킴.\r\n",
        "# if절 뒤에 나와야함\r\n",
        "\r\n",
        "num = str(num)\r\n",
        "start = str(start)\r\n",
        "end = str(end)\r\n",
        "\r\n",
        "print('범위', start + '부터', end + '가운데 선택된 랜덤 넘버는', num + '입니다.')\r\n",
        "\r\n",
        "start = int(start)\r\n",
        "end = int(end)\r\n",
        "\r\n",
        "if start > end:\r\n",
        "  print('끝 값을 잘못 입력하셨습니다.')"
      ],
      "execution_count": null,
      "outputs": []
    },
    {
      "cell_type": "code",
      "metadata": {
        "id": "AETD4gFOXr3S",
        "colab": {
          "base_uri": "https://localhost:8080/"
        },
        "outputId": "3ede4fe8-b738-4a8e-a4c6-245dbc6c6bfe"
      },
      "source": [
        "# 답안\r\n",
        "# 범위가 비정상적인지 아닌지를 먼저 판단하고. 정상일 경우에 randint 사용\r\n",
        "import random\r\n",
        "\r\n",
        "print('범위의 시작 값을 입력하세요.')\r\n",
        "start = input()\r\n",
        "print('범위의 끝 값을 입력하세요.')\r\n",
        "end = input()\r\n",
        "\r\n",
        "start = int(start)\r\n",
        "end = int(end)\r\n",
        "\r\n",
        "if start > end:\r\n",
        "  print('끝 값을 잘못 입력하셨습니다.')\r\n",
        "else :\r\n",
        "  num = random.randint(start, end)\r\n",
        "  num = str(num)\r\n",
        "  start = str(start)\r\n",
        "  end = str(end)\r\n",
        "\r\n",
        "  print('범위 ' + start + '부터 ' + end + '가운데 선택된 랜덤 넘버는 ' + num + '입니다.')\r\n"
      ],
      "execution_count": 3,
      "outputs": [
        {
          "output_type": "stream",
          "text": [
            "범위의 시작 값을 입력하세요.\n",
            "40\n",
            "범위의 끝 값을 입력하세요.\n",
            "50\n",
            "범위 40부터 50가운데 선택된 랜덤 넘버는 41입니다.\n"
          ],
          "name": "stdout"
        }
      ]
    },
    {
      "cell_type": "markdown",
      "metadata": {
        "id": "Ys0Bc7AuR4K6"
      },
      "source": [
        "## 실습 6 : 칼로리 계산기"
      ]
    },
    {
      "cell_type": "code",
      "metadata": {
        "id": "_4kZuGpvR4ar",
        "colab": {
          "base_uri": "https://localhost:8080/"
        },
        "outputId": "bd9ab846-67cd-49e7-c1fc-de98b21458ae"
      },
      "source": [
        "print('칼로리 계산 프로그램')\r\n",
        "print()\r\n",
        "\r\n",
        "weight = input('몸무게(kg):')\r\n",
        "time = input('운동시간(분):')\r\n",
        "sports = input('운동종목(1.걷기, 2.조깅, 3.계단오르기, 4.수영):')\r\n",
        "\r\n",
        "print()\r\n",
        "\r\n",
        "weight = int(weight)\r\n",
        "time = int(time)\r\n",
        "sports = int(sports)    \r\n",
        "\r\n",
        "# if절에 == '1'를 입력하면, sports를 int로 변환할 필요없음\r\n",
        "if sports == 1:\r\n",
        "  kcal = ((4 * 3.5 * weight) / 200) * time\r\n",
        "  print('걷기', str(time) + '분은', str(kcal) + 'kcal가 소모됩니다.')\r\n",
        "elif sports == 2:\r\n",
        "  kcal = ((7 * 3.5 * weight) / 200) * time\r\n",
        "  print('조깅', str(time) + '분은', str(kcal) + 'kcal가 소모됩니다.')\r\n",
        "elif sports == 3:\r\n",
        "  kcal = ((5 * 3.5 * weight) / 200) * time\r\n",
        "  print('계단오르기', str(time) + '분은', str(kcal) + 'kcal가 소모됩니다.')\r\n",
        "elif sports == 4:\r\n",
        "  kcal = ((9 * 3.5 * weight) / 200) * time\r\n",
        "  print('수영', str(time) + '분은', str(kcal) + 'kcal가 소모됩니다.')\r\n",
        "else:\r\n",
        "  print('포함되지 않은 운동종목입니다.')"
      ],
      "execution_count": null,
      "outputs": [
        {
          "output_type": "stream",
          "text": [
            "칼로리 계산 프로그램\n",
            "\n",
            "몸무게(kg):60\n",
            "운동시간(분):10\n",
            "운동종목(1.걷기, 2.조깅, 3.계단오르기, 4.수영):5\n",
            "\n",
            "포함되지 않은 운동종목입니다.\n"
          ],
          "name": "stdout"
        }
      ]
    },
    {
      "cell_type": "markdown",
      "metadata": {
        "id": "erJzTyFkR9Ef"
      },
      "source": [
        "## 실습 7 : 환율 계산기"
      ]
    },
    {
      "cell_type": "code",
      "metadata": {
        "id": "gnvIsSzYR9W9",
        "colab": {
          "base_uri": "https://localhost:8080/"
        },
        "outputId": "e0e447b7-0863-4bc2-febc-5840b96d00eb"
      },
      "source": [
        "print('환율계산 프로그램')\r\n",
        "print()\r\n",
        "money = input('금액을 입력하세요(대한민국 원):')\r\n",
        "country = input('변환대상국을 입력하세요:')\r\n",
        "money = int(money)\r\n",
        "\r\n",
        "if country == '중국':\r\n",
        "  exchange = (money * 0.00084) / 0.15\r\n",
        "  exchange = round(exchange, 2)\r\n",
        "  print('대한민국', str(money) + '원은', country, str(exchange) + '위안입니다.')\r\n",
        "elif country == '일본':\r\n",
        "  exchange = (money * 0.00084) / 0.0094\r\n",
        "  exchange = round(exchange, 2)\r\n",
        "  print('대한민국', str(money) + '원은', country, str(exchange) + '엔입니다.')\r\n",
        "elif country == '필리핀':\r\n",
        "  exchange = (money * 0.00084) / 0.021\r\n",
        "  exchange = round(exchange, 2)\r\n",
        "  print('대한민국', str(money) + '원은', country, str(exchange) + '페소입니다.')\r\n",
        "else :\r\n",
        "  print('죄송합니다. 아직 통화변환 서비스 대상이 아닌 국가입니다.')  "
      ],
      "execution_count": null,
      "outputs": [
        {
          "output_type": "stream",
          "text": [
            "환율계산 프로그램\n",
            "\n",
            "금액을 입력하세요(대한민국 원):5000\n",
            "변환대상국을 입력하세요:중국\n",
            "대한민국 5000원은 중국 28.0위안입니다.\n"
          ],
          "name": "stdout"
        }
      ]
    },
    {
      "cell_type": "markdown",
      "metadata": {
        "id": "yM4KqOK2SIy7"
      },
      "source": [
        "## 실습 8 : 환율 계산기 2\r\n"
      ]
    },
    {
      "cell_type": "code",
      "metadata": {
        "id": "Ik7Lo_4VSJLD",
        "colab": {
          "base_uri": "https://localhost:8080/"
        },
        "outputId": "4d4c4176-dc07-41f0-d325-f5527237c7c8"
      },
      "source": [
        "print('환율계산 프로그램')\r\n",
        "print()\r\n",
        "country1 = input('지정국가:')\r\n",
        "country2 = input('대상국가:')\r\n",
        "amount = input('금액:')\r\n",
        "amount = int(amount)\r\n",
        "\r\n",
        "if (country1 == '대한민국'):\r\n",
        "  rate1 = 0.00084\r\n",
        "  currency1 = '원'\r\n",
        "elif (country1 == '중국'):\r\n",
        "  rate1 = 0.15\r\n",
        "  currency1 = '위안'\r\n",
        "elif (country1 == '일본'):\r\n",
        "  rate1 = 0.0094\r\n",
        "  currency1 = '엔'\r\n",
        "else:\r\n",
        "  rate1 = 0.021\r\n",
        "  currency1 = '페소'\r\n",
        "\r\n",
        "if (country2 == '대한민국'):\r\n",
        "  rate2 = 0.00084\r\n",
        "  currency2 = '원'\r\n",
        "elif (country2 == '중국'):\r\n",
        "  rate2 = 0.15\r\n",
        "  currency2 = '위안'\r\n",
        "elif (country2 == '일본'):\r\n",
        "  rate2 = 0.0094\r\n",
        "  currency2 = '엔'\r\n",
        "else:\r\n",
        "  rate2 = 0.021\r\n",
        "  currency2 = '페소'\r\n",
        "\r\n",
        "exchange = (amount * rate1) / rate2\r\n",
        "exchange = round(exchange, 2)\r\n",
        "\r\n",
        "print(country1 + ' ' + str(amount) + currency1 + '은 ' +\r\n",
        "      country2 + ' ' + str(exchange) + currency2 + '입니다.')"
      ],
      "execution_count": null,
      "outputs": [
        {
          "output_type": "stream",
          "text": [
            "환율계산 프로그램\n",
            "\n",
            "지정국가:대한민국\n",
            "대상국가:중국\n",
            "금액:5000\n",
            "대한민국 5000원은 중국 28.0위안입니다.\n"
          ],
          "name": "stdout"
        }
      ]
    },
    {
      "cell_type": "markdown",
      "metadata": {
        "id": "SA4nbv9USQlw"
      },
      "source": [
        "## 실습 9 : 미세먼지 농도 결과 알려주기"
      ]
    },
    {
      "cell_type": "code",
      "metadata": {
        "id": "ZJKrOP9oSQxt",
        "colab": {
          "base_uri": "https://localhost:8080/"
        },
        "outputId": "6fac7010-055a-4300-d54c-544fe476ae2a"
      },
      "source": [
        "print('미세먼지 농도 결과 알림 프로그램')\r\n",
        "print()\r\n",
        "num = input('오늘의 미세 먼지 농도는? ')\r\n",
        "num = int(num)\r\n",
        "\r\n",
        "if num > 150:\r\n",
        "  print('오늘의 미세먼지는 매우 나쁨입니다.')\r\n",
        "  print('미세먼지 경계 단계입니다!!')\r\n",
        "elif num > 80:\r\n",
        "  print('오늘의 미세먼지는 나쁨입니다.')\r\n",
        "  if num >= 100:\r\n",
        "    print('미세먼지 경계 단계입니다!!')\r\n",
        "elif num > 30:\r\n",
        "  print('오늘의 미세먼지는 보통입니다.')\r\n",
        "else :\r\n",
        "  print('오늘의 미세먼지는 좋음입니다.')      "
      ],
      "execution_count": null,
      "outputs": [
        {
          "output_type": "stream",
          "text": [
            "미세먼지 농도 결과 알림 프로그램\n",
            "\n",
            "오늘의 미세 먼지 농도는? 22\n",
            "오늘의 미세먼지는 좋음입니다.\n"
          ],
          "name": "stdout"
        }
      ]
    },
    {
      "cell_type": "code",
      "metadata": {
        "id": "zaKW9WZqlWmU",
        "colab": {
          "base_uri": "https://localhost:8080/"
        },
        "outputId": "31bcf537-4664-488c-e779-00c511af1203"
      },
      "source": [
        "# 답안\r\n",
        "\r\n",
        "print('미세먼지 농도 결과 알림 프로그램')\r\n",
        "print()\r\n",
        "num = input('오늘의 미세 먼지 농도는? ')\r\n",
        "num = int(num)\r\n",
        "\r\n",
        "if num > 150:\r\n",
        "  print('오늘의 미세먼지는 매우 나쁨입니다.')\r\n",
        "  print('미세먼지 경계 단계입니다!!')\r\n",
        "elif num > 80:\r\n",
        "  print('오늘의 미세먼지는 나쁨입니다.')\r\n",
        "elif num > 30:\r\n",
        "  print('오늘의 미세먼지는 보통입니다.')\r\n",
        "else :\r\n",
        "  print('오늘의 미세먼지는 좋음입니다.')\r\n",
        "        \r\n",
        "# 출력 전, 맨 마지막 작성하면됨. 중간if절 속에 넣을 필요없음.\r\n",
        "if num >= 100:\r\n",
        "  print('미세먼지 경계 단계입니다!!')"
      ],
      "execution_count": 5,
      "outputs": [
        {
          "output_type": "stream",
          "text": [
            "미세먼지 농도 결과 알림 프로그램\n",
            "\n",
            "오늘의 미세 먼지 농도는? 100\n",
            "오늘의 미세먼지는 나쁨입니다.\n",
            "미세먼지 경계 단계입니다!!\n"
          ],
          "name": "stdout"
        }
      ]
    },
    {
      "cell_type": "markdown",
      "metadata": {
        "id": "_GDYH9S0SXh-"
      },
      "source": [
        "## 실습 10 : 합격/불합격 통보"
      ]
    },
    {
      "cell_type": "code",
      "metadata": {
        "id": "E-PoyDNrSXzK",
        "colab": {
          "base_uri": "https://localhost:8080/"
        },
        "outputId": "1c1c86c1-ab47-4dc2-f630-cbdfbd1a26bf"
      },
      "source": [
        "myName = input('당신의 이름은? ')\r\n",
        "l_score = input('국어 점수는? ')\r\n",
        "m_score = input('수학 점수는? ')\r\n",
        "c_score = input('컴퓨팅기초 점수는? ')\r\n",
        "\r\n",
        "l_score = int(l_score)\r\n",
        "m_score = int(m_score)\r\n",
        "c_score = int(c_score)\r\n",
        "\r\n",
        "average = (l_score + m_score + c_score) / 3\r\n",
        "\r\n",
        "if average < 60:\r\n",
        "  print(myName + '님은 불합격..입니다.')\r\n",
        "elif l_score < 40:\r\n",
        "  print(myName + '님은 과락..입니다.')\r\n",
        "elif m_score < 40:  \r\n",
        "    print(myName + '님은 과락..입니다.')\r\n",
        "elif c_score < 40:  \r\n",
        "    print(myName + '님은 과락..입니다.')\r\n",
        "else:\r\n",
        "  print(myName + '님은 합격입니다.')       "
      ],
      "execution_count": null,
      "outputs": [
        {
          "output_type": "stream",
          "text": [
            "당신의 이름은? 천수병\n",
            "국어 점수는? 62\n",
            "수학 점수는? 37\n",
            "컴퓨팅기초 점수는? 68\n",
            "천수병님은 불합격..입니다.\n"
          ],
          "name": "stdout"
        }
      ]
    }
  ]
}